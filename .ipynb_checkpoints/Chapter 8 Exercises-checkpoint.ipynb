{
 "cells": [
  {
   "cell_type": "markdown",
   "id": "f6a2b661",
   "metadata": {},
   "source": [
    "# Chapter 8 Exercises\n",
    "## Algorithm Workbench 3 and 10\n",
    "## Programming Exercises 1, _, _, and _"
   ]
  },
  {
   "cell_type": "markdown",
   "id": "2958342c",
   "metadata": {},
   "source": [
    "### Algorithm Workbench #3\n",
    "Here we are asked to write a loop that counts the number of digits that appear in a string referenced by \"mystring\"."
   ]
  },
  {
   "cell_type": "code",
   "execution_count": 12,
   "id": "5cd7445b",
   "metadata": {},
   "outputs": [
    {
     "name": "stdout",
     "output_type": "stream",
     "text": [
      "The number of digits in the string is:  18\n"
     ]
    }
   ],
   "source": [
    "def main():\n",
    "    \n",
    "    # I made up a string\n",
    "    mystring = \"123456789abcdefghi123456789\"\n",
    "    \n",
    "    # Initialize an accumulator variable, starting at zero\n",
    "    digit_count = 0\n",
    "\n",
    "    # Create a loop to go through each character in the string\n",
    "    for char in mystring:\n",
    "        # Check if the character is a digit using isdigit string testing method\n",
    "        if char.isdigit():\n",
    "            # If this returns true, I want to add 1 to the accumulator variable\n",
    "            digit_count += 1\n",
    "    # I always forget this, but I want to return the value of the digit count!       \n",
    "    return digit_count\n",
    "\n",
    "\n",
    "# I want to call the function and assign what it returned as the digit_count to the variable \"result\"\n",
    "result = main()\n",
    "# Print the results\n",
    "print (\"The number of digits in the string is: \", result)"
   ]
  },
  {
   "cell_type": "markdown",
   "id": "80579a45",
   "metadata": {},
   "source": [
    "### Algorithm Workbench #10\n",
    "Here we are asked to write a statement that splits a given string, to create a given list."
   ]
  },
  {
   "cell_type": "code",
   "execution_count": 16,
   "id": "872dd9f7",
   "metadata": {},
   "outputs": [
    {
     "name": "stdout",
     "output_type": "stream",
     "text": [
      "['cookies', 'milk', 'fudge', 'cake', 'ice cream']\n"
     ]
    }
   ],
   "source": [
    "# Define a function\n",
    "def main():\n",
    "    \n",
    "    # Putting in the string that was in the textbook\n",
    "    mystring = \"cookies>milk>fudge>cake>ice cream\"\n",
    "    \n",
    "    # I want to use the split method using the \">\" as the seperator and create a new list\n",
    "    new_list = mystring.split(\">\")\n",
    "    \n",
    "    # Display the new_list\n",
    "    print (new_list)\n",
    "    \n",
    "# Call the main function\n",
    "if __name__ == \"__main__\":\n",
    "    main()\n",
    "    "
   ]
  },
  {
   "cell_type": "code",
   "execution_count": null,
   "id": "227cf51d",
   "metadata": {},
   "outputs": [],
   "source": []
  }
 ],
 "metadata": {
  "kernelspec": {
   "display_name": "Python 3 (ipykernel)",
   "language": "python",
   "name": "python3"
  },
  "language_info": {
   "codemirror_mode": {
    "name": "ipython",
    "version": 3
   },
   "file_extension": ".py",
   "mimetype": "text/x-python",
   "name": "python",
   "nbconvert_exporter": "python",
   "pygments_lexer": "ipython3",
   "version": "3.11.4"
  }
 },
 "nbformat": 4,
 "nbformat_minor": 5
}
