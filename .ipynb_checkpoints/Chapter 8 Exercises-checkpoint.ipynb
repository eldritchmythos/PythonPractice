{
 "cells": [
  {
   "cell_type": "markdown",
   "id": "20fffc5d",
   "metadata": {},
   "source": [
    "# Chapter 8 Exercises\n",
    "## Algorithm Workbench 3 and 10\n",
    "## Programming Exercises 1, _, _, and _"
   ]
  },
  {
   "cell_type": "markdown",
   "id": "eedf37e6",
   "metadata": {},
   "source": [
    "### Algorithm Workbench #3\n",
    "Here we are asked to write a loop that counts the number of digits that appear in a string referenced by \"mystring\"."
   ]
  },
  {
   "cell_type": "code",
   "execution_count": null,
   "id": "7c2aa189",
   "metadata": {},
   "outputs": [],
   "source": [
    "def main():\n",
    "    \n",
    "# I made up a string\n",
    "mystring = \"123456789abcdefghi123456789\"\n",
    "\n",
    "# Initialize an accumulator variable, starting at zero\n",
    "digit_count = 0\n",
    "\n",
    "# Create a loop to go through each character in the string\n",
    "for char in mystring:\n",
    "    # Check if the character is a digit using isdigit string testing method\n",
    "    if char.isdigit():\n",
    "        # If this returns true, I want to add 1 to the accumulator variable\n",
    "        digit_count += 1\n",
    "# I always forget this, but I want to return the value of the digit count        \n",
    "return digit_count"
   ]
  }
 ],
 "metadata": {
  "kernelspec": {
   "display_name": "Python 3 (ipykernel)",
   "language": "python",
   "name": "python3"
  },
  "language_info": {
   "codemirror_mode": {
    "name": "ipython",
    "version": 3
   },
   "file_extension": ".py",
   "mimetype": "text/x-python",
   "name": "python",
   "nbconvert_exporter": "python",
   "pygments_lexer": "ipython3",
   "version": "3.11.4"
  }
 },
 "nbformat": 4,
 "nbformat_minor": 5
}
