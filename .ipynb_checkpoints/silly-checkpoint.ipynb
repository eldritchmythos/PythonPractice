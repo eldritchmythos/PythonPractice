{
 "cells": [
  {
   "cell_type": "code",
   "execution_count": 4,
   "id": "f7465cb0",
   "metadata": {},
   "outputs": [
    {
     "name": "stdout",
     "output_type": "stream",
     "text": [
      "What is the employee's name? Eldritch\n",
      "What is the employee's number? 13\n",
      "Which shift does Eldritch work? Enter 1 for day and 2 for night. 2\n",
      "Enter the hourly rate Eldritch earns.1001.10\n",
      "Employee's Name:  Eldritch\n",
      "Employee's Number:  13\n",
      "Employee's Shift:  2\n",
      "Employee's Hourly Rate:  1001.1\n"
     ]
    }
   ],
   "source": [
    "import employee\n",
    "\n",
    "# define the main function\n",
    "\n",
    "def main():\n",
    "    \n",
    "    emp_name = input(\"What is the employee's name? \")\n",
    "    emp_num = input(\"What is the employee's number? \")\n",
    "    shift = int(input(f\"Which shift does {emp_name} work? Enter 1 for day and 2 for night. \"))\n",
    "    hourly_pay = float(input(f\"Enter the hourly rate {emp_name} earns.\"))\n",
    "    \n",
    "      #Create an object from the productionworker subclass\n",
    "    employee_1 = employee.ProductionWorker(emp_name, emp_num, shift, hourly_pay)\n",
    "    \n",
    "    print(\"Employee's Name: \", employee_1.get_emp_name())\n",
    "    print(\"Employee's Number: \", employee_1.get_emp_num())\n",
    "    print(\"Employee's Shift: \", employee_1.get_shift())\n",
    "    print(\"Employee's Hourly Rate: \", employee_1.get_hourly_pay())\n",
    "    \n",
    "if __name__ == \"__main__\":\n",
    "    main()\n"
   ]
  },
  {
   "cell_type": "code",
   "execution_count": null,
   "id": "48a30bf8",
   "metadata": {},
   "outputs": [],
   "source": []
  }
 ],
 "metadata": {
  "kernelspec": {
   "display_name": "Python 3 (ipykernel)",
   "language": "python",
   "name": "python3"
  },
  "language_info": {
   "codemirror_mode": {
    "name": "ipython",
    "version": 3
   },
   "file_extension": ".py",
   "mimetype": "text/x-python",
   "name": "python",
   "nbconvert_exporter": "python",
   "pygments_lexer": "ipython3",
   "version": "3.11.4"
  }
 },
 "nbformat": 4,
 "nbformat_minor": 5
}
