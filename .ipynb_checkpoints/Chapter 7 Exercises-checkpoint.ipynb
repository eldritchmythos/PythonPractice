{
 "cells": [
  {
   "cell_type": "markdown",
   "id": "06dea2cb",
   "metadata": {},
   "source": [
    "# Chapter 7 Exercises\n",
    "## Algorithm Workbench _ and _\n",
    "## Programming Exercises 1,14, _ and _"
   ]
  },
  {
   "cell_type": "markdown",
   "id": "e99cc1d2",
   "metadata": {},
   "source": [
    "### Algorithm Workbench 1 and 2\n",
    "In the first question we are asked to write a list with four specific strings, in the second quesion it asks us to write a for loop that displays each element of the list."
   ]
  },
  {
   "cell_type": "code",
   "execution_count": 3,
   "id": "d53a0f7f",
   "metadata": {},
   "outputs": [
    {
     "name": "stdout",
     "output_type": "stream",
     "text": [
      "Einstein\n",
      "Newton\n",
      "Copernicus\n",
      "Kepler\n"
     ]
    }
   ],
   "source": [
    "def main():\n",
    "    names = [\"Einstein\", \"Newton\", \"Copernicus\", \"Kepler\"]\n",
    "    \n",
    "    for item in names:\n",
    "        print (item)   \n",
    "        \n",
    "        \n",
    "main()"
   ]
  },
  {
   "cell_type": "markdown",
   "id": "89a85487",
   "metadata": {},
   "source": [
    "### Programming Exercise 1 Total Sales\n",
    "Here we are asked to design a program that asks the user to enter the store's sales for each day of the week, store those values in a list, and use a loop to calculate the total sales for the week and display the result."
   ]
  },
  {
   "cell_type": "code",
   "execution_count": null,
   "id": "822bcc61",
   "metadata": {},
   "outputs": [],
   "source": []
  }
 ],
 "metadata": {
  "kernelspec": {
   "display_name": "Python 3 (ipykernel)",
   "language": "python",
   "name": "python3"
  },
  "language_info": {
   "codemirror_mode": {
    "name": "ipython",
    "version": 3
   },
   "file_extension": ".py",
   "mimetype": "text/x-python",
   "name": "python",
   "nbconvert_exporter": "python",
   "pygments_lexer": "ipython3",
   "version": "3.11.4"
  }
 },
 "nbformat": 4,
 "nbformat_minor": 5
}
