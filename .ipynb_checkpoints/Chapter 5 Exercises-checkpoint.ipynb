{
 "cells": [
  {
   "cell_type": "markdown",
   "id": "6e7ef070",
   "metadata": {},
   "source": [
    "# Chapter 5 Exercises\n",
    "## Algorithm Workbench Ex. 1, 9, and _\n",
    "I chose these two questions because I was reading through the questions and thought this was a repeat/typo initially, so I'm going to work through them both because I want to find out how they are different from each other. I think I'll also do an extra question from here as well, for more practice."
   ]
  },
  {
   "cell_type": "markdown",
   "id": "d857c4d5",
   "metadata": {},
   "source": [
    "### Algorithm Workbench Ex. 1\n",
    "Write a function named times_ten, the function should accept an argument and display the product of its argument multiplied times 10."
   ]
  },
  {
   "cell_type": "code",
   "execution_count": 1,
   "id": "771a0fee",
   "metadata": {},
   "outputs": [
    {
     "name": "stdout",
     "output_type": "stream",
     "text": [
      "80\n"
     ]
    }
   ],
   "source": [
    "#define the function named times_ten\n",
    "def times_ten(number):\n",
    "    #multiply the number by 10, I stored it in the variable answer\n",
    "    answer = number * 10\n",
    "    #display the result\n",
    "    print(answer)\n",
    "\n",
    "#call the function times_ten, put in a number and see if it works.\n",
    "times_ten(8)"
   ]
  },
  {
   "cell_type": "code",
   "execution_count": 2,
   "id": "b3da1151",
   "metadata": {},
   "outputs": [
    {
     "name": "stdout",
     "output_type": "stream",
     "text": [
      "4000\n"
     ]
    }
   ],
   "source": [
    "times_ten(400)"
   ]
  },
  {
   "cell_type": "markdown",
   "id": "809c82e9",
   "metadata": {},
   "source": [
    "So from here actually, I think I am seeing why the two questions are different, so if I just did the first question it would end here, just displaying a result but if I do question 9, its taking this function a step further by returning a result. So the first question is asking for a void function and the second question is asking for a value returning function. Ok, cool.\n",
    "\n",
    "### Algorithm Workbench Ex. 9\n",
    "Write a function named times_ten, that accepts a number as an argument. When the function is called, it should __return__ the value of its argument multiplied by 10."
   ]
  },
  {
   "cell_type": "code",
   "execution_count": 4,
   "id": "64de3811",
   "metadata": {},
   "outputs": [
    {
     "name": "stdout",
     "output_type": "stream",
     "text": [
      "Please enter a number to be multiplied by ten: 10\n",
      "100\n"
     ]
    }
   ],
   "source": [
    "#define the function named times_ten\n",
    "def times_ten(number):\n",
    "    #multiply the number by 10, I stored it in the variable result\n",
    "    result = number * 10\n",
    "    #display the result\n",
    "    return result\n",
    "\n",
    "# I feel like asking the user for a number.\n",
    "user_input = int(input(\"Please enter a number to be multiplied by ten: \"))\n",
    "\n",
    "#call the function times_ten with input from the user, and store the result\n",
    "result = times_ten(user_input)\n",
    "\n",
    "#display the result\n",
    "print (result)"
   ]
  },
  {
   "cell_type": "code",
   "execution_count": null,
   "id": "75660fee",
   "metadata": {},
   "outputs": [],
   "source": []
  }
 ],
 "metadata": {
  "kernelspec": {
   "display_name": "Python 3 (ipykernel)",
   "language": "python",
   "name": "python3"
  },
  "language_info": {
   "codemirror_mode": {
    "name": "ipython",
    "version": 3
   },
   "file_extension": ".py",
   "mimetype": "text/x-python",
   "name": "python",
   "nbconvert_exporter": "python",
   "pygments_lexer": "ipython3",
   "version": "3.11.4"
  }
 },
 "nbformat": 4,
 "nbformat_minor": 5
}
