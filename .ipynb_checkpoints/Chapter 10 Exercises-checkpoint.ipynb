{
 "cells": [
  {
   "cell_type": "markdown",
   "id": "a23419c9",
   "metadata": {},
   "source": [
    "# Chapter 10 Programming Exercises\n",
    "## Problems 1 and \n",
    "\n",
    "### Programming Question #1: Pet Class\n",
    "\n",
    "Write a class named Pet, which should have the following data attributes:\n",
    "<br>• _ _name (for the name of a pet)\n",
    "<br>• _ _animal_type (for the type of animal that a pet is. Example values are ‘Dog’, ‘Cat’,\n",
    "and ‘Bird’)\n",
    "<br>• _ _age (for the pet’s age)\n",
    "<br>The Pet class should have an _ _ init_ _ method that creates these attributes. It should also\n",
    "have the following methods:\n",
    "<br>• set_name\n",
    "This method assigns a value to the _ _name field.\n",
    "<br>• set_animal_type\n",
    "This method assigns a value to the _ _animal_type field.\n",
    "<br>• set_age\n",
    "This method assigns a value to the _ _age field.\n",
    "<br>• get_name\n",
    "This method returns the value of the _ _ name field.\n",
    "<br>• get_animal_type\n",
    "This method returns the value of the _ _animal_type field.\n",
    "<br>• get_age\n",
    "This method returns the value of the _ _age field.\n",
    "<br>Once you have written the class, write a program that creates an object of the class and\n",
    "prompts the user to enter the name, type, and age of his or her pet. This data should be\n",
    "stored as the object’s attributes. Use the object’s accessor methods to retrieve the pet’s\n",
    "name, type, and age and display this data on the screen."
   ]
  },
  {
   "cell_type": "code",
   "execution_count": 2,
   "id": "ccfea120",
   "metadata": {},
   "outputs": [
    {
     "name": "stdout",
     "output_type": "stream",
     "text": [
      "What is your pet's name? Nanook\n",
      "What type of pet do you have? Dog\n",
      "What age is your pet? 8\n",
      "Pet's name:  Nanook\n",
      "Pet type:  Dog\n",
      "Pet age:  8\n"
     ]
    }
   ],
   "source": [
    "# import the module of the class we created\n",
    "import pet\n",
    "\n",
    "# define the main function\n",
    "def main():\n",
    "    \n",
    "    # Initialize variables for the pets information by asking the user for input\n",
    "    name = input(\"What is your pet's name? \")\n",
    "    animal_type = input(\"What type of pet do you have? \")\n",
    "    age = int(input(\"What age is your pet? \"))\n",
    "    \n",
    "    \n",
    "    # create an object from the class using the input gathered from the user\n",
    "    my_pet = pet.Pet(name, animal_type, age)\n",
    "    \n",
    "    \n",
    "    # display the pet's data\n",
    "    print (\"Pet's name: \", my_pet.get_name())\n",
    "    print (\"Pet type: \", my_pet.get_animal_type())\n",
    "    print (\"Pet age: \", my_pet.get_age())\n",
    "    \n",
    "# call the main function\n",
    "main()\n"
   ]
  },
  {
   "cell_type": "markdown",
   "id": "88cc572b",
   "metadata": {},
   "source": []
  }
 ],
 "metadata": {
  "kernelspec": {
   "display_name": "Python 3 (ipykernel)",
   "language": "python",
   "name": "python3"
  },
  "language_info": {
   "codemirror_mode": {
    "name": "ipython",
    "version": 3
   },
   "file_extension": ".py",
   "mimetype": "text/x-python",
   "name": "python",
   "nbconvert_exporter": "python",
   "pygments_lexer": "ipython3",
   "version": "3.11.4"
  }
 },
 "nbformat": 4,
 "nbformat_minor": 5
}
