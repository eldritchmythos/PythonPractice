{
 "cells": [
  {
   "cell_type": "markdown",
   "id": "aa38c31e",
   "metadata": {},
   "source": [
    "# Chapter 10 Programming Exercises\n",
    "## Problems 1 and 2\n",
    "\n",
    "### Programming Question #1: Pet Class\n",
    "\n",
    "Write a class named Pet, which should have the following data attributes:\n",
    "<br>• _ _name (for the name of a pet)\n",
    "<br>• _ _animal_type (for the type of animal that a pet is. Example values are ‘Dog’, ‘Cat’,\n",
    "and ‘Bird’)\n",
    "<br>• _ _age (for the pet’s age)\n",
    "<br>The Pet class should have an _ _ init_ _ method that creates these attributes. It should also\n",
    "have the following methods:\n",
    "<br>• set_name\n",
    "This method assigns a value to the _ _name field.\n",
    "<br>• set_animal_type\n",
    "This method assigns a value to the _ _animal_type field.\n",
    "<br>• set_age\n",
    "This method assigns a value to the _ _age field.\n",
    "<br>• get_name\n",
    "This method returns the value of the _ _ name field.\n",
    "<br>• get_animal_type\n",
    "This method returns the value of the _ _animal_type field.\n",
    "<br>• get_age\n",
    "This method returns the value of the _ _age field.\n",
    "<br>Once you have written the class, write a program that creates an object of the class and\n",
    "prompts the user to enter the name, type, and age of his or her pet. This data should be\n",
    "stored as the object’s attributes. Use the object’s accessor methods to retrieve the pet’s\n",
    "name, type, and age and display this data on the screen."
   ]
  },
  {
   "cell_type": "code",
   "execution_count": 7,
   "id": "96174c6c",
   "metadata": {},
   "outputs": [
    {
     "name": "stdout",
     "output_type": "stream",
     "text": [
      "What is your pet's name? Nanook\n",
      "What type of pet do you have? DOg\n",
      "What age is your pet? 8\n",
      "Pet's name:  Nanook\n",
      "Pet type:  DOg\n",
      "Pet age:  8\n",
      "Type updated pet name: Nanook\n",
      "Your pet's updated name:  Nanook\n"
     ]
    }
   ],
   "source": [
    "# import the module of the class we created\n",
    "import pet\n",
    "\n",
    "# define the main function\n",
    "def main():\n",
    "    \n",
    "    # Initialize variables for the pets information by asking the user for input\n",
    "    name = input(\"What is your pet's name? \")\n",
    "    animal_type = input(\"What type of pet do you have? \")\n",
    "    age = int(input(\"What age is your pet? \"))\n",
    "    \n",
    "    # create an object from the class using the input gathered from the user\n",
    "    my_pet = pet.Pet(name, animal_type, age)\n",
    "    \n",
    "    # display the pet's data\n",
    "    print (\"Pet's name: \", my_pet.get_name())\n",
    "    print (\"Pet type: \", my_pet.get_animal_type())\n",
    "    print (\"Pet age: \", my_pet.get_age())\n",
    "    \n",
    "    # I just wanted to play with updating the name to a nickname for this object\n",
    "    my_pet.set_name(input(\"Type updated pet name: \"))\n",
    "    print (\"Your pet's updated name: \", my_pet.get_name())\n",
    "\n",
    "# call the main function\n",
    "main()\n"
   ]
  },
  {
   "cell_type": "markdown",
   "id": "c807272b",
   "metadata": {},
   "source": [
    "### Programming Exercise 2\n",
    "In this exercise we are asked to:\n",
    "<br>Write a class named Car that has the following data attributes:\n",
    "<br>• _ _year_model (for the car’s year model)\n",
    "<br>• _ _make (for the make of the car)\n",
    "<br>• _ _speed (for the car’s current speed)\n",
    "<br>The Car class should have an _ _init_ _ method that accepts the car’s year model and\n",
    "make as arguments. These values should be assigned to the object’s _ _year_model and\n",
    "_ _make data attributes. It should also assign 0 to the _ _speed data attribute.\n",
    "<br>The class should also have the following methods:\n",
    "<br>• accelerate\n",
    "The accelerate method should add 5 to the speed data attribute each time it is called.\n",
    "<br>• brake\n",
    "The brake method should subtract 5 from the speed data attribute each time it is called.\n",
    "<br>• get_speed\n",
    "The get_speed method should return the current speed.\n",
    "<br>Next, design a program that creates a Car object then calls the accelerate method five\n",
    "times. After each call to the accelerate method, get the current speed of the car and dis-\n",
    "play it. Then call the brake method five times. After each call to the brake method, get the\n",
    "current speed of the car and display it."
   ]
  },
  {
   "cell_type": "code",
   "execution_count": 5,
   "id": "3a6572c0",
   "metadata": {},
   "outputs": [
    {
     "name": "stdout",
     "output_type": "stream",
     "text": [
      "The speed of your 2007 Rav 4, Toyota is 5 mph.\n",
      "The speed of your 2007 Rav 4, Toyota is 10 mph.\n",
      "The speed of your 2007 Rav 4, Toyota is 15 mph.\n",
      "The speed of your 2007 Rav 4, Toyota is 20 mph.\n",
      "The speed of your 2007 Rav 4, Toyota is 25 mph.\n",
      "The speed of your 2007 Rav 4, Toyota is 20 mph.\n",
      "The speed of your 2007 Rav 4, Toyota is 15 mph.\n",
      "The speed of your 2007 Rav 4, Toyota is 10 mph.\n",
      "The speed of your 2007 Rav 4, Toyota is 5 mph.\n",
      "The speed of your 2007 Rav 4, Toyota is 0 mph.\n"
     ]
    }
   ],
   "source": [
    "# import the car class\n",
    "import car\n",
    "\n",
    "# define the main function\n",
    "def main():\n",
    "    # create an object from the Car class\n",
    "    my_car = car.Car(\"2007 Rav 4\", \"Toyota\")\n",
    "    \n",
    "    # call the accelerate method 5 times, between each call get the current speed of the car\n",
    "    # and display it\n",
    "    for i in range(1,6):    \n",
    "        my_car.accelerate()\n",
    "        print(f\"The speed of your {my_car.get_year_model()}, {my_car.get_make()} is {my_car.get_speed()} mph.\")\n",
    "    \n",
    "   \n",
    "    # then call the brake method 5 times, getting the current speed between each call and \n",
    "    # displaying it\n",
    "    for i in range(1,6):\n",
    "        my_car.brake()\n",
    "        print(f\"The speed of your {my_car.get_year_model()}, {my_car.get_make()} is {my_car.get_speed()} mph.\")\n",
    "    \n",
    "# call the main function\n",
    "main()\n",
    "\n"
   ]
  }
 ],
 "metadata": {
  "kernelspec": {
   "display_name": "Python 3 (ipykernel)",
   "language": "python",
   "name": "python3"
  },
  "language_info": {
   "codemirror_mode": {
    "name": "ipython",
    "version": 3
   },
   "file_extension": ".py",
   "mimetype": "text/x-python",
   "name": "python",
   "nbconvert_exporter": "python",
   "pygments_lexer": "ipython3",
   "version": "3.11.4"
  }
 },
 "nbformat": 4,
 "nbformat_minor": 5
}
