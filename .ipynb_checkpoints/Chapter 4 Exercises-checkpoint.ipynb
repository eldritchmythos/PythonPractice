{
 "cells": [
  {
   "cell_type": "markdown",
   "id": "7bc7a047",
   "metadata": {},
   "source": [
    "# Chapter 4 Exercises\n",
    "## Algorithm Workbench 3 and 8"
   ]
  },
  {
   "cell_type": "markdown",
   "id": "c0ba0c0e",
   "metadata": {},
   "source": [
    "### Algorithm Workbench 3\n",
    "We are asked to write a \"for\" loop that displays numbers from 0 to 1000 in increments of 10."
   ]
  },
  {
   "cell_type": "code",
   "execution_count": null,
   "id": "1bc61211",
   "metadata": {},
   "outputs": [],
   "source": []
  }
 ],
 "metadata": {
  "kernelspec": {
   "display_name": "Python 3 (ipykernel)",
   "language": "python",
   "name": "python3"
  },
  "language_info": {
   "codemirror_mode": {
    "name": "ipython",
    "version": 3
   },
   "file_extension": ".py",
   "mimetype": "text/x-python",
   "name": "python",
   "nbconvert_exporter": "python",
   "pygments_lexer": "ipython3",
   "version": "3.11.4"
  }
 },
 "nbformat": 4,
 "nbformat_minor": 5
}
