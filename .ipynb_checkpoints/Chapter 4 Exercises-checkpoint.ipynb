{
 "cells": [
  {
   "cell_type": "markdown",
   "id": "2fdfa0bf",
   "metadata": {},
   "source": [
    "# Chapter 4 Exercises\n",
    "## Algorithm Workbench 3 and 8"
   ]
  },
  {
   "cell_type": "markdown",
   "id": "7af2a8f5",
   "metadata": {},
   "source": [
    "### Algorithm Workbench 3\n",
    "We are asked to write a \"for\" loop that displays numbers from 0 to 1000 in increments of 10."
   ]
  },
  {
   "cell_type": "code",
   "execution_count": 5,
   "id": "22e76362",
   "metadata": {},
   "outputs": [
    {
     "name": "stdout",
     "output_type": "stream",
     "text": [
      "0\n",
      "10\n",
      "20\n",
      "30\n",
      "40\n",
      "50\n",
      "60\n",
      "70\n",
      "80\n",
      "90\n",
      "100\n",
      "110\n",
      "120\n",
      "130\n",
      "140\n",
      "150\n",
      "160\n",
      "170\n",
      "180\n",
      "190\n",
      "200\n",
      "210\n",
      "220\n",
      "230\n",
      "240\n",
      "250\n",
      "260\n",
      "270\n",
      "280\n",
      "290\n",
      "300\n",
      "310\n",
      "320\n",
      "330\n",
      "340\n",
      "350\n",
      "360\n",
      "370\n",
      "380\n",
      "390\n",
      "400\n",
      "410\n",
      "420\n",
      "430\n",
      "440\n",
      "450\n",
      "460\n",
      "470\n",
      "480\n",
      "490\n",
      "500\n",
      "510\n",
      "520\n",
      "530\n",
      "540\n",
      "550\n",
      "560\n",
      "570\n",
      "580\n",
      "590\n",
      "600\n",
      "610\n",
      "620\n",
      "630\n",
      "640\n",
      "650\n",
      "660\n",
      "670\n",
      "680\n",
      "690\n",
      "700\n",
      "710\n",
      "720\n",
      "730\n",
      "740\n",
      "750\n",
      "760\n",
      "770\n",
      "780\n",
      "790\n",
      "800\n",
      "810\n",
      "820\n",
      "830\n",
      "840\n",
      "850\n",
      "860\n",
      "870\n",
      "880\n",
      "890\n",
      "900\n",
      "910\n",
      "920\n",
      "930\n",
      "940\n",
      "950\n",
      "960\n",
      "970\n",
      "980\n",
      "990\n"
     ]
    }
   ],
   "source": [
    "#Initiate a for loop, create the variable num, and use the range given in\n",
    "#the question with a step size of 10\n",
    "\n",
    "for num in range (0,1000,10):\n",
    "    print (num)\n",
    "#print inside the loop so the num variable updates in steps of 10 it will print\n",
    "#for as long as it's within the range"
   ]
  },
  {
   "cell_type": "code",
   "execution_count": 7,
   "id": "a9453804",
   "metadata": {},
   "outputs": [
    {
     "name": "stdout",
     "output_type": "stream",
     "text": [
      "0\n",
      "10\n",
      "20\n",
      "30\n",
      "40\n",
      "50\n",
      "60\n",
      "70\n",
      "80\n",
      "90\n",
      "100\n",
      "110\n",
      "120\n",
      "130\n",
      "140\n",
      "150\n",
      "160\n",
      "170\n",
      "180\n",
      "190\n",
      "200\n",
      "210\n",
      "220\n",
      "230\n",
      "240\n",
      "250\n",
      "260\n",
      "270\n",
      "280\n",
      "290\n",
      "300\n",
      "310\n",
      "320\n",
      "330\n",
      "340\n",
      "350\n",
      "360\n",
      "370\n",
      "380\n",
      "390\n",
      "400\n",
      "410\n",
      "420\n",
      "430\n",
      "440\n",
      "450\n",
      "460\n",
      "470\n",
      "480\n",
      "490\n",
      "500\n",
      "510\n",
      "520\n",
      "530\n",
      "540\n",
      "550\n",
      "560\n",
      "570\n",
      "580\n",
      "590\n",
      "600\n",
      "610\n",
      "620\n",
      "630\n",
      "640\n",
      "650\n",
      "660\n",
      "670\n",
      "680\n",
      "690\n",
      "700\n",
      "710\n",
      "720\n",
      "730\n",
      "740\n",
      "750\n",
      "760\n",
      "770\n",
      "780\n",
      "790\n",
      "800\n",
      "810\n",
      "820\n",
      "830\n",
      "840\n",
      "850\n",
      "860\n",
      "870\n",
      "880\n",
      "890\n",
      "900\n",
      "910\n",
      "920\n",
      "930\n",
      "940\n",
      "950\n",
      "960\n",
      "970\n",
      "980\n",
      "990\n",
      "1000\n"
     ]
    }
   ],
   "source": [
    "#that was wrong because the question asks specifically for the number 1000 to\n",
    "#be displayed so I have to adjust my range\n",
    "\n",
    "for num in range (0,1001,10):\n",
    "    print (num)            "
   ]
  },
  {
   "cell_type": "markdown",
   "id": "768b4fa5",
   "metadata": {},
   "source": [
    "### Algorithm Workbench 8\n",
    "We are asked to prompt the user for a positive nonzero number and validate the input"
   ]
  },
  {
   "cell_type": "code",
   "execution_count": 10,
   "id": "2576b1dd",
   "metadata": {},
   "outputs": [
    {
     "name": "stdout",
     "output_type": "stream",
     "text": [
      "Please enter a positive nonzero number: 0\n",
      "Please enter a positive nonzero number: -1\n",
      "Please enter a positive nonzero number: -500\n",
      "Please enter a positive nonzero number: 25\n"
     ]
    }
   ],
   "source": [
    "#ask the user for input and assign it to the variable \"num\"\n",
    "num = float (input (\"Please enter a positive nonzero number: \"))\n",
    "\n",
    "#check to see if the input is less than or equal to zero\n",
    "while num <= 0:\n",
    "    num = float (input (\"Please enter a positive nonzero number: \"))"
   ]
  },
  {
   "cell_type": "markdown",
   "id": "9a29849a",
   "metadata": {},
   "source": [
    "Ok, tested some numbers, and everything seems to be validating fine. I haven't tried any letters but I'm not sure how to limit that input? \n",
    "Also I want to try to include a message for when you get a valid answer."
   ]
  },
  {
   "cell_type": "code",
   "execution_count": 11,
   "id": "920d3a64",
   "metadata": {},
   "outputs": [
    {
     "name": "stdout",
     "output_type": "stream",
     "text": [
      "Please enter a positive nonzero number: 12\n",
      "You have input 12.0, a valid number.\n"
     ]
    }
   ],
   "source": [
    "#ask the user for input and assign it to the variable \"num\"\n",
    "num = float (input (\"Please enter a positive nonzero number: \"))\n",
    "\n",
    "#check to see if the input is less than or equal to zero\n",
    "while num <= 0:\n",
    "    num = float (input (\"Please enter a positive nonzero number: \"))\n",
    "    \n",
    "#display the valid input with a message to the user.\n",
    "else:\n",
    "    print (f\"You have input {num}, a valid number.\")"
   ]
  },
  {
   "cell_type": "code",
   "execution_count": 12,
   "id": "4410d970",
   "metadata": {},
   "outputs": [
    {
     "name": "stdout",
     "output_type": "stream",
     "text": [
      "Please enter a positive nonzero number: lalala\n"
     ]
    },
    {
     "ename": "ValueError",
     "evalue": "could not convert string to float: 'lalala'",
     "output_type": "error",
     "traceback": [
      "\u001b[1;31m---------------------------------------------------------------------------\u001b[0m",
      "\u001b[1;31mValueError\u001b[0m                                Traceback (most recent call last)",
      "Cell \u001b[1;32mIn[12], line 2\u001b[0m\n\u001b[0;32m      1\u001b[0m \u001b[38;5;66;03m#ask the user for input and assign it to the variable \"num\"\u001b[39;00m\n\u001b[1;32m----> 2\u001b[0m num \u001b[38;5;241m=\u001b[39m \u001b[38;5;28mfloat\u001b[39m (\u001b[38;5;28minput\u001b[39m (\u001b[38;5;124m\"\u001b[39m\u001b[38;5;124mPlease enter a positive nonzero number: \u001b[39m\u001b[38;5;124m\"\u001b[39m))\n\u001b[0;32m      4\u001b[0m \u001b[38;5;66;03m#check to see if the input is less than or equal to zero\u001b[39;00m\n\u001b[0;32m      5\u001b[0m \u001b[38;5;28;01mwhile\u001b[39;00m num \u001b[38;5;241m<\u001b[39m\u001b[38;5;241m=\u001b[39m \u001b[38;5;241m0\u001b[39m:\n",
      "\u001b[1;31mValueError\u001b[0m: could not convert string to float: 'lalala'"
     ]
    }
   ],
   "source": [
    "#ask the user for input and assign it to the variable \"num\"\n",
    "num = float (input (\"Please enter a positive nonzero number: \"))\n",
    "\n",
    "#check to see if the input is less than or equal to zero\n",
    "while num <= 0:\n",
    "    num = float (input (\"Please enter a positive nonzero number: \"))\n",
    "\n",
    "#display the valid input with a message to the user.    \n",
    "else:\n",
    "    print (f\"You have input {num}, a valid number.\")"
   ]
  },
  {
   "cell_type": "code",
   "execution_count": null,
   "id": "0264ad39",
   "metadata": {},
   "outputs": [],
   "source": [
    "Not sure what to do here"
   ]
  }
 ],
 "metadata": {
  "kernelspec": {
   "display_name": "Python 3 (ipykernel)",
   "language": "python",
   "name": "python3"
  },
  "language_info": {
   "codemirror_mode": {
    "name": "ipython",
    "version": 3
   },
   "file_extension": ".py",
   "mimetype": "text/x-python",
   "name": "python",
   "nbconvert_exporter": "python",
   "pygments_lexer": "ipython3",
   "version": "3.11.4"
  }
 },
 "nbformat": 4,
 "nbformat_minor": 5
}
