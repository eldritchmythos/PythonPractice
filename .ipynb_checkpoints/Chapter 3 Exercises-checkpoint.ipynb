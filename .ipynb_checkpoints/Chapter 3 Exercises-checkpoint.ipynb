{
 "cells": [
  {
   "cell_type": "markdown",
   "id": "cfcae302",
   "metadata": {},
   "source": [
    "# Chapter 3 Exercises"
   ]
  },
  {
   "cell_type": "markdown",
   "id": "1d72d6de",
   "metadata": {},
   "source": [
    "## Algorithm Workbench # 4 and 5"
   ]
  },
  {
   "cell_type": "markdown",
   "id": "5b2ac1cd",
   "metadata": {},
   "source": [
    "## Exercise 4: Rewrite the provided code with proper indentation and alignment."
   ]
  },
  {
   "cell_type": "code",
   "execution_count": 1,
   "id": "020ecf88",
   "metadata": {},
   "outputs": [
    {
     "ename": "IndentationError",
     "evalue": "expected an indented block after 'if' statement on line 3 (1946463635.py, line 4)",
     "output_type": "error",
     "traceback": [
      "\u001b[1;36m  Cell \u001b[1;32mIn[1], line 4\u001b[1;36m\u001b[0m\n\u001b[1;33m    print('Your grade is A.')\u001b[0m\n\u001b[1;37m    ^\u001b[0m\n\u001b[1;31mIndentationError\u001b[0m\u001b[1;31m:\u001b[0m expected an indented block after 'if' statement on line 3\n"
     ]
    }
   ],
   "source": [
    "#here I copied and pasted the code from the textbook into a Word doc and then back into my Jupyter notebook for reference.\n",
    "\n",
    "if score >= A_score:\n",
    "print('Your grade is A.')\n",
    "else:\n",
    "if score >= B_score:\n",
    "print('Your grade is B.')\n",
    "else:\n",
    "if score >= C_score:\n",
    "print('Your grade is C.')\n",
    "else:\n",
    "if score >= D_score:\n",
    "print('Your grade is D.')\n",
    "else:\n",
    "print('Your grade is F.')\n"
   ]
  },
  {
   "cell_type": "markdown",
   "id": "9e262f11",
   "metadata": {},
   "source": [
    "as we can see we have to fix this up a bit! I'm going to keep the original up there so I can compare my finished version."
   ]
  },
  {
   "cell_type": "code",
   "execution_count": 2,
   "id": "2e1fdb92",
   "metadata": {},
   "outputs": [
    {
     "ename": "NameError",
     "evalue": "name 'score' is not defined",
     "output_type": "error",
     "traceback": [
      "\u001b[1;31m---------------------------------------------------------------------------\u001b[0m",
      "\u001b[1;31mNameError\u001b[0m                                 Traceback (most recent call last)",
      "Cell \u001b[1;32mIn[2], line 1\u001b[0m\n\u001b[1;32m----> 1\u001b[0m \u001b[38;5;28;01mif\u001b[39;00m score \u001b[38;5;241m>\u001b[39m\u001b[38;5;241m=\u001b[39m A_score:\n\u001b[0;32m      2\u001b[0m     \u001b[38;5;28mprint\u001b[39m(\u001b[38;5;124m'\u001b[39m\u001b[38;5;124mYour grade is A.\u001b[39m\u001b[38;5;124m'\u001b[39m)\n\u001b[0;32m      3\u001b[0m \u001b[38;5;28;01melse\u001b[39;00m:\n",
      "\u001b[1;31mNameError\u001b[0m: name 'score' is not defined"
     ]
    }
   ],
   "source": [
    "if score >= A_score:\n",
    "    print('Your grade is A.')\n",
    "else:\n",
    "    if score >= B_score:\n",
    "        print('Your grade is B.')\n",
    "    else:\n",
    "        if score >= C_score:\n",
    "            print('Your grade is C.')\n",
    "        else:\n",
    "            if score >= D_score:\n",
    "                print('Your grade is D.')\n",
    "            else:\n",
    "                print('Your grade is F.')\n",
    "                \n",
    "#so I kept each if/else statement block together, using 4 space indentations for the print function from where\n",
    "#the if/else are aligned on the left. Then for each if/else block used an increased 4 space indentation to keep everything\n",
    "#aligned."
   ]
  },
  {
   "cell_type": "code",
   "execution_count": 3,
   "id": "29b623c5",
   "metadata": {},
   "outputs": [
    {
     "name": "stdout",
     "output_type": "stream",
     "text": [
      "Your grade is A.\n"
     ]
    }
   ],
   "source": [
    "#To test that this works well, I'm going to make up numbers for the variables and try the code again.\n",
    "\n",
    "score = 100\n",
    "A_score = 90\n",
    "B_score = 80\n",
    "C_score = 70\n",
    "D_score = 60\n",
    "\n",
    "if score >= A_score:\n",
    "    print('Your grade is A.')\n",
    "else:\n",
    "    if score >= B_score:\n",
    "        print('Your grade is B.')\n",
    "    else:\n",
    "        if score >= C_score:\n",
    "            print('Your grade is C.')\n",
    "        else:\n",
    "            if score >= D_score:\n",
    "                print('Your grade is D.')\n",
    "            else:\n",
    "                print('Your grade is F.')"
   ]
  },
  {
   "cell_type": "code",
   "execution_count": 4,
   "id": "f65b580a",
   "metadata": {},
   "outputs": [
    {
     "name": "stdout",
     "output_type": "stream",
     "text": [
      "Your grade is F.\n"
     ]
    }
   ],
   "source": [
    "score = 42\n",
    "A_score = 90\n",
    "B_score = 80\n",
    "C_score = 70\n",
    "D_score = 60\n",
    "\n",
    "if score >= A_score:\n",
    "    print('Your grade is A.')\n",
    "else:\n",
    "    if score >= B_score:\n",
    "        print('Your grade is B.')\n",
    "    else:\n",
    "        if score >= C_score:\n",
    "            print('Your grade is C.')\n",
    "        else:\n",
    "            if score >= D_score:\n",
    "                print('Your grade is D.')\n",
    "            else:\n",
    "                print('Your grade is F.')"
   ]
  },
  {
   "cell_type": "markdown",
   "id": "c4320d43",
   "metadata": {},
   "source": [
    "## Algorithm Workbench Exercise 5"
   ]
  },
  {
   "cell_type": "markdown",
   "id": "27b3782b",
   "metadata": {},
   "source": [
    "We are asked to write nested decision structures to perform the following: If 'amount1' is greater than 10 and 'amount2' is less than 100, display the greater of amount 1 and 2.\n",
    "\n",
    "I am going to start by asking the user for input since our variables weren't designated."
   ]
  },
  {
   "cell_type": "code",
   "execution_count": 6,
   "id": "f2373dfa",
   "metadata": {},
   "outputs": [
    {
     "name": "stdout",
     "output_type": "stream",
     "text": [
      "Please enter an amount greater than 10 for amount 1: 11\n",
      "Please enter an amount less than 100 for amount 2: 64\n"
     ]
    }
   ],
   "source": [
    "amount1 = input(\"Please enter an amount greater than 10 for amount 1: \")\n",
    "amont2 = input(\"Please enter an amount less than 100 for amount 2: \")"
   ]
  },
  {
   "cell_type": "code",
   "execution_count": 7,
   "id": "93aad0bc",
   "metadata": {},
   "outputs": [
    {
     "ename": "SyntaxError",
     "evalue": "expected ':' (1534066570.py, line 7)",
     "output_type": "error",
     "traceback": [
      "\u001b[1;36m  Cell \u001b[1;32mIn[7], line 7\u001b[1;36m\u001b[0m\n\u001b[1;33m    if amount1 > 10\u001b[0m\n\u001b[1;37m                   ^\u001b[0m\n\u001b[1;31mSyntaxError\u001b[0m\u001b[1;31m:\u001b[0m expected ':'\n"
     ]
    }
   ],
   "source": [
    "#now I have to find a way to display the greater of the 2 variables using nested decision structures\n",
    "#so I am going to write my first if/else statements, firstly I want to test that the two numbers that were put in by the\n",
    "#user actually fit our parameters set by the assignment question\n",
    "#then once those pass, I want to check those values against each other for a result\n",
    "\n",
    "\n",
    "if amount1 > 10\n",
    "    if amount2 < 100\n",
    "        if amount 1>amount 2\n",
    "            print (\"Amount 1 is greater than amount 2:\", amount1)\n",
    "        else:\n",
    "            print (\"Amount 2 is greater than amount 1:\", amount2)\n",
    "    else \n",
    "        print (\"Amount 2 is not less than 100, please input an amount less than 100\")\n",
    "else:\n",
    "    print (\"Amount 1 is not greater than 10, please input an amount greater than 10.\")"
   ]
  },
  {
   "cell_type": "markdown",
   "id": "230d5f12",
   "metadata": {},
   "source": [
    "Syntax error here, oops, but I also just noticed a typo as well in cell 7 for amount 2! So now I am going to try to fix that."
   ]
  },
  {
   "cell_type": "code",
   "execution_count": 8,
   "id": "7e143b99",
   "metadata": {},
   "outputs": [
    {
     "ename": "SyntaxError",
     "evalue": "invalid syntax (3489601826.py, line 6)",
     "output_type": "error",
     "traceback": [
      "\u001b[1;36m  Cell \u001b[1;32mIn[8], line 6\u001b[1;36m\u001b[0m\n\u001b[1;33m    if amount 1>amount 2:\u001b[0m\n\u001b[1;37m              ^\u001b[0m\n\u001b[1;31mSyntaxError\u001b[0m\u001b[1;31m:\u001b[0m invalid syntax\n"
     ]
    }
   ],
   "source": [
    "amount1 = input(\"Please enter an amount greater than 10 for amount 1: \")\n",
    "amount2 = input(\"Please enter an amount less than 100 for amount 2: \")\n",
    "\n",
    "if amount1 > 10:\n",
    "    if amount2 < 100:\n",
    "        if amount 1>amount 2:\n",
    "            print (\"Amount 1 is greater than amount 2:\", amount1)\n",
    "        else:\n",
    "            print (\"Amount 2 is greater than amount 1:\", amount2)\n",
    "    else \n",
    "        print (\"Amount 2 is not less than 100, please input an amount less than 100\")\n",
    "else:\n",
    "    print (\"Amount 1 is not greater than 10, please input an amount greater than 10.\")"
   ]
  },
  {
   "cell_type": "markdown",
   "id": "a4f1a6b8",
   "metadata": {},
   "source": [
    "again, a reminder for me to slow down a bit"
   ]
  },
  {
   "cell_type": "code",
   "execution_count": 11,
   "id": "e5cf442c",
   "metadata": {},
   "outputs": [
    {
     "ename": "SyntaxError",
     "evalue": "expected ':' (2819801556.py, line 10)",
     "output_type": "error",
     "traceback": [
      "\u001b[1;36m  Cell \u001b[1;32mIn[11], line 10\u001b[1;36m\u001b[0m\n\u001b[1;33m    else\u001b[0m\n\u001b[1;37m        ^\u001b[0m\n\u001b[1;31mSyntaxError\u001b[0m\u001b[1;31m:\u001b[0m expected ':'\n"
     ]
    }
   ],
   "source": [
    "amount1 = input(\"Please enter an amount greater than 10 for amount 1: \")\n",
    "amount2 = input(\"Please enter an amount less than 100 for amount 2: \")\n",
    "\n",
    "if amount1 > 10:\n",
    "    if amount2 < 100:\n",
    "        if amount1 > amount2:\n",
    "            print (\"Amount 1 is greater than amount 2:\", amount1)\n",
    "        else:\n",
    "            print (\"Amount 2 is greater than amount 1:\", amount2)\n",
    "    else\n",
    "        print (\"Amount 2 is not less than 100, please input an amount less than 100\")\n",
    "else:\n",
    "    print (\"Amount 1 is not greater than 10, please input an amount greater than 10.\")"
   ]
  },
  {
   "cell_type": "markdown",
   "id": "c5aea019",
   "metadata": {},
   "source": [
    "I will get it eventually."
   ]
  },
  {
   "cell_type": "code",
   "execution_count": 12,
   "id": "4dd15594",
   "metadata": {},
   "outputs": [
    {
     "name": "stdout",
     "output_type": "stream",
     "text": [
      "Please enter an amount greater than 10 for amount 1: 5\n",
      "Please enter an amount less than 100 for amount 2: 105\n"
     ]
    },
    {
     "ename": "TypeError",
     "evalue": "'>' not supported between instances of 'str' and 'int'",
     "output_type": "error",
     "traceback": [
      "\u001b[1;31m---------------------------------------------------------------------------\u001b[0m",
      "\u001b[1;31mTypeError\u001b[0m                                 Traceback (most recent call last)",
      "Cell \u001b[1;32mIn[12], line 4\u001b[0m\n\u001b[0;32m      1\u001b[0m amount1 \u001b[38;5;241m=\u001b[39m \u001b[38;5;28minput\u001b[39m(\u001b[38;5;124m\"\u001b[39m\u001b[38;5;124mPlease enter an amount greater than 10 for amount 1: \u001b[39m\u001b[38;5;124m\"\u001b[39m)\n\u001b[0;32m      2\u001b[0m amount2 \u001b[38;5;241m=\u001b[39m \u001b[38;5;28minput\u001b[39m(\u001b[38;5;124m\"\u001b[39m\u001b[38;5;124mPlease enter an amount less than 100 for amount 2: \u001b[39m\u001b[38;5;124m\"\u001b[39m)\n\u001b[1;32m----> 4\u001b[0m \u001b[38;5;28;01mif\u001b[39;00m amount1 \u001b[38;5;241m>\u001b[39m \u001b[38;5;241m10\u001b[39m:\n\u001b[0;32m      5\u001b[0m     \u001b[38;5;28;01mif\u001b[39;00m amount2 \u001b[38;5;241m<\u001b[39m \u001b[38;5;241m100\u001b[39m:\n\u001b[0;32m      6\u001b[0m         \u001b[38;5;28;01mif\u001b[39;00m amount1 \u001b[38;5;241m>\u001b[39m amount2:\n",
      "\u001b[1;31mTypeError\u001b[0m: '>' not supported between instances of 'str' and 'int'"
     ]
    }
   ],
   "source": [
    "amount1 = input(\"Please enter an amount greater than 10 for amount 1: \")\n",
    "amount2 = input(\"Please enter an amount less than 100 for amount 2: \")\n",
    "\n",
    "if amount1 > 10:\n",
    "    if amount2 < 100:\n",
    "        if amount1 > amount2:\n",
    "            print (\"Amount 1 is greater than amount 2:\", amount1)\n",
    "        else:\n",
    "            print (\"Amount 2 is greater than amount 1:\", amount2)\n",
    "    else:\n",
    "        print (\"Amount 2 is not less than 100, please input an amount less than 100\")\n",
    "else:\n",
    "    print (\"Amount 1 is not greater than 10, please input an amount greater than 10.\")"
   ]
  },
  {
   "cell_type": "markdown",
   "id": "8e30b5ed",
   "metadata": {},
   "source": [
    "So I put in numbers outside of the parameters we were asked for to see if my \"else\" statements ran. Now I have to see what this means. I am going to google this type-error to see what I can learn.\n",
    "https://stackoverflow.com/questions/41950021/typeerror-not-supported-between-instances-of-str-and-int\n",
    "first thing that came up. It suggests here change my input to int(input('etc')) so ok, I will try that next"
   ]
  },
  {
   "cell_type": "code",
   "execution_count": 13,
   "id": "41a701be",
   "metadata": {},
   "outputs": [
    {
     "name": "stdout",
     "output_type": "stream",
     "text": [
      "Please enter an amount greater than 10 for amount 1: 11\n",
      "Please enter an amount less than 100 for amount 2: 105\n",
      "Amount 2 is not less than 100, please input an amount less than 100\n"
     ]
    }
   ],
   "source": [
    "amount1 = int(input(\"Please enter an amount greater than 10 for amount 1: \"))\n",
    "amount2 = int(input(\"Please enter an amount less than 100 for amount 2: \"))\n",
    "\n",
    "if amount1 > 10:\n",
    "    if amount2 < 100:\n",
    "        if amount1 > amount2:\n",
    "            print (\"Amount 1 is greater than amount 2:\", amount1)\n",
    "        else:\n",
    "            print (\"Amount 2 is greater than amount 1:\", amount2)\n",
    "    else:\n",
    "        print (\"Amount 2 is not less than 100, please input an amount less than 100\")\n",
    "else:\n",
    "    print (\"Amount 1 is not greater than 10, please input an amount greater than 10.\")"
   ]
  },
  {
   "cell_type": "markdown",
   "id": "e3238870",
   "metadata": {},
   "source": [
    "Now just testing different input numbers"
   ]
  },
  {
   "cell_type": "code",
   "execution_count": 14,
   "id": "35d9341b",
   "metadata": {},
   "outputs": [
    {
     "name": "stdout",
     "output_type": "stream",
     "text": [
      "Please enter an amount greater than 10 for amount 1: 11\n",
      "Please enter an amount less than 100 for amount 2: 64\n",
      "Amount 2 is greater than amount 1: 64\n"
     ]
    }
   ],
   "source": [
    "amount1 = int(input(\"Please enter an amount greater than 10 for amount 1: \"))\n",
    "amount2 = int(input(\"Please enter an amount less than 100 for amount 2: \"))\n",
    "\n",
    "if amount1 > 10:\n",
    "    if amount2 < 100:\n",
    "        if amount1 > amount2:\n",
    "            print (\"Amount 1 is greater than amount 2:\", amount1)\n",
    "        else:\n",
    "            print (\"Amount 2 is greater than amount 1:\", amount2)\n",
    "    else:\n",
    "        print (\"Amount 2 is not less than 100, please input an amount less than 100\")\n",
    "else:\n",
    "    print (\"Amount 1 is not greater than 10, please input an amount greater than 10.\")"
   ]
  },
  {
   "cell_type": "code",
   "execution_count": 15,
   "id": "67e9df70",
   "metadata": {},
   "outputs": [
    {
     "name": "stdout",
     "output_type": "stream",
     "text": [
      "Please enter an amount greater than 10 for amount 1: 68\n",
      "Please enter an amount less than 100 for amount 2: 12\n",
      "Amount 1 is greater than amount 2: 68\n"
     ]
    }
   ],
   "source": [
    "amount1 = int(input(\"Please enter an amount greater than 10 for amount 1: \"))\n",
    "amount2 = int(input(\"Please enter an amount less than 100 for amount 2: \"))\n",
    "\n",
    "if amount1 > 10:\n",
    "    if amount2 < 100:\n",
    "        if amount1 > amount2:\n",
    "            print (\"Amount 1 is greater than amount 2:\", amount1)\n",
    "        else:\n",
    "            print (\"Amount 2 is greater than amount 1:\", amount2)\n",
    "    else:\n",
    "        print (\"Amount 2 is not less than 100, please input an amount less than 100\")\n",
    "else:\n",
    "    print (\"Amount 1 is not greater than 10, please input an amount greater than 10.\")"
   ]
  },
  {
   "cell_type": "code",
   "execution_count": 16,
   "id": "784fea6e",
   "metadata": {},
   "outputs": [
    {
     "name": "stdout",
     "output_type": "stream",
     "text": [
      "Please enter an amount greater than 10 for amount 1: 5.2\n"
     ]
    },
    {
     "ename": "ValueError",
     "evalue": "invalid literal for int() with base 10: '5.2'",
     "output_type": "error",
     "traceback": [
      "\u001b[1;31m---------------------------------------------------------------------------\u001b[0m",
      "\u001b[1;31mValueError\u001b[0m                                Traceback (most recent call last)",
      "Cell \u001b[1;32mIn[16], line 1\u001b[0m\n\u001b[1;32m----> 1\u001b[0m amount1 \u001b[38;5;241m=\u001b[39m \u001b[38;5;28mint\u001b[39m(\u001b[38;5;28minput\u001b[39m(\u001b[38;5;124m\"\u001b[39m\u001b[38;5;124mPlease enter an amount greater than 10 for amount 1: \u001b[39m\u001b[38;5;124m\"\u001b[39m))\n\u001b[0;32m      2\u001b[0m amount2 \u001b[38;5;241m=\u001b[39m \u001b[38;5;28mint\u001b[39m(\u001b[38;5;28minput\u001b[39m(\u001b[38;5;124m\"\u001b[39m\u001b[38;5;124mPlease enter an amount less than 100 for amount 2: \u001b[39m\u001b[38;5;124m\"\u001b[39m))\n\u001b[0;32m      4\u001b[0m \u001b[38;5;28;01mif\u001b[39;00m amount1 \u001b[38;5;241m>\u001b[39m \u001b[38;5;241m10\u001b[39m:\n",
      "\u001b[1;31mValueError\u001b[0m: invalid literal for int() with base 10: '5.2'"
     ]
    }
   ],
   "source": [
    "amount1 = int(input(\"Please enter an amount greater than 10 for amount 1: \"))\n",
    "amount2 = int(input(\"Please enter an amount less than 100 for amount 2: \"))\n",
    "\n",
    "if amount1 > 10:\n",
    "    if amount2 < 100:\n",
    "        if amount1 > amount2:\n",
    "            print (\"Amount 1 is greater than amount 2:\", amount1)\n",
    "        else:\n",
    "            print (\"Amount 2 is greater than amount 1:\", amount2)\n",
    "    else:\n",
    "        print (\"Amount 2 is not less than 100, please input an amount less than 100\")\n",
    "else:\n",
    "    print (\"Amount 1 is not greater than 10, please input an amount greater than 10.\")"
   ]
  },
  {
   "cell_type": "markdown",
   "id": "06f14b45",
   "metadata": {},
   "source": [
    "as expected this doesn't work with decimal numbers, and since I don't have context for what kind of data this will be used for I am thinking it will be best to convert everything to a float instead of an int to cover all potential bases"
   ]
  },
  {
   "cell_type": "code",
   "execution_count": 17,
   "id": "b5141dcf",
   "metadata": {},
   "outputs": [
    {
     "name": "stdout",
     "output_type": "stream",
     "text": [
      "Please enter an amount greater than 10 for amount 1: 15.2\n",
      "Please enter an amount less than 100 for amount 2: 53.7\n",
      "Amount 2 is greater than amount 1: 53.7\n"
     ]
    }
   ],
   "source": [
    "amount1 = float(input(\"Please enter an amount greater than 10 for amount 1: \"))\n",
    "amount2 = float(input(\"Please enter an amount less than 100 for amount 2: \"))\n",
    "\n",
    "if amount1 > 10:\n",
    "    if amount2 < 100:\n",
    "        if amount1 > amount2:\n",
    "            print (\"Amount 1 is greater than amount 2:\", amount1)\n",
    "        else:\n",
    "            print (\"Amount 2 is greater than amount 1:\", amount2)\n",
    "    else:\n",
    "        print (\"Amount 2 is not less than 100, please input an amount less than 100\")\n",
    "else:\n",
    "    print (\"Amount 1 is not greater than 10, please input an amount greater than 10.\")"
   ]
  },
  {
   "cell_type": "markdown",
   "id": "ee5be99c",
   "metadata": {},
   "source": [
    "## Programming Exercises 1, 5, 15 and 18"
   ]
  },
  {
   "cell_type": "markdown",
   "id": "a7c1ef99",
   "metadata": {},
   "source": [
    "## Exercise 1 Day of the Week\n",
    "We are asked to write a program asking a user for a number 1 through 7 where the program outputs a corresponding day of the week (Monday is 1, etc). Include an error message if the input number is outside of the range specified."
   ]
  },
  {
   "cell_type": "code",
   "execution_count": 18,
   "id": "718652b3",
   "metadata": {},
   "outputs": [
    {
     "name": "stdout",
     "output_type": "stream",
     "text": [
      "Please enter a number 1 through 7 to determine which day of the week it represents: 2\n"
     ]
    }
   ],
   "source": [
    "#I will start by asking the user for input within the range 1 through 7\n",
    "\n",
    "day_of_week = int(input(\"Please enter a number 1 through 7 to determine which day of the week it represents: \"))"
   ]
  },
  {
   "cell_type": "code",
   "execution_count": 19,
   "id": "508ff180",
   "metadata": {},
   "outputs": [
    {
     "name": "stdout",
     "output_type": "stream",
     "text": [
      "It is Tueday.\n"
     ]
    }
   ],
   "source": [
    "#now that the user has entered some input, I am going to use if/elif/else statements to determine which day of the week it is\n",
    "#I am using elif, since there are so many days to check the variable against, it hopefully will be more readable\n",
    "#I also am not sure off the bat here if just using the == will work, but I think it should since each day is specifically one number and not a range\n",
    "\n",
    "if day_of_week == 1:\n",
    "    print (\"It is Monday.\")\n",
    "elif day_of_week == 2:\n",
    "    print (\"It is Tueday.\")\n",
    "elif day_of_week == 3:\n",
    "    print (\"It is Wednesday.\")\n",
    "elif day_of_week == 4:\n",
    "    print (\"It is Thursday.\")\n",
    "elif day_of_week == 5:\n",
    "    print (\"It is Friday.\")\n",
    "elif day_of_week == 6:\n",
    "    print (\"It is Saturday.\")\n",
    "elif day_of_week == 7:\n",
    "    print (\"It is Sunday.\")\n",
    "#initially for my else statement I am not sure if just using else without a range will work correctly since I only asked the program to check the\n",
    "#numbers inside of that range so we will try that first.\n",
    "else:\n",
    "    print (\"Please input a number 1 through 7.\")"
   ]
  },
  {
   "cell_type": "code",
   "execution_count": 20,
   "id": "b4a11eb2",
   "metadata": {},
   "outputs": [
    {
     "name": "stdout",
     "output_type": "stream",
     "text": [
      "Please enter a number 1 through 7 to determine which day of the week it represents: 10\n",
      "Please input a number 1 through 7.\n"
     ]
    }
   ],
   "source": [
    "#now I will test a number outside the range to check my error message\n",
    "\n",
    "day_of_week = int(input(\"Please enter a number 1 through 7 to determine which day of the week it represents: \"))\n",
    "\n",
    "if day_of_week == 1:\n",
    "    print (\"It is Monday.\")\n",
    "elif day_of_week == 2:\n",
    "    print (\"It is Tueday.\")\n",
    "elif day_of_week == 3:\n",
    "    print (\"It is Wednesday.\")\n",
    "elif day_of_week == 4:\n",
    "    print (\"It is Thursday.\")\n",
    "elif day_of_week == 5:\n",
    "    print (\"It is Friday.\")\n",
    "elif day_of_week == 6:\n",
    "    print (\"It is Saturday.\")\n",
    "elif day_of_week == 7:\n",
    "    print (\"It is Sunday.\")\n",
    "else:\n",
    "    print (\"Please input a number 1 through 7.\")"
   ]
  },
  {
   "cell_type": "code",
   "execution_count": 21,
   "id": "1f2438fe",
   "metadata": {},
   "outputs": [
    {
     "name": "stdout",
     "output_type": "stream",
     "text": [
      "Please enter a number 1 through 7 to determine which day of the week it represents: 5\n",
      "It is Friday.\n"
     ]
    }
   ],
   "source": [
    "day_of_week = int(input(\"Please enter a number 1 through 7 to determine which day of the week it represents: \"))\n",
    "\n",
    "if day_of_week == 1:\n",
    "    print (\"It is Monday.\")\n",
    "elif day_of_week == 2:\n",
    "    print (\"It is Tueday.\")\n",
    "elif day_of_week == 3:\n",
    "    print (\"It is Wednesday.\")\n",
    "elif day_of_week == 4:\n",
    "    print (\"It is Thursday.\")\n",
    "elif day_of_week == 5:\n",
    "    print (\"It is Friday.\")\n",
    "elif day_of_week == 6:\n",
    "    print (\"It is Saturday.\")\n",
    "elif day_of_week == 7:\n",
    "    print (\"It is Sunday.\")\n",
    "else:\n",
    "    print (\"Please input a number 1 through 7.\")"
   ]
  },
  {
   "cell_type": "markdown",
   "id": "9007569d",
   "metadata": {},
   "source": [
    "## Exercise 5 Mass and Weight\n",
    "Here we are asked to write a program that asks a user to enter an objects mass (kgs), and then calculates its weight (newtons). If it weighs more than 500 newtons, display a message saying it is too heavy, if it is under 100 newtons display a message saying it is too light."
   ]
  },
  {
   "cell_type": "code",
   "execution_count": 22,
   "id": "e772383f",
   "metadata": {},
   "outputs": [
    {
     "name": "stdout",
     "output_type": "stream",
     "text": [
      "Please enter the objects mass in kilograms: 12\n",
      "The object is within the weight range.\n"
     ]
    }
   ],
   "source": [
    "#first we will ask the user to mass of the object in kilograms. Here I am also going to use float to account for any decimals that might be entered\n",
    "\n",
    "mass = float(input(\"Please enter the objects mass in kilograms: \"))\n",
    "\n",
    "weight = mass * 9.8\n",
    "\n",
    "#I used the provided conversion from the textbook question\n",
    "#also here I started to think about formatting the decimals but since I am \n",
    "#not printing a number and the math is happening behind the scenes, \n",
    "#I will leave that alone for now\n",
    "\n",
    "if weight > 500:\n",
    "    print (\"The object is too heavy.\")\n",
    "elif weight < 100:\n",
    "    print (\"The object is too light.\")\n",
    "else:\n",
    "    print (\"The object is within the weight range.\")"
   ]
  },
  {
   "cell_type": "code",
   "execution_count": 24,
   "id": "bc3ab511",
   "metadata": {},
   "outputs": [
    {
     "name": "stdout",
     "output_type": "stream",
     "text": [
      "Please enter the objects mass in kilograms: 88\n",
      "The object is too heavy.\n"
     ]
    }
   ],
   "source": [
    "mass = float(input(\"Please enter the objects mass in kilograms: \"))\n",
    "\n",
    "weight = mass * 9.8\n",
    "\n",
    "if weight > 500:\n",
    "    print (\"The object is too heavy.\")\n",
    "elif weight < 100:\n",
    "    print (\"The object is too light.\")\n",
    "else:\n",
    "    print (\"The object is within the weight range.\")\n",
    "    \n",
    "#just going to test some numbers now"
   ]
  },
  {
   "cell_type": "code",
   "execution_count": 25,
   "id": "4bd4804b",
   "metadata": {},
   "outputs": [
    {
     "name": "stdout",
     "output_type": "stream",
     "text": [
      "Please enter the objects mass in kilograms: 1\n",
      "The object is too light.\n"
     ]
    }
   ],
   "source": [
    "mass = float(input(\"Please enter the objects mass in kilograms: \"))\n",
    "\n",
    "weight = mass * 9.8\n",
    "\n",
    "if weight > 500:\n",
    "    print (\"The object is too heavy.\")\n",
    "elif weight < 100:\n",
    "    print (\"The object is too light.\")\n",
    "else:\n",
    "    print (\"The object is within the weight range.\")"
   ]
  },
  {
   "cell_type": "markdown",
   "id": "1fa028d3",
   "metadata": {},
   "source": [
    "## Exercise 15 Time Calculator\n",
    "Here we are asked to write a program that asks the user to enter a number of seconds then convert the seconds into days, hours, minutes, and seconds based on ranges provided."
   ]
  },
  {
   "cell_type": "code",
   "execution_count": null,
   "id": "4d073f9f",
   "metadata": {},
   "outputs": [],
   "source": [
    "#ask the user to input the number of seconds\n",
    "seconds = int(input(\"Please input the number of seconds: \"))\n",
    "\n",
    "#we wait for user input here\n",
    "#using int, since instead of decimals, we are breaking the number down with days/minutes etc.\n",
    "\n",
    "#I am going to us if else statements to check the number input against\n",
    "#the ranges provided to get the desired result\n",
    "\n",
    "if seconds >= 60:\n",
    "    minutes = seconds // 60\n",
    "    seconds = seconds % 60\n",
    "    print (minutes, seconds)\n",
    "else: \n",
    "    minutes = 0\n",
    "    print (seconds)\n",
    "    \n",
    "#I know I need to get a remainder for the seconds I am not sure if this is right so im going to test it"
   ]
  },
  {
   "cell_type": "code",
   "execution_count": null,
   "id": "11585cd5",
   "metadata": {},
   "outputs": [],
   "source": [
    "#so thats fine, I need to figure out better formatting eventually\n",
    "\n",
    "seconds = int(input(\"Please input the number of seconds: \"))\n",
    "\n",
    "if seconds >= 60:\n",
    "    minutes = seconds // 60\n",
    "    seconds = seconds % 60\n",
    "    print (minutes, seconds)\n",
    "    #check for hours\n",
    "    if seconds >= 3600:\n",
    "        hours = seconds // 3600\n",
    "        seconds = seconds % 3600\n",
    "        print (hours, minutes, seconds)\n",
    "        #check for days\n",
    "        if seconds >= 86400:\n",
    "            days = seconds // 86400\n",
    "            seconds = seconds % 86400\n",
    "            print (days, hours, minutes, seconds)\n",
    "        else:\n",
    "            days = 0\n",
    "    else:\n",
    "        hours = 0   \n",
    "else: \n",
    "    minutes = 0\n",
    "    print (seconds)"
   ]
  },
  {
   "cell_type": "markdown",
   "id": "97f36cb8",
   "metadata": {},
   "source": [
    "Ok, so here I realize yes I have more to do with printing and formatting but also, I think I did it backwards and need to look for days first? because even if the number is very high it will be \"greater than\" 60 so the code will skip the other \"if\" statements.\n",
    "Actually on writing this I realize that will happen even if I check for days first. The problem is nesting? Ok I am going to start over."
   ]
  },
  {
   "cell_type": "code",
   "execution_count": null,
   "id": "130d3c3b",
   "metadata": {},
   "outputs": [],
   "source": [
    "#ask the user for input\n",
    "\n",
    "seconds = int(input(\"Please input the number of seconds: \"))\n",
    "\n",
    "#convert seconds to days\n",
    "if seconds >= 86400:\n",
    "    days = seconds // 86400\n",
    "    seconds = seconds % 86400\n",
    "    \n",
    "else:\n",
    "    days = 0\n",
    "\n",
    "#in the last block, if there were remaining seconds, that updated the \"seconds\" variable\n",
    "#so I will check that updated number to see if we can further break that down into hours or not\n",
    "    \n",
    "if seconds >= 3600:\n",
    "    hours = seconds // 3600\n",
    "    seconds = seconds % 3600\n",
    "    \n",
    "else:\n",
    "    hours = 0\n",
    "    \n",
    "#again, checking that updated remaining seconds to see if it can be broken down into minutes\n",
    "\n",
    "if seconds >= 60:\n",
    "    minutes = seconds // 60\n",
    "    seconds = seconds % 60\n",
    "    \n",
    "else:\n",
    "    minutes = 0\n",
    "\n",
    "#once the code gets down here, the days, hours, minutes, and seconds variables should all have values, seconds being the remaining seconds after all the code\n",
    "#so I won't make another block for the \"seconds\" variable since its already been determined\n",
    "\n",
    "#show the result and format for readability\n",
    "\n",
    "print (f\" {days} days, {hours} hours, {minutes} minutes, {seconds} seconds.\")"
   ]
  },
  {
   "cell_type": "markdown",
   "id": "d128323e",
   "metadata": {},
   "source": [
    "## Exercise 18 Restaurant Selector\n",
    "We are given a set of restaurants with vegetarian, vegan, or gluten-free options, then we are asked to write a program that asks whether anyone in your party is vegetarian, vegan, or gluten-free, then displays only the restaurants you can take the group."
   ]
  },
  {
   "cell_type": "code",
   "execution_count": null,
   "id": "2533d926",
   "metadata": {},
   "outputs": [],
   "source": [
    "#Asking the user for input to determine if anyone in the party has one or all of these dietary needs\n",
    "\n",
    "vegetarian = input (\"Is anyone in your party vegetarian? \")\n",
    "vegan = input (\"Is anyone in your party vegan? \")\n",
    "gluten_free = input (\"Is anyone in your party gluten-free? \")"
   ]
  },
  {
   "cell_type": "markdown",
   "id": "a051ab9b",
   "metadata": {},
   "source": [
    "Joe’s Gourmet Burgers—Vegetarian: No, Vegan: No, Gluten-Free: No\n",
    "Main Street Pizza Company—Vegetarian: Yes, Vegan: No, Gluten-Free: Yes\n",
    "Corner Café—Vegetarian: Yes, Vegan: Yes, Gluten-Free: Yes\n",
    "Mama’s Fine Italian—Vegetarian: Yes, Vegan: No, Gluten-Free: No\n",
    "The Chef’s Kitchen—Vegetarian: Yes, Vegan: Yes, Gluten-Free: Yes\n",
    "\n",
    "Leaving this here for reference notes.\n",
    "\n",
    "Next I am just going through and making \"and\" statements for each of the \n",
    "restaurants."
   ]
  },
  {
   "cell_type": "code",
   "execution_count": 35,
   "id": "1650b1b9",
   "metadata": {},
   "outputs": [
    {
     "name": "stdout",
     "output_type": "stream",
     "text": [
      "Is anyone in your party vegetarian? no\n",
      "Is anyone in your party vegan? no\n",
      "Is anyone in your party gluten-free? yes\n",
      "Here are your restaurant choices: \n",
      "There aren't any choices available.\n"
     ]
    }
   ],
   "source": [
    "#Ask the user for input to determine if anyone in the party has any combination of these dietary restrictions\n",
    "\n",
    "vegetarian = input (\"Is anyone in your party vegetarian? \")\n",
    "vegan = input (\"Is anyone in your party vegan? \")\n",
    "gluten_free = input (\"Is anyone in your party gluten-free? \")\n",
    "\n",
    "#have a default statement to tell user their available options\n",
    "print (\"Here are your restaurant choices: \")\n",
    "\n",
    "\n",
    "#check if all variables are \"yes\"\n",
    "#ammended the operator between vegetarian and vegan to \"or\" to \n",
    "if vegetarian == \"yes\" or vegan == \"yes\" and gluten_free == \"yes\":\n",
    "    print (\"Corner Cafe\")\n",
    "    print (\"The Chef's Kitchen\")\n",
    "\n",
    "#check if all variables are \"no\"\n",
    "if vegetarian == \"no\" and vegan == \"no\" and gluten_free == \"no\":\n",
    "    print (\"Joe's Gourmet Burgers\")\n",
    "    \n",
    "#check if y/n/y    \n",
    "if vegetarian == \"yes\" and vegan == \"no\" and gluten_free == \"yes\":\n",
    "    print (\"Main Street Pizza Company\")\n",
    "\n",
    "#check if y/n/n\n",
    "if vegetarian == \"yes\" and vegan == \"no\" and gluten_free == \"no\":\n",
    "    print (\"Mama's Fine Italian\")\n",
    "    \n",
    "else:\n",
    "    print (\"There aren't any choices available.\")"
   ]
  },
  {
   "cell_type": "markdown",
   "id": "b28c989a",
   "metadata": {},
   "source": [
    "I noticed the one of the only options that isn't covered in the restaurant list is n/y/y so I tried that and of course got no result.\n",
    "Ammended the if y/y/y to include an OR instead of and between vegetarian and vegan because the n/y/y can still eat at the y/y/y restuarants.\n",
    "\n",
    "Ok, so n/n/y isn't covered either. I'm going to just make a message that says there aren't any choices for other input combinations that aren't covered by the provided restaurants."
   ]
  }
 ],
 "metadata": {
  "kernelspec": {
   "display_name": "Python 3 (ipykernel)",
   "language": "python",
   "name": "python3"
  },
  "language_info": {
   "codemirror_mode": {
    "name": "ipython",
    "version": 3
   },
   "file_extension": ".py",
   "mimetype": "text/x-python",
   "name": "python",
   "nbconvert_exporter": "python",
   "pygments_lexer": "ipython3",
   "version": "3.11.4"
  }
 },
 "nbformat": 4,
 "nbformat_minor": 5
}
