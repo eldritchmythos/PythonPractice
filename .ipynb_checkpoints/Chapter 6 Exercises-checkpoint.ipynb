{
 "cells": [
  {
   "cell_type": "markdown",
   "id": "22311054",
   "metadata": {},
   "source": [
    "# Chapter 6 Exercises\n",
    "## Algorithm Workbench 1 and 2\n",
    "## Programming Ex. 1,6,9, and _"
   ]
  },
  {
   "cell_type": "markdown",
   "id": "712c289c",
   "metadata": {},
   "source": [
    "### Algorithm Workbench 1\n",
    "We are asked to write a program that opens an output file with the filename my_name.txt, writes your name to the file, and closes it. \n",
    "<br>Things I want to remember:\n",
    "<br> - I know I want to use the \"w\" mode, so it creates a new file and I can write to it."
   ]
  },
  {
   "cell_type": "code",
   "execution_count": 1,
   "id": "eb9f32e5",
   "metadata": {},
   "outputs": [],
   "source": [
    "# this program opens a file, writes my name to it and closes it.\n",
    "def main():\n",
    "    #opening the file with specified name from the question\n",
    "    outfile = open('my_name.txt', 'w')\n",
    "    \n",
    "    #write my name to the file\n",
    "    outfile.write (\"Eldritch Mitchell\\n\")\n",
    "    \n",
    "    #close the file\n",
    "    outfile.close()\n",
    "    \n",
    "#call the main function\n",
    "main()"
   ]
  },
  {
   "cell_type": "markdown",
   "id": "1d9af438",
   "metadata": {},
   "source": [
    "### Algorithm Workbench 2\n",
    "Here we are asked to write a program that opens the my_name.txt file from the last question, and read my name from the file, display it, and close the file."
   ]
  },
  {
   "cell_type": "code",
   "execution_count": 2,
   "id": "6ec9c5a4",
   "metadata": {},
   "outputs": [
    {
     "name": "stdout",
     "output_type": "stream",
     "text": [
      "Eldritch Mitchell\n",
      "\n"
     ]
    }
   ],
   "source": [
    "# This program reads and displays the contents of the my_name.txt file.\n",
    "def main():\n",
    "    # Open the my_name.txt file\n",
    "    infile = open(\"my_name.txt\", 'r')\n",
    "    \n",
    "    # Read the contents of the file.\n",
    "    file_contents = infile.read()\n",
    "    \n",
    "    # Close the file\n",
    "    infile.close()\n",
    "    \n",
    "    #Print the data that was read into memory.\n",
    "    print(file_contents)\n",
    "    \n",
    "# Call the main function.\n",
    "main()"
   ]
  },
  {
   "cell_type": "markdown",
   "id": "f3b37a78",
   "metadata": {},
   "source": [
    "### Programming Ex. 1 File Display\n",
    "Here we are asked to assume a file containing a series of integers is named numbers.txt and exists on the computers disc. Write a program that displays all of the numbers in the file.<br>\n",
    "<br>Ok, so far I think this is set up similarly to the second algorithm workbench?\n",
    "<br>The question specified integers specifically...not sure if that matters or not?\n",
    "<br>So if the file doesn't exist, there will be nothing to display, and my guess is before we even get there there will be an error trying to find the file (IO error maybe?), so I'll run this as is then make the file it's supposed to reference, so I can see if this does anything."
   ]
  },
  {
   "cell_type": "code",
   "execution_count": 4,
   "id": "df5636f0",
   "metadata": {},
   "outputs": [
    {
     "ename": "FileNotFoundError",
     "evalue": "[Errno 2] No such file or directory: 'numbers.txt'",
     "output_type": "error",
     "traceback": [
      "\u001b[1;31m---------------------------------------------------------------------------\u001b[0m",
      "\u001b[1;31mFileNotFoundError\u001b[0m                         Traceback (most recent call last)",
      "Cell \u001b[1;32mIn[4], line 16\u001b[0m\n\u001b[0;32m     13\u001b[0m     \u001b[38;5;28mprint\u001b[39m(file_contents)\n\u001b[0;32m     15\u001b[0m \u001b[38;5;66;03m# Call the main function\u001b[39;00m\n\u001b[1;32m---> 16\u001b[0m main()\n",
      "Cell \u001b[1;32mIn[4], line 4\u001b[0m, in \u001b[0;36mmain\u001b[1;34m()\u001b[0m\n\u001b[0;32m      2\u001b[0m \u001b[38;5;28;01mdef\u001b[39;00m \u001b[38;5;21mmain\u001b[39m():\n\u001b[0;32m      3\u001b[0m     \u001b[38;5;66;03m# Open the numbers.txt file\u001b[39;00m\n\u001b[1;32m----> 4\u001b[0m     infile \u001b[38;5;241m=\u001b[39m \u001b[38;5;28mopen\u001b[39m(\u001b[38;5;124m\"\u001b[39m\u001b[38;5;124mnumbers.txt\u001b[39m\u001b[38;5;124m\"\u001b[39m, \u001b[38;5;124m\"\u001b[39m\u001b[38;5;124mr\u001b[39m\u001b[38;5;124m\"\u001b[39m)\n\u001b[0;32m      6\u001b[0m     \u001b[38;5;66;03m# Read the contents of the file\u001b[39;00m\n\u001b[0;32m      7\u001b[0m     file_contents \u001b[38;5;241m=\u001b[39m infile\u001b[38;5;241m.\u001b[39mread()\n",
      "File \u001b[1;32m~\\anaconda3\\Lib\\site-packages\\IPython\\core\\interactiveshell.py:284\u001b[0m, in \u001b[0;36m_modified_open\u001b[1;34m(file, *args, **kwargs)\u001b[0m\n\u001b[0;32m    277\u001b[0m \u001b[38;5;28;01mif\u001b[39;00m file \u001b[38;5;129;01min\u001b[39;00m {\u001b[38;5;241m0\u001b[39m, \u001b[38;5;241m1\u001b[39m, \u001b[38;5;241m2\u001b[39m}:\n\u001b[0;32m    278\u001b[0m     \u001b[38;5;28;01mraise\u001b[39;00m \u001b[38;5;167;01mValueError\u001b[39;00m(\n\u001b[0;32m    279\u001b[0m         \u001b[38;5;124mf\u001b[39m\u001b[38;5;124m\"\u001b[39m\u001b[38;5;124mIPython won\u001b[39m\u001b[38;5;124m'\u001b[39m\u001b[38;5;124mt let you open fd=\u001b[39m\u001b[38;5;132;01m{\u001b[39;00mfile\u001b[38;5;132;01m}\u001b[39;00m\u001b[38;5;124m by default \u001b[39m\u001b[38;5;124m\"\u001b[39m\n\u001b[0;32m    280\u001b[0m         \u001b[38;5;124m\"\u001b[39m\u001b[38;5;124mas it is likely to crash IPython. If you know what you are doing, \u001b[39m\u001b[38;5;124m\"\u001b[39m\n\u001b[0;32m    281\u001b[0m         \u001b[38;5;124m\"\u001b[39m\u001b[38;5;124myou can use builtins\u001b[39m\u001b[38;5;124m'\u001b[39m\u001b[38;5;124m open.\u001b[39m\u001b[38;5;124m\"\u001b[39m\n\u001b[0;32m    282\u001b[0m     )\n\u001b[1;32m--> 284\u001b[0m \u001b[38;5;28;01mreturn\u001b[39;00m io_open(file, \u001b[38;5;241m*\u001b[39margs, \u001b[38;5;241m*\u001b[39m\u001b[38;5;241m*\u001b[39mkwargs)\n",
      "\u001b[1;31mFileNotFoundError\u001b[0m: [Errno 2] No such file or directory: 'numbers.txt'"
     ]
    }
   ],
   "source": [
    "# This program reads a file that doesn' exist?\n",
    "def main():\n",
    "    # Open the numbers.txt file\n",
    "    infile = open(\"numbers.txt\", \"r\")\n",
    "    \n",
    "    # Read the contents of the file\n",
    "    file_contents = infile.read()\n",
    "    \n",
    "    # Close the file\n",
    "    infile.close()\n",
    "    \n",
    "    # Display the integers in the file\n",
    "    print(file_contents)\n",
    "    \n",
    "# Call the main function\n",
    "main()"
   ]
  },
  {
   "cell_type": "markdown",
   "id": "87f2947e",
   "metadata": {},
   "source": [
    "Yay, an error! I wasn't sure what type of error, but now we know. On second thought I wonder if using \"w\" instead of \"r\" might make my life a little easier here. Without writing any integers to that file, it still won't have anything to display though.."
   ]
  },
  {
   "cell_type": "markdown",
   "id": "2e0e8246",
   "metadata": {},
   "source": [
    "Two things, I realize - I don't know if the question wants me to write that file to solve the problem or write a try/except statement since I know the error code now. I guess I can try to solve it both ways."
   ]
  },
  {
   "cell_type": "code",
   "execution_count": 5,
   "id": "79937961",
   "metadata": {},
   "outputs": [
    {
     "name": "stdout",
     "output_type": "stream",
     "text": [
      "There isn't a numbers.txt file.\n"
     ]
    }
   ],
   "source": [
    "# This program reads a file that doesn' exist?\n",
    "def main():\n",
    "    # Making a try/except statement for the FileNotFound error.\n",
    "    try:\n",
    "        # Open the numbers.txt file\n",
    "        infile = open(\"numbers.txt\", \"r\")\n",
    "    \n",
    "        # Read the contents of the file\n",
    "        file_contents = infile.read()\n",
    "    \n",
    "        # Close the file\n",
    "        infile.close()\n",
    "    \n",
    "        # Display the integers in the file\n",
    "        print(file_contents)\n",
    "    \n",
    "    except FileNotFoundError:\n",
    "        print(\"There isn't a numbers.txt file.\")\n",
    "        \n",
    "# Call the main function\n",
    "main()"
   ]
  },
  {
   "cell_type": "code",
   "execution_count": 6,
   "id": "54d42a84",
   "metadata": {},
   "outputs": [
    {
     "name": "stdout",
     "output_type": "stream",
     "text": [
      "1\n",
      "2\n",
      "3\n",
      "4\n",
      "5\n",
      "6\n",
      "7\n",
      "8\n",
      "9\n",
      "11\n",
      "22\n",
      "33\n",
      "44\n",
      "55\n",
      "66\n",
      "77\n",
      "88\n",
      "99\n"
     ]
    }
   ],
   "source": [
    "# This program reads a file that I made in Notepad.\n",
    "def main():\n",
    "    # Making a try/except statement for the FileNotFound error.\n",
    "    try:\n",
    "        # Open the numbers.txt file\n",
    "        infile = open(\"numbers.txt\", \"r\")\n",
    "    \n",
    "        # Read the contents of the file\n",
    "        file_contents = infile.read()\n",
    "    \n",
    "        # Close the file\n",
    "        infile.close()\n",
    "    \n",
    "        # Display the integers in the file\n",
    "        print(file_contents)\n",
    "    \n",
    "    except FileNotFoundError:\n",
    "        print(\"There isn't a numbers.txt file.\")\n",
    "        \n",
    "# Call the main function\n",
    "main()"
   ]
  },
  {
   "cell_type": "markdown",
   "id": "c86316c8",
   "metadata": {},
   "source": [
    "Well that worked! I just typed those numbers to a Notepad file and saved it to my GitHub folder on my computer. So that was an example of the error it would have provided, a try/except statement for that specific error, and what the output would look like if the file did exist."
   ]
  },
  {
   "cell_type": "markdown",
   "id": "9335837d",
   "metadata": {},
   "source": []
  }
 ],
 "metadata": {
  "kernelspec": {
   "display_name": "Python 3 (ipykernel)",
   "language": "python",
   "name": "python3"
  },
  "language_info": {
   "codemirror_mode": {
    "name": "ipython",
    "version": 3
   },
   "file_extension": ".py",
   "mimetype": "text/x-python",
   "name": "python",
   "nbconvert_exporter": "python",
   "pygments_lexer": "ipython3",
   "version": "3.11.4"
  }
 },
 "nbformat": 4,
 "nbformat_minor": 5
}
