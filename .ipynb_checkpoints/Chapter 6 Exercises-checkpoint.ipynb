{
 "cells": [
  {
   "cell_type": "markdown",
   "id": "22311054",
   "metadata": {},
   "source": [
    "# Chapter 6 Exercises\n",
    "## Algorithm Workbench 1 and _\n",
    "## Programming Ex. 1,6,9, and _"
   ]
  },
  {
   "cell_type": "markdown",
   "id": "712c289c",
   "metadata": {},
   "source": [
    "### Algorithm Workbench 1\n",
    "We are asked to write a program that opens an output file with the filename my_name.txt, writes your name to the file, and closes it. I chose this because I definitely wanted to start slow with this stuff.\n",
    "<br>Things I want to remember:\n",
    "<br> - I know I want to use the \"w\" mode, so it creates a new file and I can write to it."
   ]
  },
  {
   "cell_type": "code",
   "execution_count": 1,
   "id": "904b8f91",
   "metadata": {},
   "outputs": [],
   "source": [
    "# this program opens a file, writes my name to it and closes it.\n",
    "def main():\n",
    "    #opening the file with specified name from the question\n",
    "    outfile = open('my_name.txt', 'w')\n",
    "    \n",
    "    #write my name to the file\n",
    "    outfile.write (\"Eldritch Mitchell\\n\")\n",
    "    \n",
    "    #close the file\n",
    "    outfile.close()\n",
    "    \n",
    "#call the main function\n",
    "main()"
   ]
  },
  {
   "cell_type": "markdown",
   "id": "cf27b4a4",
   "metadata": {},
   "source": [
    "### Algorithm Workbench 2\n",
    "Here we are asked to write a program that opens the my_name.txt file from the last question, and read my name from the file, display it, and close the file."
   ]
  },
  {
   "cell_type": "code",
   "execution_count": 2,
   "id": "3c67615d",
   "metadata": {},
   "outputs": [
    {
     "name": "stdout",
     "output_type": "stream",
     "text": [
      "Eldritch Mitchell\n",
      "\n"
     ]
    }
   ],
   "source": [
    "# This program reads and displays the contents of the my_name.txt file.\n",
    "def main():\n",
    "    # Open the my_name.txt file\n",
    "    infile = open(\"my_name.txt\", 'r')\n",
    "    \n",
    "    # Read the contents of the file.\n",
    "    file_contents = infile.read()\n",
    "    \n",
    "    # Close the file\n",
    "    infile.close()\n",
    "    \n",
    "    #Print the data that was read into memory.\n",
    "    print(file_contents)\n",
    "    \n",
    "# Call the main function.\n",
    "main()"
   ]
  },
  {
   "cell_type": "code",
   "execution_count": 3,
   "id": "18025bc7",
   "metadata": {},
   "outputs": [
    {
     "name": "stdout",
     "output_type": "stream",
     "text": [
      "Value Error\n",
      "The end\n"
     ]
    }
   ],
   "source": [
    "try:\n",
    "    x = float('abc123')\n",
    "    print(\"This conversion is complete.\")\n",
    "\n",
    "except IOError:\n",
    "    print (\"IO Error\")\n",
    "    \n",
    "except ValueError:\n",
    "    print(\"Value Error\")\n",
    "    \n",
    "print(\"The end\")"
   ]
  },
  {
   "cell_type": "code",
   "execution_count": null,
   "id": "60e472aa",
   "metadata": {},
   "outputs": [],
   "source": []
  }
 ],
 "metadata": {
  "kernelspec": {
   "display_name": "Python 3 (ipykernel)",
   "language": "python",
   "name": "python3"
  },
  "language_info": {
   "codemirror_mode": {
    "name": "ipython",
    "version": 3
   },
   "file_extension": ".py",
   "mimetype": "text/x-python",
   "name": "python",
   "nbconvert_exporter": "python",
   "pygments_lexer": "ipython3",
   "version": "3.11.4"
  }
 },
 "nbformat": 4,
 "nbformat_minor": 5
}
