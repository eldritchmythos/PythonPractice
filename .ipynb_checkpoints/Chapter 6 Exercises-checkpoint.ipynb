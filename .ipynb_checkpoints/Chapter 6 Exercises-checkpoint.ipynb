{
 "cells": [
  {
   "cell_type": "markdown",
   "id": "22311054",
   "metadata": {},
   "source": [
    "# Chapter 6 Exercises\n",
    "## Algorithm Workbench 1 and 2\n",
    "## Programming Ex. 1,6,9, and _"
   ]
  },
  {
   "cell_type": "markdown",
   "id": "712c289c",
   "metadata": {},
   "source": [
    "### Algorithm Workbench 1\n",
    "We are asked to write a program that opens an output file with the filename my_name.txt, writes your name to the file, and closes it. \n",
    "<br>Things I want to remember:\n",
    "<br> - I know I want to use the \"w\" mode, so it creates a new file and I can write to it."
   ]
  },
  {
   "cell_type": "code",
   "execution_count": 1,
   "id": "e69073e0",
   "metadata": {},
   "outputs": [],
   "source": [
    "# this program opens a file, writes my name to it and closes it.\n",
    "def main():\n",
    "    #opening the file with specified name from the question\n",
    "    outfile = open('my_name.txt', 'w')\n",
    "    \n",
    "    #write my name to the file\n",
    "    outfile.write (\"Eldritch Mitchell\\n\")\n",
    "    \n",
    "    #close the file\n",
    "    outfile.close()\n",
    "    \n",
    "#call the main function\n",
    "main()"
   ]
  },
  {
   "cell_type": "markdown",
   "id": "90dc6939",
   "metadata": {},
   "source": [
    "### Algorithm Workbench 2\n",
    "Here we are asked to write a program that opens the my_name.txt file from the last question, and read my name from the file, display it, and close the file."
   ]
  },
  {
   "cell_type": "code",
   "execution_count": 2,
   "id": "237751b7",
   "metadata": {},
   "outputs": [
    {
     "name": "stdout",
     "output_type": "stream",
     "text": [
      "Eldritch Mitchell\n",
      "\n"
     ]
    }
   ],
   "source": [
    "# This program reads and displays the contents of the my_name.txt file.\n",
    "def main():\n",
    "    # Open the my_name.txt file\n",
    "    infile = open(\"my_name.txt\", 'r')\n",
    "    \n",
    "    # Read the contents of the file.\n",
    "    file_contents = infile.read()\n",
    "    \n",
    "    # Close the file\n",
    "    infile.close()\n",
    "    \n",
    "    #Print the data that was read into memory.\n",
    "    print(file_contents)\n",
    "    \n",
    "# Call the main function.\n",
    "main()"
   ]
  },
  {
   "cell_type": "markdown",
   "id": "43d5226c",
   "metadata": {},
   "source": [
    "### Programming Ex. 1 File Display\n",
    "Here we are asked to assume a file containing a series of integers is named numbers.txt and exists on the computers disc. Write a program that displays all of the numbers in the file.<br>\n",
    "<br>Ok, so far I think this is set up similarly to the second algorithm workbench?\n",
    "<br>The question specified integers specifically...not sure if that matters or not?\n",
    "<br>So if the file doesn't exist, there will be nothing to display, and my guess is before we even get there there will be an error trying to find the file (IO error maybe?), so I'll run this as is then make the file it's supposed to reference, so I can see if this does anything."
   ]
  },
  {
   "cell_type": "code",
   "execution_count": 4,
   "id": "300fcb77",
   "metadata": {},
   "outputs": [
    {
     "ename": "FileNotFoundError",
     "evalue": "[Errno 2] No such file or directory: 'numbers.txt'",
     "output_type": "error",
     "traceback": [
      "\u001b[1;31m---------------------------------------------------------------------------\u001b[0m",
      "\u001b[1;31mFileNotFoundError\u001b[0m                         Traceback (most recent call last)",
      "Cell \u001b[1;32mIn[4], line 16\u001b[0m\n\u001b[0;32m     13\u001b[0m     \u001b[38;5;28mprint\u001b[39m(file_contents)\n\u001b[0;32m     15\u001b[0m \u001b[38;5;66;03m# Call the main function\u001b[39;00m\n\u001b[1;32m---> 16\u001b[0m main()\n",
      "Cell \u001b[1;32mIn[4], line 4\u001b[0m, in \u001b[0;36mmain\u001b[1;34m()\u001b[0m\n\u001b[0;32m      2\u001b[0m \u001b[38;5;28;01mdef\u001b[39;00m \u001b[38;5;21mmain\u001b[39m():\n\u001b[0;32m      3\u001b[0m     \u001b[38;5;66;03m# Open the numbers.txt file\u001b[39;00m\n\u001b[1;32m----> 4\u001b[0m     infile \u001b[38;5;241m=\u001b[39m \u001b[38;5;28mopen\u001b[39m(\u001b[38;5;124m\"\u001b[39m\u001b[38;5;124mnumbers.txt\u001b[39m\u001b[38;5;124m\"\u001b[39m, \u001b[38;5;124m\"\u001b[39m\u001b[38;5;124mr\u001b[39m\u001b[38;5;124m\"\u001b[39m)\n\u001b[0;32m      6\u001b[0m     \u001b[38;5;66;03m# Read the contents of the file\u001b[39;00m\n\u001b[0;32m      7\u001b[0m     file_contents \u001b[38;5;241m=\u001b[39m infile\u001b[38;5;241m.\u001b[39mread()\n",
      "File \u001b[1;32m~\\anaconda3\\Lib\\site-packages\\IPython\\core\\interactiveshell.py:284\u001b[0m, in \u001b[0;36m_modified_open\u001b[1;34m(file, *args, **kwargs)\u001b[0m\n\u001b[0;32m    277\u001b[0m \u001b[38;5;28;01mif\u001b[39;00m file \u001b[38;5;129;01min\u001b[39;00m {\u001b[38;5;241m0\u001b[39m, \u001b[38;5;241m1\u001b[39m, \u001b[38;5;241m2\u001b[39m}:\n\u001b[0;32m    278\u001b[0m     \u001b[38;5;28;01mraise\u001b[39;00m \u001b[38;5;167;01mValueError\u001b[39;00m(\n\u001b[0;32m    279\u001b[0m         \u001b[38;5;124mf\u001b[39m\u001b[38;5;124m\"\u001b[39m\u001b[38;5;124mIPython won\u001b[39m\u001b[38;5;124m'\u001b[39m\u001b[38;5;124mt let you open fd=\u001b[39m\u001b[38;5;132;01m{\u001b[39;00mfile\u001b[38;5;132;01m}\u001b[39;00m\u001b[38;5;124m by default \u001b[39m\u001b[38;5;124m\"\u001b[39m\n\u001b[0;32m    280\u001b[0m         \u001b[38;5;124m\"\u001b[39m\u001b[38;5;124mas it is likely to crash IPython. If you know what you are doing, \u001b[39m\u001b[38;5;124m\"\u001b[39m\n\u001b[0;32m    281\u001b[0m         \u001b[38;5;124m\"\u001b[39m\u001b[38;5;124myou can use builtins\u001b[39m\u001b[38;5;124m'\u001b[39m\u001b[38;5;124m open.\u001b[39m\u001b[38;5;124m\"\u001b[39m\n\u001b[0;32m    282\u001b[0m     )\n\u001b[1;32m--> 284\u001b[0m \u001b[38;5;28;01mreturn\u001b[39;00m io_open(file, \u001b[38;5;241m*\u001b[39margs, \u001b[38;5;241m*\u001b[39m\u001b[38;5;241m*\u001b[39mkwargs)\n",
      "\u001b[1;31mFileNotFoundError\u001b[0m: [Errno 2] No such file or directory: 'numbers.txt'"
     ]
    }
   ],
   "source": [
    "# This program reads a file that doesn't exist?\n",
    "def main():\n",
    "    # Open the numbers.txt file\n",
    "    infile = open(\"numbers.txt\", \"r\")\n",
    "    \n",
    "    # Read the contents of the file\n",
    "    file_contents = infile.read()\n",
    "    \n",
    "    # Close the file\n",
    "    infile.close()\n",
    "    \n",
    "    # Display the integers in the file\n",
    "    print(file_contents)\n",
    "    \n",
    "# Call the main function\n",
    "main()"
   ]
  },
  {
   "cell_type": "markdown",
   "id": "9602799f",
   "metadata": {},
   "source": [
    "Yay, an error! I wasn't sure what type of error, but now we know. On second thought I wonder if using \"w\" instead of \"r\" might make my life a little easier here. Without writing any integers to that file, it still won't have anything to display though.."
   ]
  },
  {
   "cell_type": "markdown",
   "id": "7209a394",
   "metadata": {},
   "source": [
    "Two things, I realize - I don't know if the question wants me to write that file to solve the problem or write a try/except statement since I know the error code now. I guess I can try to solve it both ways."
   ]
  },
  {
   "cell_type": "code",
   "execution_count": 5,
   "id": "2a94a483",
   "metadata": {},
   "outputs": [
    {
     "name": "stdout",
     "output_type": "stream",
     "text": [
      "There isn't a numbers.txt file.\n"
     ]
    }
   ],
   "source": [
    "# This program reads a file that doesn't exist?\n",
    "def main():\n",
    "    # Making a try/except statement for the FileNotFound error.\n",
    "    try:\n",
    "        # Open the numbers.txt file\n",
    "        infile = open(\"numbers.txt\", \"r\")\n",
    "    \n",
    "        # Read the contents of the file\n",
    "        file_contents = infile.read()\n",
    "    \n",
    "        # Close the file\n",
    "        infile.close()\n",
    "    \n",
    "        # Display the integers in the file\n",
    "        print(file_contents)\n",
    "    \n",
    "    except FileNotFoundError:\n",
    "        print(\"There isn't a numbers.txt file.\")\n",
    "        \n",
    "# Call the main function\n",
    "main()"
   ]
  },
  {
   "cell_type": "code",
   "execution_count": 6,
   "id": "9ed4bfef",
   "metadata": {},
   "outputs": [
    {
     "name": "stdout",
     "output_type": "stream",
     "text": [
      "1\n",
      "2\n",
      "3\n",
      "4\n",
      "5\n",
      "6\n",
      "7\n",
      "8\n",
      "9\n",
      "11\n",
      "22\n",
      "33\n",
      "44\n",
      "55\n",
      "66\n",
      "77\n",
      "88\n",
      "99\n"
     ]
    }
   ],
   "source": [
    "# This program reads a file that I made in Notepad.\n",
    "def main():\n",
    "    # Making a try/except statement for the FileNotFound error.\n",
    "    try:\n",
    "        # Open the numbers.txt file\n",
    "        infile = open(\"numbers.txt\", \"r\")\n",
    "    \n",
    "        # Read the contents of the file\n",
    "        file_contents = infile.read()\n",
    "    \n",
    "        # Close the file\n",
    "        infile.close()\n",
    "    \n",
    "        # Display the integers in the file\n",
    "        print(file_contents)\n",
    "    \n",
    "    except FileNotFoundError:\n",
    "        print(\"There isn't a numbers.txt file.\")\n",
    "        \n",
    "# Call the main function\n",
    "main()"
   ]
  },
  {
   "cell_type": "markdown",
   "id": "cd4d6855",
   "metadata": {},
   "source": [
    "Well that worked! I just typed those numbers to a Notepad file and saved it to my GitHub folder on my computer. So that was an example of the error it would have provided, a try/except statement for that specific error, and what the output would look like if the file did exist."
   ]
  },
  {
   "cell_type": "markdown",
   "id": "5fea1493",
   "metadata": {},
   "source": [
    "### Programming Ex. 6 Average of Numbers\n",
    "Here we are asked to assume a file containing a series of integers is named numbers.txt and exists on the computers disk. Write a program that calculates the average of all of the numbers stored in the file.<br>\n",
    "<br> -to start, I want to open a file - I currently have one made, so thats fine to test if my math works.\n",
    "<br> -initial thought is I'll have to write a loop, to check each line for a number, and then do math with that information... also use the loop to tally how many lines it's read, so I'll have to make some variables.\n",
    "<br>-an average is like average = number_sum / total_numbers.\n",
    "<br>- even though I currently have a \"numbers.txt\" to test, I want to make sure my program could reference one with different information since the question assumes the file, so I don't want to write this specific to my file.\n"
   ]
  },
  {
   "cell_type": "code",
   "execution_count": 14,
   "id": "082b61ff",
   "metadata": {},
   "outputs": [
    {
     "ename": "SyntaxError",
     "evalue": "expected 'except' or 'finally' block (2768049301.py, line 32)",
     "output_type": "error",
     "traceback": [
      "\u001b[1;36m  Cell \u001b[1;32mIn[14], line 32\u001b[1;36m\u001b[0m\n\u001b[1;33m    line = infile.readline()\u001b[0m\n\u001b[1;37m    ^\u001b[0m\n\u001b[1;31mSyntaxError\u001b[0m\u001b[1;31m:\u001b[0m expected 'except' or 'finally' block\n"
     ]
    }
   ],
   "source": [
    "# This program reads a file that I made in Notepad, and calculates the average \n",
    "# of all of the numbers stored on that file.\n",
    "def main():\n",
    "    # Making a try/except statement for the FileNotFound error.\n",
    "    try:\n",
    "        # Open the numbers.txt file\n",
    "        infile = open(\"numbers.txt\", \"r\")\n",
    "        \n",
    "        # Initialize some variables, starting at 0, since we will be adding the values to number_sum\n",
    "        #and number of lines read to total_number\n",
    "        number_sum = 0\n",
    "        total_numbers = 0\n",
    "        \n",
    "        #read the first line from the file\n",
    "        line = infile.readline()\n",
    "        \n",
    "        # If the line isn't empty, we're going to add it's value to the number_sum variable and add\n",
    "        # 1 each time we do this to the total_numbers variable\n",
    "        while line != '':\n",
    "            try:\n",
    "                # Convert line to an integer\n",
    "                number = int(line)\n",
    "                \n",
    "                # Add the number from the line to the sum variable number_sum\n",
    "                number_sum += number\n",
    "                \n",
    "                # For each time the loop is read, I will just have it add one to the variable that\n",
    "                #represents how many lines have been read\n",
    "                total_numbers += 1\n",
    "                \n",
    "            # Read the next line unless its ''\n",
    "            line = infile.readline()\n",
    "                \n",
    "        # Close the file      \n",
    "        infile.close()\n",
    "        \n",
    "\n",
    "        average = number_sum / total_numbers\n",
    "        \n",
    "        print(f\"The average is: {average}\")\n",
    "                \n",
    "    # Make an exception for if the file doesn't exist\n",
    "    except FileNotFoundError:\n",
    "        print(\"There isn't a numbers.txt file.\")\n",
    "        \n",
    "\n",
    "        \n",
    "# Call the main function\n",
    "main()"
   ]
  },
  {
   "cell_type": "markdown",
   "id": "ce3260c6",
   "metadata": {},
   "source": [
    "Well I've been playing with indentation here for a while and i'm most definitely doing something i don't understand here..."
   ]
  },
  {
   "cell_type": "code",
   "execution_count": null,
   "id": "c8cb090b",
   "metadata": {},
   "outputs": [],
   "source": []
  }
 ],
 "metadata": {
  "kernelspec": {
   "display_name": "Python 3 (ipykernel)",
   "language": "python",
   "name": "python3"
  },
  "language_info": {
   "codemirror_mode": {
    "name": "ipython",
    "version": 3
   },
   "file_extension": ".py",
   "mimetype": "text/x-python",
   "name": "python",
   "nbconvert_exporter": "python",
   "pygments_lexer": "ipython3",
   "version": "3.11.4"
  }
 },
 "nbformat": 4,
 "nbformat_minor": 5
}
