{
 "cells": [
  {
   "cell_type": "markdown",
   "id": "5b751750",
   "metadata": {},
   "source": [
    "# Chapter 11 Programming Exercises\n",
    "Choose 2 questions from Chapter 11\n",
    "<br> For each question include:\n",
    "- main function\n",
    "- custom module\n",
    "- Snagit Recording\n",
    "- at least one diagram\n",
    "- super() -- I want to try this for the second problem* this only has to be used for one"
   ]
  },
  {
   "cell_type": "markdown",
   "id": "35fadcdd",
   "metadata": {},
   "source": [
    "### Programming Exercise #1 Employee and Production Worker Classes\n",
    "\n",
    "Write an Employee class that keeps data attributes for the following pieces of information:\n",
    "   - Employee name\n",
    "   - Employee number\n",
    "<br>\n",
    "\n",
    "Next, write a class named ProductionWorker that is a subclass of the Employee class. The ProductionWorker class should keep data attributes for the following information:\n",
    "   - Shift number (an integer, such as 1, 2, or 3)\n",
    "   - Hourly pay rate\n",
    "<br>\n",
    "\n",
    "The workday is divided into two shifts: day and night. The shift attribute will hold an\n",
    "integer value representing the shift that the employee works. The day shift is shift 1 and the\n",
    "night shift is shift 2. Write the appropriate accessor and mutator methods for each class.\n",
    "<br>\n",
    "Once you have written the classes, write a program that creates an object of the\n",
    "ProductionWorker class and prompts the user to enter data for each of the object’s data\n",
    "attributes. Store the data in the object, then use the object’s accessor methods to retrieve it\n",
    "and display it on the screen."
   ]
  },
  {
   "cell_type": "code",
   "execution_count": 9,
   "id": "e57cc38e",
   "metadata": {},
   "outputs": [
    {
     "name": "stdout",
     "output_type": "stream",
     "text": [
      "What is the employee's name? Eldritch\n",
      "What is the employee's number? 13\n",
      "Which shift does Eldritch work? Enter 1 for day shift or 2 for night shift: 2\n",
      "Enter the dollar amount Eldritch earns per hour: 1001.01\n",
      "Employee Name:  Eldritch\n",
      "Employee Number:  13\n",
      "Employee Shift:  2\n",
      "Employee Hourly Pay:  1001.01\n"
     ]
    }
   ],
   "source": [
    "# import the employee module that contains the Employee class and ProductionWorker subclass\n",
    "import employee\n",
    "\n",
    "# define the main function\n",
    "def main():\n",
    "    \n",
    "    # prompt the user to enter data for each of the object’s data attributes\n",
    "    emp_name = input(\"What is the employee's name? \")\n",
    "    emp_num = input(\"What is the employee's number? \")\n",
    "    shift = int(input(f\"Which shift does {emp_name} work? Enter 1 for day shift or 2 for night shift: \"))\n",
    "    hourly_pay = float(input(f\"Enter the dollar amount {emp_name} earns per hour: \"))\n",
    "    \n",
    "    # create an object from the ProductionWorker subclass\n",
    "    employee_1 = employee.ProductionWorker(emp_name, emp_num, shift, hourly_pay)\n",
    "    \n",
    "    # use accessor methods to retrieve and display\n",
    "    print(\"Employee Name: \", employee_1.get_emp_name())\n",
    "    print(\"Employee Number: \", employee_1.get_emp_num())\n",
    "    print(\"Employee Shift: \", employee_1.get_shift())\n",
    "    print(\"Employee Hourly Pay: \", employee_1.get_hourly_pay())\n",
    "    \n",
    "# call main function\n",
    "if __name__ == \"__main__\":\n",
    "    main()\n",
    "    "
   ]
  },
  {
   "cell_type": "markdown",
   "id": "3c5d63e5",
   "metadata": {},
   "source": [
    "# Programming Ex. #2\n",
    "\n",
    "Write a ShiftSupervisor class that is a subclass of the Employee class\n",
    "you created in Programming Exercise 1. The ShiftSupervisor class should keep a data\n",
    "attribute for the annual salary, and a data attribute for the annual production bonus that\n",
    "a shift supervisor has earned. Demonstrate the class by writing a program that uses a\n",
    "ShiftSupervisor object\n",
    "\n",
    "<br> What I think I know:<br>\n",
    "   - Create ShiftSupervisor subclass of the Employee class we created last exercise\n",
    "   - Include the data attributes for annual salary and annual production bonus\n",
    "   - demonstrate by writing a program that uses a shift supervisor object\n",
    "   - use \"super()\" to call the subclass this time for practice\n",
    "   - include a module and main function\n"
   ]
  },
  {
   "cell_type": "code",
   "execution_count": 2,
   "id": "23719775",
   "metadata": {},
   "outputs": [
    {
     "name": "stdout",
     "output_type": "stream",
     "text": [
      "What is the employee's name? el\n",
      "What is the employee's number? 6546\n",
      "What is the annual salary for el? 64489\n",
      "What is the annual production bonus that el has earned? 5416514651\n",
      "Employee Name:  el\n",
      "Employee Number:  6546\n",
      "Supervisor Annual Salary:  64489.0\n",
      "Supervisor Annual Bonus:  5416514651.0\n"
     ]
    }
   ],
   "source": [
    "# import the employee module that contains the Employee class and ProductionWorker subclass\n",
    "import employee1\n",
    "\n",
    "# define the main function\n",
    "def main():\n",
    "    \n",
    "    # prompt the user to enter data for each of the object’s data attributes\n",
    "    emp_name = input(\"What is the employee's name? \")\n",
    "    emp_num = input(\"What is the employee's number? \")\n",
    "    annual_salary = float(input(f\"What is the annual salary for {emp_name}? \"))\n",
    "    annual_production_bonus = float(input(f\"What is the annual production bonus that {emp_name} has earned? \"))\n",
    "    \n",
    "    # create an object from the ProductionWorker subclass\n",
    "    supervisor_1 = employee1.ShiftSupervisor(emp_name, emp_num, annual_salary, annual_production_bonus)\n",
    "    \n",
    "    # use accessor methods to retrieve and display\n",
    "    print(\"Employee Name: \", supervisor_1.get_emp_name())\n",
    "    print(\"Employee Number: \", supervisor_1.get_emp_num())\n",
    "    print(\"Supervisor Annual Salary: \", supervisor_1.get_annual_salary())\n",
    "    print(\"Supervisor Annual Bonus: \", supervisor_1.get_annual_production_bonus())\n",
    "    \n",
    "# call main function\n",
    "if __name__ == \"__main__\":\n",
    "    main()\n",
    "    "
   ]
  },
  {
   "cell_type": "markdown",
   "id": "cfbf9a2b",
   "metadata": {},
   "source": [
    "Oh ok, so in regards to the end of my second video, I have since learned that \"Python automatically passes 'self' as the first argument to the init method of the superclass \"Employee\".\" I did not know this before trying it out for myself and then looking into the why. Also I mis-wrote my notes too so what I was going off of was also wrong. Now ammended but yeah, took a bit but I know something new now!"
   ]
  },
  {
   "cell_type": "code",
   "execution_count": null,
   "id": "1feec3fb",
   "metadata": {},
   "outputs": [],
   "source": []
  }
 ],
 "metadata": {
  "kernelspec": {
   "display_name": "Python 3 (ipykernel)",
   "language": "python",
   "name": "python3"
  },
  "language_info": {
   "codemirror_mode": {
    "name": "ipython",
    "version": 3
   },
   "file_extension": ".py",
   "mimetype": "text/x-python",
   "name": "python",
   "nbconvert_exporter": "python",
   "pygments_lexer": "ipython3",
   "version": "3.11.4"
  }
 },
 "nbformat": 4,
 "nbformat_minor": 5
}
