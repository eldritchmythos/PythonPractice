{
 "cells": [
  {
   "cell_type": "markdown",
   "id": "4d519b6a",
   "metadata": {},
   "source": [
    "### Chapter 9 Exercises \n",
    "Complete one question from programming Ex. in Chapter 9.\n",
    "<br> - Include a screen recording of some of your work coding using Snagit with audio\n",
    "<br> - Create and leverage at least one custom module for each solution\n",
    "<br> - Create at least one diagram/flowchart/hierarchy chart\n",
    "<br> - Include a main function that starts execution"
   ]
  },
  {
   "cell_type": "markdown",
   "id": "a59cfbf8",
   "metadata": {},
   "source": [
    "## Programming Ex. #2, Capital Quiz\n",
    "Things I think I know:\n",
    "<br> - I need to make a dictionary of the states and capitals\n",
    "<br> - I want to use a for loop to go through each line of my file called state_cap.txt that contains a list of the states seperated by a comma from their capitals, then I want to use the comma as a delimiter to split each line of that file to store in the dictionary\n",
    "<br> - I want to use the key (state name) from the dictionary to ask the user to input the capital city\n",
    "<br> - I need to take that input and compare it to the value of the key (capital city) (also do some input validation here as well for case sensitivity etc. I think)\n",
    "<br> - Create accumulator variables to keep track of correct and incorrect answers\n",
    "<br> - Use a for loop to go through each element in the dictionary for the quiz"
   ]
  },
  {
   "cell_type": "code",
   "execution_count": 4,
   "id": "323ed991",
   "metadata": {},
   "outputs": [
    {
     "name": "stdout",
     "output_type": "stream",
     "text": [
      "{'Alabama': ' Montgomery\\n', 'Alaska': ' Juneau\\n', 'Arizona': ' Phoenix\\n', 'Arkansas': ' Little Rock\\n', 'California': ' Sacramento\\n', 'Colorado': ' Denver\\n', 'Connecticut': ' Hartford\\n', 'Delaware': ' Dover\\n', 'Florida': ' Tallahassee\\n', 'Georgia': ' Atlanta\\n', 'Hawaii': ' Honolulu\\n', 'Idaho': ' Boise\\n', 'Illinois': ' Springfield\\n', 'Indiana': ' Indianapolis\\n', 'Iowa': ' DesMoines\\n', 'Kansas': ' Topeka\\n', 'Kentucky': ' Frankfort\\n', 'Louisiana': ' Baton Rouge\\n', 'Maine': ' Augusta\\n', 'Maryland': ' Annapolis\\n', 'Massachusetts': ' Boston\\n', 'Michigan': ' Lansing\\n', 'Minnesota': ' St.Paul\\n', 'Mississippi': ' Jackson\\n', 'Missouri': ' Jefferson City\\n', 'Montana': ' Helena\\n', 'Nebraska': ' Lincoln\\n', 'Nevada': ' Carson City\\n', 'New Hampshire': ' Concord\\n', 'New Jersey': ' Trenton\\n', 'New Mexico': ' Santa Fe\\n', 'New York': ' Albany\\n', 'North Carolina': ' Raleigh\\n', 'North Dakota': ' Bismarck\\n', 'Ohio': ' Columbus\\n', 'Oklahoma': ' Oklahoma City\\n', 'Oregon': ' Salem\\n', 'Pennsylvania': ' Harrisburg\\n', 'Rhode Island': ' Providence\\n', 'South Carolina': ' Columbia\\n', 'South Dakota': ' Pierre\\n', 'Tennessee': ' Nashville\\n', 'Texas': ' Austin\\n', 'Utah': ' Salt Lake City\\n', 'Vermont': ' Montpelier\\n', 'Virginia': ' Richmond\\n', 'Washington': ' Olympia\\n', 'West Virginia': ' Charleston\\n', 'Wisconsin': ' Madison\\n', 'Wyoming': ' Cheyenne'}\n"
     ]
    }
   ],
   "source": [
    "# Define a function to create a dictionary from a text file containing the 50 states \n",
    "# and their capitals\n",
    "def get_state_cap_dict():\n",
    "    # Create an empty dictionary\n",
    "    state_capital_dict = dict()\n",
    "    \n",
    "    # Open and read the text file\n",
    "    with open('state_cap.txt', 'r') as file:\n",
    "        for line in file:\n",
    "            # Split each line into state and capital using multiple assignment\n",
    "            state, capital = line.split(',')\n",
    "            # Add the pair to the empty dictionary we created\n",
    "            state_capital_dict[state] = capital\n",
    "            \n",
    "    # Displaying the dictionary so I can test if this worked at all\n",
    "    print(state_capital_dict)\n",
    "    \n",
    "get_state_cap_dict()\n",
    "    "
   ]
  },
  {
   "cell_type": "markdown",
   "id": "fc67ef85",
   "metadata": {},
   "source": [
    "I am seeing \\n in the dictionary here so I will use .strip() to get rid of the unwanted characters"
   ]
  },
  {
   "cell_type": "code",
   "execution_count": 5,
   "id": "7574d29c",
   "metadata": {},
   "outputs": [
    {
     "name": "stdout",
     "output_type": "stream",
     "text": [
      "{'Alabama': ' Montgomery', 'Alaska': ' Juneau', 'Arizona': ' Phoenix', 'Arkansas': ' Little Rock', 'California': ' Sacramento', 'Colorado': ' Denver', 'Connecticut': ' Hartford', 'Delaware': ' Dover', 'Florida': ' Tallahassee', 'Georgia': ' Atlanta', 'Hawaii': ' Honolulu', 'Idaho': ' Boise', 'Illinois': ' Springfield', 'Indiana': ' Indianapolis', 'Iowa': ' DesMoines', 'Kansas': ' Topeka', 'Kentucky': ' Frankfort', 'Louisiana': ' Baton Rouge', 'Maine': ' Augusta', 'Maryland': ' Annapolis', 'Massachusetts': ' Boston', 'Michigan': ' Lansing', 'Minnesota': ' St.Paul', 'Mississippi': ' Jackson', 'Missouri': ' Jefferson City', 'Montana': ' Helena', 'Nebraska': ' Lincoln', 'Nevada': ' Carson City', 'New Hampshire': ' Concord', 'New Jersey': ' Trenton', 'New Mexico': ' Santa Fe', 'New York': ' Albany', 'North Carolina': ' Raleigh', 'North Dakota': ' Bismarck', 'Ohio': ' Columbus', 'Oklahoma': ' Oklahoma City', 'Oregon': ' Salem', 'Pennsylvania': ' Harrisburg', 'Rhode Island': ' Providence', 'South Carolina': ' Columbia', 'South Dakota': ' Pierre', 'Tennessee': ' Nashville', 'Texas': ' Austin', 'Utah': ' Salt Lake City', 'Vermont': ' Montpelier', 'Virginia': ' Richmond', 'Washington': ' Olympia', 'West Virginia': ' Charleston', 'Wisconsin': ' Madison', 'Wyoming': ' Cheyenne'}\n"
     ]
    }
   ],
   "source": [
    "# Define a function to create a dictionary from a text file containing the 50 states \n",
    "# and their capitals\n",
    "def get_state_cap_dict():\n",
    "    # Create an empty dictionary\n",
    "    state_capital_dict = dict()\n",
    "    \n",
    "    # Open and read the text file\n",
    "    with open('state_cap.txt', 'r') as file:\n",
    "        for line in file:\n",
    "            # Split each line into state and capital using multiple assignment\n",
    "            state, capital = line.strip().split(',')\n",
    "            # Add the pair to the empty dictionary we created\n",
    "            state_capital_dict[state] = capital\n",
    "            \n",
    "    # Displaying the dictionary so I can test if this worked at all\n",
    "    print(state_capital_dict)\n",
    "\n",
    "get_state_cap_dict()\n"
   ]
  },
  {
   "cell_type": "code",
   "execution_count": null,
   "id": "4ae6ce46",
   "metadata": {},
   "outputs": [
    {
     "name": "stdout",
     "output_type": "stream",
     "text": [
      "What is the capital of Alabama? Montgomery\n",
      "Incorrect. The correct answer is  Montgomery.\n",
      "What is the capital of Alaska? Juneau\n",
      "Incorrect. The correct answer is  Juneau.\n"
     ]
    }
   ],
   "source": [
    "# Import the module we just created\n",
    "import dictionary\n",
    "\n",
    "# Call the get_state_cap_dict function to get our dictionary we made\n",
    "state_cap_dict = dictionary.get_state_cap_dict()\n",
    "\n",
    "def main():\n",
    "    \n",
    "    # Create accumulator variables for the in/correct answers\n",
    "    correct_answers = 0\n",
    "    incorrect_answers = 0\n",
    "    \n",
    "    # Here I want to make a for loop to go through the dictionary and ask questions\n",
    "    # I will use .items to return the keys and their assoc. values as tuples.\n",
    "    for state, capital in state_cap_dict.items():\n",
    "        user_input = input(f\"What is the capital of {state}? \")\n",
    "                           \n",
    "        # Check if the users input matches that of the keys associated value\n",
    "        if user_input == capital:\n",
    "            correct_answers += 1\n",
    "            print (\"You are correct!\")\n",
    "                           \n",
    "        else:\n",
    "            incorrect_answers += 1\n",
    "            print (f\"Incorrect. The correct answer is {capital}.\")\n",
    "\n",
    "    # Display results\n",
    "    print (\"Quiz results:\")\n",
    "                           \n",
    "    # Use the accumulator variables to display the correct an incorrect answers\n",
    "    print (f\"Correct anwers: {correct_answers}\")\n",
    "    print (f\"Incorrect answers: {incorrect_answers}\")\n",
    "\n",
    "                           \n",
    "# Call the function                       \n",
    "if __name__ == \"__main__\":\n",
    "    main()\n",
    "    "
   ]
  },
  {
   "cell_type": "markdown",
   "id": "b759d7b4",
   "metadata": {},
   "source": [
    "what the heck."
   ]
  },
  {
   "cell_type": "markdown",
   "id": "1b71398f",
   "metadata": {},
   "source": [
    "Couple of things, I misspelled my return statement initially in the dictionary.py\n",
    "then I put the \"dictionary\" variable inside the function which gave me another error (cannot access local variable) which I googled. Now at least it runs but it is returning all of my input even spelled the same casewise etc."
   ]
  },
  {
   "cell_type": "code",
   "execution_count": null,
   "id": "1db4fe81",
   "metadata": {},
   "outputs": [
    {
     "name": "stdout",
     "output_type": "stream",
     "text": [
      "What is the capital of Alabama,  Montgomery? Montgomery\n",
      "You are correct!\n",
      "What is the capital of Alaska,  Juneau? Juneau\n",
      "You are correct!\n",
      "What is the capital of Arizona,  Phoenix? phoenix\n",
      "You are correct!\n",
      "What is the capital of Arkansas,  Little Rock? springfield\n",
      "Incorrect. The correct answer is  Little Rock.\n"
     ]
    }
   ],
   "source": [
    "# Import the module we just created\n",
    "import dictionary\n",
    "\n",
    "# Call the get_state_cap_dict function to get our dictionary we made\n",
    "state_cap_dict = dictionary.get_state_cap_dict()\n",
    "\n",
    "def main():\n",
    "    \n",
    "    # Create accumulator variables for the in/correct answers\n",
    "    correct_answers = 0\n",
    "    incorrect_answers = 0\n",
    "    \n",
    "    # Here I want to make a for loop to go through the dictionary and ask questions\n",
    "    # I will use .items to return the keys and their assoc. values as tuples.\n",
    "    for state, capital in state_cap_dict.items():\n",
    "        # Added the capital here so I can see that a)it references something, and b\n",
    "        user_input = input(f\"What is the capital of {state}, {capital}? \")\n",
    "        \n",
    "        # Check if the users input matches that of the keys associated value\n",
    "        if user_input.strip().lower() != capital.strip().lower():\n",
    "            incorrect_answers += 1\n",
    "            print (f\"Incorrect. The correct answer is {capital}.\")\n",
    "                           \n",
    "        else:\n",
    "            correct_answers += 1\n",
    "            print (\"You are correct!\")\n",
    "\n",
    "    # Display results\n",
    "    print (\"Quiz results:\")\n",
    "                           \n",
    "    # Use the accumulator variables to display the correct an incorrect answers\n",
    "    print (f\"Correct anwers: {correct_answers}\")\n",
    "    print (f\"Incorrect answers: {incorrect_answers}\")\n",
    "\n",
    "                           \n",
    "# Call the function                       \n",
    "if __name__ == \"__main__\":\n",
    "    main()\n",
    "    "
   ]
  },
  {
   "cell_type": "markdown",
   "id": "2d67edcf",
   "metadata": {},
   "source": [
    "Well I have tried formatting user input, switching from the == to the != and reversing the order of the correct/incorrect answers in the opposite order. I added the capital to the answer so I can see the answer to know I am not misspelling anything and also to make sure that \"capital\" references something which it does in the question. I have just now tried indenting the if/else statements in case that was somethings I messed up..."
   ]
  },
  {
   "cell_type": "markdown",
   "id": "e16e5d8d",
   "metadata": {},
   "source": [
    "Huh... so I am not sure exactly what happened there but I indented and then un-indented the if/else statement and now it is recognizing a correct answer.\n",
    "Maybe there was a space somewhere that didn't belong in the indent or something to make it skip that line...\n",
    "Also I am realizing this quiz is going to make you go through all 50 states to see your results, but I'd like to give you a way out if you want to quit early."
   ]
  },
  {
   "cell_type": "code",
   "execution_count": 5,
   "id": "c0b9ea78",
   "metadata": {},
   "outputs": [
    {
     "name": "stdout",
     "output_type": "stream",
     "text": [
      "What is the capital of Alabama? Montgomery\n",
      "You are correct!\n",
      "Keep going? y/n y\n",
      "What is the capital of Alaska? Juneau\n",
      "You are correct!\n",
      "Keep going? y/n n\n",
      "Quiz results:\n",
      "Correct anwers: 2\n",
      "Incorrect answers: 0\n"
     ]
    }
   ],
   "source": [
    "# Import the module we just created\n",
    "import dictionary\n",
    "\n",
    "# Call the get_state_cap_dict function to get our dictionary we made\n",
    "state_cap_dict = dictionary.get_state_cap_dict()\n",
    "\n",
    "def main():\n",
    "    \n",
    "    # Create accumulator variables for the in/correct answers\n",
    "    correct_answers = 0\n",
    "    incorrect_answers = 0\n",
    "    \n",
    "    # Here I want to make a for loop to go through the dictionary and ask questions\n",
    "    # I will use .items to return the keys and their assoc. values as tuples.\n",
    "    for state, capital in state_cap_dict.items():\n",
    "        # Added the capital here so I can see that a)it references something, and b\n",
    "        user_input = input(f\"What is the capital of {state}? \")\n",
    "        \n",
    "        # Check if the users input matches that of the keys associated value\n",
    "        if user_input.strip().lower() != capital.strip().lower():\n",
    "            incorrect_answers += 1\n",
    "            print (f\"Incorrect. The correct answer is {capital}.\")\n",
    "            next_question = input(\"Keep going? y/n \").lower()\n",
    "                \n",
    "            if next_question == \"n\":\n",
    "                #break the loop if n\n",
    "                break\n",
    "                           \n",
    "        else:\n",
    "            correct_answers += 1\n",
    "            print (\"You are correct!\")\n",
    "            next_question = input(\"Keep going? y/n \").lower()\n",
    "                \n",
    "            if next_question == \"n\" :\n",
    "                #break the loop if n\n",
    "                break\n",
    "\n",
    "    # Display results\n",
    "    print (\"Quiz results:\")\n",
    "                           \n",
    "    # Use the accumulator variables to display the correct an incorrect answers\n",
    "    print (f\"Correct anwers: {correct_answers}\")\n",
    "    print (f\"Incorrect answers: {incorrect_answers}\")\n",
    "\n",
    "                           \n",
    "# Call the function                       \n",
    "if __name__ == \"__main__\":\n",
    "    main()\n",
    "    "
   ]
  },
  {
   "cell_type": "markdown",
   "id": "a39d918c",
   "metadata": {},
   "source": [
    "I added breaks in the loop for if a user wants to quit out early, and if so the score will still be displayed since that is outside of the for loop. I wonder if asking after every question if they want to keep going is annoying especially for a 50 question quiz, and maybe an intro statement like \"welcome to quiz, if you want to quit at any time just type \"n\"\" and then I can have it check for that against the user input instead of prompting for each quiz question....."
   ]
  },
  {
   "cell_type": "code",
   "execution_count": 7,
   "id": "31a70260",
   "metadata": {},
   "outputs": [
    {
     "name": "stdout",
     "output_type": "stream",
     "text": [
      "Welcome to the State/Capital quiz! If you'd like to quit at any time type 'n'\n",
      "What is the capital of Alabama? Montgomery\n",
      "You are correct!\n",
      "What is the capital of Alaska? Juneau\n",
      "You are correct!\n",
      "What is the capital of Arizona? phoenix\n",
      "You are correct!\n",
      "What is the capital of Arkansas? happyland\n",
      "Incorrect. The correct answer is  Little Rock.\n",
      "What is the capital of California? n\n",
      "Quiz results:\n",
      "Correct anwers: 3\n",
      "Incorrect answers: 1\n"
     ]
    }
   ],
   "source": [
    "# Import the module we just created\n",
    "import dictionary\n",
    "\n",
    "# Call the get_state_cap_dict function to get our dictionary we made\n",
    "state_cap_dict = dictionary.get_state_cap_dict()\n",
    "\n",
    "def main():\n",
    "    \n",
    "    # Create accumulator variables for the in/correct answers\n",
    "    correct_answers = 0\n",
    "    incorrect_answers = 0\n",
    "    \n",
    "    # Adding a blanket welcome statement here with instructions for how to quit the quiz\n",
    "    print(\"Welcome to the State/Capital quiz! If you'd like to quit at any time type 'n'\")\n",
    "    \n",
    "    # Here I want to make a for loop to go through the dictionary and ask questions\n",
    "    # I will use .items to return the keys and their assoc. values as tuples.\n",
    "    for state, capital in state_cap_dict.items():\n",
    "     \n",
    "        user_input = input(f\"What is the capital of {state}? \")\n",
    "        \n",
    "        # Check if the users input matches that of the keys associated value\n",
    "        if user_input.strip().lower() == \"n\":\n",
    "            break\n",
    "        \n",
    "        elif user_input.strip().lower() != capital.strip().lower():\n",
    "            incorrect_answers += 1\n",
    "            print (f\"Incorrect. The correct answer is {capital}.\")\n",
    "\n",
    "        else:\n",
    "            correct_answers += 1\n",
    "            print (\"You are correct!\")\n",
    "\n",
    "\n",
    "    # Display results\n",
    "    print (\"Quiz results:\")\n",
    "                           \n",
    "    # Use the accumulator variables to display the correct an incorrect answers\n",
    "    print (f\"Correct anwers: {correct_answers}\")\n",
    "    print (f\"Incorrect answers: {incorrect_answers}\")\n",
    "\n",
    "                           \n",
    "# Call the function                       \n",
    "if __name__ == \"__main__\":\n",
    "    main()\n",
    "    "
   ]
  },
  {
   "cell_type": "markdown",
   "id": "c104364a",
   "metadata": {},
   "source": [
    "Neat, that worked and I like how that looks a lot better. I tried to have an example of upper and lowercase and the \"n\" option working as well. Also included correct and incorrect answers for this example."
   ]
  },
  {
   "cell_type": "code",
   "execution_count": null,
   "id": "5639b03d",
   "metadata": {},
   "outputs": [],
   "source": []
  }
 ],
 "metadata": {
  "kernelspec": {
   "display_name": "Python 3 (ipykernel)",
   "language": "python",
   "name": "python3"
  },
  "language_info": {
   "codemirror_mode": {
    "name": "ipython",
    "version": 3
   },
   "file_extension": ".py",
   "mimetype": "text/x-python",
   "name": "python",
   "nbconvert_exporter": "python",
   "pygments_lexer": "ipython3",
   "version": "3.11.4"
  }
 },
 "nbformat": 4,
 "nbformat_minor": 5
}
