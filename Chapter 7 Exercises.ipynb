{
 "cells": [
  {
   "cell_type": "markdown",
   "id": "0c8cd8bb",
   "metadata": {},
   "source": [
    "# Chapter 7 Exercises\n",
    "## Algorithm Workbench 1 and 2\n",
    "## Programming Exercises 1,14, _ and _"
   ]
  },
  {
   "cell_type": "markdown",
   "id": "5aafba06",
   "metadata": {},
   "source": [
    "### Algorithm Workbench 1 and 2\n",
    "In the first question we are asked to write a list with four specific strings, in the second quesion it asks us to write a for loop that displays each element of the list."
   ]
  },
  {
   "cell_type": "code",
   "execution_count": 4,
   "id": "93ffc551",
   "metadata": {},
   "outputs": [
    {
     "name": "stdout",
     "output_type": "stream",
     "text": [
      "Einstein\n",
      "Newton\n",
      "Copernicus\n",
      "Kepler\n"
     ]
    }
   ],
   "source": [
    "def main():\n",
    "    # Create a list with the required names as strings inside the list\n",
    "    names = [\"Einstein\", \"Newton\", \"Copernicus\", \"Kepler\"]\n",
    "    \n",
    "    # Create a for loop to display each element of the list.\n",
    "    for item in names:\n",
    "        print (item)   \n",
    "        \n",
    "        \n",
    "main()"
   ]
  },
  {
   "cell_type": "markdown",
   "id": "b97d99ea",
   "metadata": {},
   "source": [
    "### Programming Exercise 1 Total Sales\n",
    "Here we are asked to design a program that asks the user to enter the store's sales for each day of the week, store those values in a list, and use a loop to calculate the total sales for the week and display the result."
   ]
  },
  {
   "cell_type": "code",
   "execution_count": null,
   "id": "e5f89855",
   "metadata": {},
   "outputs": [
    {
     "name": "stdout",
     "output_type": "stream",
     "text": [
      "What are the total sales for Monday? 1234\n",
      "The input entered for Monday is:  1234.0\n"
     ]
    }
   ],
   "source": [
    "def main():\n",
    "    pass\n",
    "\n",
    "# Write a function to get input from the user for sales per day\n",
    "def get_input():\n",
    "     # I made a list with each day of the week\n",
    "    days_week = [\"Monday\",\"Tuesday\",\"Wednesday\",\"Thursday\",\"Friday\",\"Saturday\",\"Sunday\"]\n",
    "    \n",
    "    for item in days_week:\n",
    "        user_input = float(input(f\"What are the total sales for {item}? \"))\n",
    "        print (f\"The input entered for {item} is: \", user_input)\n",
    "        \n",
    "        \n",
    "\n",
    "get_input()"
   ]
  },
  {
   "cell_type": "markdown",
   "id": "bf88c746",
   "metadata": {},
   "source": [
    "So that was just to test that getting input would work, but I'm not going to keep that print statement, I need to do a calculation with the input, and update some of my words to be more prevalent to the question. I also want to include something for input validation moving forward."
   ]
  },
  {
   "cell_type": "code",
   "execution_count": null,
   "id": "6083060f",
   "metadata": {},
   "outputs": [],
   "source": [
    "# define the main function\n",
    "def main():\n",
    "    pass\n",
    "    # will need to call the get_input function and use that to calculate the total of daily sales\n",
    "\n",
    "# Write a function to get input from the user for sales per day\n",
    "def get_input():\n",
    "    \n",
    "     # I made a list with each day of the week, for use in the loop to ask for the specific day\n",
    "    days_week = [\"Monday\",\"Tuesday\",\"Wednesday\",\"Thursday\",\"Friday\",\"Saturday\",\"Sunday\"]\n",
    "    \n",
    "    # I need an empty list too, to store the input totals...\n",
    "    daily_sales = []\n",
    "    \n",
    "    # A for loop to go through each item in the \"days_week\" list to get input\n",
    "    for day in days_week:\n",
    "        # Adding a try/except statement for input validation, changed \"item\" to \"day\" for cohesion\n",
    "        try:\n",
    "            user_input = float(input(f\"What are the total sales for {day}? \"))\n",
    "            daily_sales.append(user_input)\n",
    "            \n",
    "        except ValueError:\n",
    "            print(\"Please input the total amount of today's sales.\")\n",
    "\n"
   ]
  },
  {
   "cell_type": "code",
   "execution_count": 7,
   "id": "f5cd0a6b",
   "metadata": {},
   "outputs": [
    {
     "name": "stdout",
     "output_type": "stream",
     "text": [
      "What are the total sales for Monday? $1\n",
      "What are the total sales for Tuesday? $1\n",
      "What are the total sales for Wednesday? $1\n",
      "What are the total sales for Thursday? $1\n",
      "What are the total sales for Friday? $1\n",
      "What are the total sales for Saturday? $1\n",
      "What are the total sales for Sunday? $1\n",
      "The total sales for the week are: $7.00\n"
     ]
    }
   ],
   "source": [
    "# define the main function\n",
    "def main():\n",
    "    #call the get input function\n",
    "    daily_sales = get_input()\n",
    "    #calculate the weekly sales from the input gathered from the get_input function\n",
    "    weekly_sales = sum(daily_sales)\n",
    "    \n",
    "    # Display the total of sales, formatted to 2 decimals\n",
    "    print(f\"The total sales for the week are: ${weekly_sales:.2f}\")\n",
    "\n",
    "# Write a function to get input from the user for sales per day\n",
    "def get_input():\n",
    "    \n",
    "     # I made a list with each day of the week, for use in the loop to ask for the specific day\n",
    "    days_week = [\"Monday\",\"Tuesday\",\"Wednesday\",\"Thursday\",\"Friday\",\"Saturday\",\"Sunday\"]\n",
    "    \n",
    "    # I need an empty list too, to store the input totals...\n",
    "    daily_sales = []\n",
    "    \n",
    "    # A for loop to go through each item in the \"days_week\" list to get input\n",
    "    for day in days_week:\n",
    "        # Adding a try/except statement for input validation, changed \"item\" to \"day\" for cohesion\n",
    "        try:\n",
    "            user_input = float(input(f\"What are the total sales for {day}? $\"))\n",
    "            daily_sales.append(user_input)\n",
    "            \n",
    "        except ValueError:\n",
    "            print(\"Please input the total amount of today's sales.\")\n",
    "    \n",
    "    # Return the list of daily sales\n",
    "    return daily_sales\n",
    "\n",
    "#call the main function\n",
    "main()"
   ]
  },
  {
   "cell_type": "markdown",
   "id": "cd1c9a30",
   "metadata": {},
   "source": [
    "### Programming Ex. 14 Expense Pie Chart \n",
    "Create a text file with expenses for last month in specified categories, then write a python program that reads the data and uses matplotlib to make a pie chart showing expenses.\n",
    "This is weirdly personal so I am absolutely just going to make up a bunch of numbers haha.\n",
    "<br>\n",
    "<br>-So I created a text file named \"expenses\".\n",
    "<br>-I know I should make a list to reference the categories as labels for the chart\n",
    "<br>-I will need to import the matplotlib\n",
    "<br>-I will also need to remember about newline characters when reading a file, if that is something I need to be aware of for this so I can put the text document into another list."
   ]
  },
  {
   "cell_type": "code",
   "execution_count": 14,
   "id": "f9711da7",
   "metadata": {},
   "outputs": [
    {
     "ename": "TypeError",
     "evalue": "object of type 'numpy.float32' has no len()",
     "output_type": "error",
     "traceback": [
      "\u001b[1;31m---------------------------------------------------------------------------\u001b[0m",
      "\u001b[1;31mTypeError\u001b[0m                                 Traceback (most recent call last)",
      "Cell \u001b[1;32mIn[14], line 46\u001b[0m\n\u001b[0;32m     42\u001b[0m         \u001b[38;5;28mprint\u001b[39m(\u001b[38;5;124m\"\u001b[39m\u001b[38;5;124mThere isn\u001b[39m\u001b[38;5;124m'\u001b[39m\u001b[38;5;124mt a expenses.txt file.\u001b[39m\u001b[38;5;124m\"\u001b[39m)\n\u001b[0;32m     45\u001b[0m \u001b[38;5;28;01mif\u001b[39;00m \u001b[38;5;18m__name__\u001b[39m \u001b[38;5;241m==\u001b[39m \u001b[38;5;124m\"\u001b[39m\u001b[38;5;124m__main__\u001b[39m\u001b[38;5;124m\"\u001b[39m:\n\u001b[1;32m---> 46\u001b[0m     main()\n",
      "Cell \u001b[1;32mIn[14], line 13\u001b[0m, in \u001b[0;36mmain\u001b[1;34m()\u001b[0m\n\u001b[0;32m     10\u001b[0m \u001b[38;5;66;03m#call the get_expenses function\u001b[39;00m\n\u001b[0;32m     11\u001b[0m monthly_expenses \u001b[38;5;241m=\u001b[39m get_expenses()\n\u001b[1;32m---> 13\u001b[0m plt\u001b[38;5;241m.\u001b[39mpie (monthly_expenses, labels\u001b[38;5;241m=\u001b[39mexpense_category)\n\u001b[0;32m     15\u001b[0m \u001b[38;5;66;03m#Title the pie chart\u001b[39;00m\n\u001b[0;32m     16\u001b[0m plt\u001b[38;5;241m.\u001b[39mtitle(\u001b[38;5;124m\"\u001b[39m\u001b[38;5;124mMonthly Expenses\u001b[39m\u001b[38;5;124m\"\u001b[39m)\n",
      "File \u001b[1;32m~\\anaconda3\\Lib\\site-packages\\matplotlib\\pyplot.py:2799\u001b[0m, in \u001b[0;36mpie\u001b[1;34m(x, explode, labels, colors, autopct, pctdistance, shadow, labeldistance, startangle, radius, counterclock, wedgeprops, textprops, center, frame, rotatelabels, normalize, hatch, data)\u001b[0m\n\u001b[0;32m   2792\u001b[0m \u001b[38;5;129m@_copy_docstring_and_deprecators\u001b[39m(Axes\u001b[38;5;241m.\u001b[39mpie)\n\u001b[0;32m   2793\u001b[0m \u001b[38;5;28;01mdef\u001b[39;00m \u001b[38;5;21mpie\u001b[39m(\n\u001b[0;32m   2794\u001b[0m         x, explode\u001b[38;5;241m=\u001b[39m\u001b[38;5;28;01mNone\u001b[39;00m, labels\u001b[38;5;241m=\u001b[39m\u001b[38;5;28;01mNone\u001b[39;00m, colors\u001b[38;5;241m=\u001b[39m\u001b[38;5;28;01mNone\u001b[39;00m, autopct\u001b[38;5;241m=\u001b[39m\u001b[38;5;28;01mNone\u001b[39;00m,\n\u001b[1;32m   (...)\u001b[0m\n\u001b[0;32m   2797\u001b[0m         textprops\u001b[38;5;241m=\u001b[39m\u001b[38;5;28;01mNone\u001b[39;00m, center\u001b[38;5;241m=\u001b[39m(\u001b[38;5;241m0\u001b[39m, \u001b[38;5;241m0\u001b[39m), frame\u001b[38;5;241m=\u001b[39m\u001b[38;5;28;01mFalse\u001b[39;00m,\n\u001b[0;32m   2798\u001b[0m         rotatelabels\u001b[38;5;241m=\u001b[39m\u001b[38;5;28;01mFalse\u001b[39;00m, \u001b[38;5;241m*\u001b[39m, normalize\u001b[38;5;241m=\u001b[39m\u001b[38;5;28;01mTrue\u001b[39;00m, hatch\u001b[38;5;241m=\u001b[39m\u001b[38;5;28;01mNone\u001b[39;00m, data\u001b[38;5;241m=\u001b[39m\u001b[38;5;28;01mNone\u001b[39;00m):\n\u001b[1;32m-> 2799\u001b[0m     \u001b[38;5;28;01mreturn\u001b[39;00m gca()\u001b[38;5;241m.\u001b[39mpie(\n\u001b[0;32m   2800\u001b[0m         x, explode\u001b[38;5;241m=\u001b[39mexplode, labels\u001b[38;5;241m=\u001b[39mlabels, colors\u001b[38;5;241m=\u001b[39mcolors,\n\u001b[0;32m   2801\u001b[0m         autopct\u001b[38;5;241m=\u001b[39mautopct, pctdistance\u001b[38;5;241m=\u001b[39mpctdistance, shadow\u001b[38;5;241m=\u001b[39mshadow,\n\u001b[0;32m   2802\u001b[0m         labeldistance\u001b[38;5;241m=\u001b[39mlabeldistance, startangle\u001b[38;5;241m=\u001b[39mstartangle,\n\u001b[0;32m   2803\u001b[0m         radius\u001b[38;5;241m=\u001b[39mradius, counterclock\u001b[38;5;241m=\u001b[39mcounterclock,\n\u001b[0;32m   2804\u001b[0m         wedgeprops\u001b[38;5;241m=\u001b[39mwedgeprops, textprops\u001b[38;5;241m=\u001b[39mtextprops, center\u001b[38;5;241m=\u001b[39mcenter,\n\u001b[0;32m   2805\u001b[0m         frame\u001b[38;5;241m=\u001b[39mframe, rotatelabels\u001b[38;5;241m=\u001b[39mrotatelabels, normalize\u001b[38;5;241m=\u001b[39mnormalize,\n\u001b[0;32m   2806\u001b[0m         hatch\u001b[38;5;241m=\u001b[39mhatch, \u001b[38;5;241m*\u001b[39m\u001b[38;5;241m*\u001b[39m({\u001b[38;5;124m\"\u001b[39m\u001b[38;5;124mdata\u001b[39m\u001b[38;5;124m\"\u001b[39m: data} \u001b[38;5;28;01mif\u001b[39;00m data \u001b[38;5;129;01mis\u001b[39;00m \u001b[38;5;129;01mnot\u001b[39;00m \u001b[38;5;28;01mNone\u001b[39;00m \u001b[38;5;28;01melse\u001b[39;00m {}))\n",
      "File \u001b[1;32m~\\anaconda3\\Lib\\site-packages\\matplotlib\\__init__.py:1442\u001b[0m, in \u001b[0;36m_preprocess_data.<locals>.inner\u001b[1;34m(ax, data, *args, **kwargs)\u001b[0m\n\u001b[0;32m   1439\u001b[0m \u001b[38;5;129m@functools\u001b[39m\u001b[38;5;241m.\u001b[39mwraps(func)\n\u001b[0;32m   1440\u001b[0m \u001b[38;5;28;01mdef\u001b[39;00m \u001b[38;5;21minner\u001b[39m(ax, \u001b[38;5;241m*\u001b[39margs, data\u001b[38;5;241m=\u001b[39m\u001b[38;5;28;01mNone\u001b[39;00m, \u001b[38;5;241m*\u001b[39m\u001b[38;5;241m*\u001b[39mkwargs):\n\u001b[0;32m   1441\u001b[0m     \u001b[38;5;28;01mif\u001b[39;00m data \u001b[38;5;129;01mis\u001b[39;00m \u001b[38;5;28;01mNone\u001b[39;00m:\n\u001b[1;32m-> 1442\u001b[0m         \u001b[38;5;28;01mreturn\u001b[39;00m func(ax, \u001b[38;5;241m*\u001b[39m\u001b[38;5;28mmap\u001b[39m(sanitize_sequence, args), \u001b[38;5;241m*\u001b[39m\u001b[38;5;241m*\u001b[39mkwargs)\n\u001b[0;32m   1444\u001b[0m     bound \u001b[38;5;241m=\u001b[39m new_sig\u001b[38;5;241m.\u001b[39mbind(ax, \u001b[38;5;241m*\u001b[39margs, \u001b[38;5;241m*\u001b[39m\u001b[38;5;241m*\u001b[39mkwargs)\n\u001b[0;32m   1445\u001b[0m     auto_label \u001b[38;5;241m=\u001b[39m (bound\u001b[38;5;241m.\u001b[39marguments\u001b[38;5;241m.\u001b[39mget(label_namer)\n\u001b[0;32m   1446\u001b[0m                   \u001b[38;5;129;01mor\u001b[39;00m bound\u001b[38;5;241m.\u001b[39mkwargs\u001b[38;5;241m.\u001b[39mget(label_namer))\n",
      "File \u001b[1;32m~\\anaconda3\\Lib\\site-packages\\matplotlib\\axes\\_axes.py:3207\u001b[0m, in \u001b[0;36mAxes.pie\u001b[1;34m(self, x, explode, labels, colors, autopct, pctdistance, shadow, labeldistance, startangle, radius, counterclock, wedgeprops, textprops, center, frame, rotatelabels, normalize, hatch)\u001b[0m\n\u001b[0;32m   3205\u001b[0m     labels \u001b[38;5;241m=\u001b[39m [\u001b[38;5;124m'\u001b[39m\u001b[38;5;124m'\u001b[39m] \u001b[38;5;241m*\u001b[39m \u001b[38;5;28mlen\u001b[39m(x)\n\u001b[0;32m   3206\u001b[0m \u001b[38;5;28;01mif\u001b[39;00m explode \u001b[38;5;129;01mis\u001b[39;00m \u001b[38;5;28;01mNone\u001b[39;00m:\n\u001b[1;32m-> 3207\u001b[0m     explode \u001b[38;5;241m=\u001b[39m [\u001b[38;5;241m0\u001b[39m] \u001b[38;5;241m*\u001b[39m \u001b[38;5;28mlen\u001b[39m(x)\n\u001b[0;32m   3208\u001b[0m \u001b[38;5;28;01mif\u001b[39;00m \u001b[38;5;28mlen\u001b[39m(x) \u001b[38;5;241m!=\u001b[39m \u001b[38;5;28mlen\u001b[39m(labels):\n\u001b[0;32m   3209\u001b[0m     \u001b[38;5;28;01mraise\u001b[39;00m \u001b[38;5;167;01mValueError\u001b[39;00m(\u001b[38;5;124m\"\u001b[39m\u001b[38;5;124m'\u001b[39m\u001b[38;5;124mlabel\u001b[39m\u001b[38;5;124m'\u001b[39m\u001b[38;5;124m must be of length \u001b[39m\u001b[38;5;124m'\u001b[39m\u001b[38;5;124mx\u001b[39m\u001b[38;5;124m'\u001b[39m\u001b[38;5;124m\"\u001b[39m)\n",
      "\u001b[1;31mTypeError\u001b[0m: object of type 'numpy.float32' has no len()"
     ]
    },
    {
     "data": {
      "image/png": "[encoded data removed]",
      "text/plain": [
       "<Figure size 640x480 with 1 Axes>"
      ]
     },
     "metadata": {},
     "output_type": "display_data"
    }
   ],
   "source": [
    "# Import matplotlib\n",
    "import matplotlib.pyplot as plt\n",
    "\n",
    "def main():\n",
    "    #this function is where I want to make the pie chart.\n",
    "    \n",
    "    # Create the list containing the labels for expenses\n",
    "    expense_category = [\"Rent\",\"Gas\",\"Food\",\"Clothing\",\"Car Payment\",\"Misc.\"]\n",
    "    \n",
    "    #call the get_expenses function\n",
    "    monthly_expenses = get_expenses()\n",
    "    \n",
    "    plt.pie (monthly_expenses, labels=expense_category)\n",
    "    \n",
    "    #Title the pie chart\n",
    "    plt.title(\"Monthly Expenses\")\n",
    "    \n",
    "    #Display the pie chart\n",
    "    plt.show()\n",
    "    \n",
    "\n",
    "\n",
    "def get_expenses():\n",
    "    #create an empty list to populate with monthly expenses from the file\n",
    "    monthly_expenses = []\n",
    "    \n",
    "    #adding in a try/except in case there isn't a file created.\n",
    "    try:\n",
    "        # Open the expenses.txt I created\n",
    "        with open(\"expenses.txt\",\"r\") as expense_file:\n",
    "            \n",
    "            line = expense_file.readline()\n",
    "            \n",
    "            # I want to write that files contents to the empty list.\n",
    "            for line in expense_file:\n",
    "                expense = float(line)\n",
    "                monthly_expenses.append(expense)\n",
    "            \n",
    "    \n",
    "    # Make an exception for if the file doesn't exist\n",
    "    except FileNotFoundError:\n",
    "        print(\"There isn't a expenses.txt file.\")\n",
    "        \n",
    "        \n",
    "if __name__ == \"__main__\":\n",
    "    main()"
   ]
  },
  {
   "cell_type": "markdown",
   "id": "57d8e775",
   "metadata": {},
   "source": [
    "Woof. Ok so I consistently forget my \"return\" line when doing things, so I need to hammer that into my brain. Also I played with moving around the \"readline\" part and since I couldn't figure out where to put it, I removed it and the chart worked."
   ]
  },
  {
   "cell_type": "code",
   "execution_count": 17,
   "id": "047e42ab",
   "metadata": {},
   "outputs": [
    {
     "data": {
      "image/png": "[encoded data removed]",
      "text/plain": [
       "<Figure size 640x480 with 1 Axes>"
      ]
     },
     "metadata": {},
     "output_type": "display_data"
    }
   ],
   "source": [
    "# Import matplotlib\n",
    "import matplotlib.pyplot as plt\n",
    "\n",
    "def main():\n",
    "    #this function is where I want to make the pie chart.\n",
    "    \n",
    "    # Create the list containing the labels for expenses\n",
    "    expense_category = [\"Rent\",\"Gas\",\"Food\",\"Clothing\",\"Car Payment\",\"Misc.\"]\n",
    "    \n",
    "    #call the get_expenses function to retrieve a list of monthly expenses\n",
    "    monthly_expenses = get_expenses()\n",
    "    \n",
    "    plt.pie (monthly_expenses, labels=expense_category)\n",
    "    \n",
    "    #Title the pie chart\n",
    "    plt.title(\"Monthly Expenses\")\n",
    "    \n",
    "    #Display the pie chart\n",
    "    plt.show()\n",
    "    \n",
    "\n",
    "\n",
    "def get_expenses():\n",
    "    #create an empty list to populate with monthly expenses from the file\n",
    "    monthly_expenses = []\n",
    "    \n",
    "    #adding in a try/except in case there isn't a file created.\n",
    "    try:\n",
    "        # Open the expenses.txt I created\n",
    "        with open(\"expenses.txt\",\"r\") as expense_file:\n",
    "            \n",
    "            # I want to write that files contents to the empty list.\n",
    "            for line in expense_file:\n",
    "                expense = float(line)\n",
    "                monthly_expenses.append(expense)\n",
    "            \n",
    "    \n",
    "    # Make an exception for if the file doesn't exist\n",
    "    except FileNotFoundError:\n",
    "        print(\"There isn't a expenses.txt file.\")\n",
    "        \n",
    "    return monthly_expenses\n",
    "        \n",
    "if __name__ == \"__main__\":\n",
    "    main()"
   ]
  },
  {
   "cell_type": "markdown",
   "id": "734632c8",
   "metadata": {},
   "source": [
    "### Programming Exercise 4 Number Analysis Program\n",
    "Here the question asks us to design a program that asks a user to enter a series of 20 numbers, the program should store the numbers as a list and display the highest number, lowest number, total of all numbers in the list, and the average."
   ]
  },
  {
   "cell_type": "code",
   "execution_count": 20,
   "id": "cbc81591",
   "metadata": {},
   "outputs": [
    {
     "name": "stdout",
     "output_type": "stream",
     "text": [
      "You will be asked to input 20 whole numbers: \n",
      "Enter a number: 1\n",
      "Enter a number: 2\n",
      "Enter a number: 3\n",
      "Enter a number: 4\n",
      "Enter a number: 5\n",
      "Enter a number: 6\n",
      "Enter a number: 7\n",
      "Enter a number: 8\n",
      "Enter a number: 9\n",
      "Enter a number: 10\n",
      "Enter a number: 11\n",
      "Enter a number: 12\n",
      "Enter a number: 13\n",
      "Enter a number: 14\n",
      "Enter a number: 15\n",
      "Enter a number: 16\n",
      "Enter a number: 17\n",
      "Enter a number: 18\n",
      "Enter a number: 19\n",
      "Enter a number: 20\n",
      "The numbers you provided were: [1, 2, 3, 4, 5, 6, 7, 8, 9, 10, 11, 12, 13, 14, 15, 16, 17, 18, 19, 20]\n",
      "The lowest number in your list is: 1\n",
      "The highest number in your list is: 20\n",
      "The total value of the list you provided is: 210\n",
      "The average amount of the numbers you provided is: 0.09523809523809523\n"
     ]
    }
   ],
   "source": [
    "def main():\n",
    "    #call the series function\n",
    "    user_numbers = series()\n",
    "    \n",
    "    #get the lowest and highest values in the list\n",
    "    min_value = min(user_numbers)\n",
    "    max_value = max(user_numbers)\n",
    "    total = sum(user_numbers)\n",
    "    average = len(user_numbers) / total\n",
    "    \n",
    "    print(f\"The numbers you provided were: {user_numbers}\")\n",
    "    print(f\"The lowest number in your list is: {min_value}\")\n",
    "    print(f\"The highest number in your list is: {max_value}\")\n",
    "    print(f\"The total value of the list you provided is: {total}\")\n",
    "    print(f\"The average amount of the numbers you provided is: {average}\")\n",
    "    \n",
    "    \n",
    "def series():    \n",
    "    #create an empty list for storing the user input\n",
    "    number_series = []\n",
    "    \n",
    "    #display a statement telling the user what we will be asking for.\n",
    "    print(\"You will be asked to input 20 whole numbers: \")\n",
    "    \n",
    "    # Create a for loop that will iterate 20 times.\n",
    "    for value in range(1,21):\n",
    "        try:\n",
    "            #get user input and convert to int\n",
    "            user_input = int(input(\"Enter a number: \"))\n",
    "            #add the user input to the empty list\n",
    "            number_series.append(user_input)\n",
    "            \n",
    "        except ValueError:\n",
    "            print(\"Please input a whole number.\")\n",
    "    \n",
    "    # Return the list of daily sales\n",
    "    return number_series\n",
    "            \n",
    "        \n",
    "if __name__ == \"__main__\":\n",
    "    main()   \n"
   ]
  },
  {
   "cell_type": "markdown",
   "id": "53fee1de",
   "metadata": {},
   "source": [
    "After some syntax mishap, I have outpI am thinking I calculated the average backwards... so I will fix that"
   ]
  }
 ],
 "metadata": {
  "kernelspec": {
   "display_name": "Python 3 (ipykernel)",
   "language": "python",
   "name": "python3"
  },
  "language_info": {
   "codemirror_mode": {
    "name": "ipython",
    "version": 3
   },
   "file_extension": ".py",
   "mimetype": "text/x-python",
   "name": "python",
   "nbconvert_exporter": "python",
   "pygments_lexer": "ipython3",
   "version": "3.11.4"
  }
 },
 "nbformat": 4,
 "nbformat_minor": 5
}
