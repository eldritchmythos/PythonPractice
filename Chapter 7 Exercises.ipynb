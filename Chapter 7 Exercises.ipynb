{
 "cells": [
  {
   "cell_type": "markdown",
   "id": "47392480",
   "metadata": {},
   "source": [
    "# Chapter 7 Exercises\n",
    "## Algorithm Workbench 1 and 2\n",
    "## Programming Exercises 1,14, _ and _"
   ]
  },
  {
   "cell_type": "markdown",
   "id": "536b8f72",
   "metadata": {},
   "source": [
    "### Algorithm Workbench 1 and 2\n",
    "In the first question we are asked to write a list with four specific strings, in the second quesion it asks us to write a for loop that displays each element of the list."
   ]
  },
  {
   "cell_type": "code",
   "execution_count": 4,
   "id": "5f6c2831",
   "metadata": {},
   "outputs": [
    {
     "name": "stdout",
     "output_type": "stream",
     "text": [
      "Einstein\n",
      "Newton\n",
      "Copernicus\n",
      "Kepler\n"
     ]
    }
   ],
   "source": [
    "def main():\n",
    "    # Create a list with the required names as strings inside the list\n",
    "    names = [\"Einstein\", \"Newton\", \"Copernicus\", \"Kepler\"]\n",
    "    \n",
    "    # Create a for loop to display each element of the list.\n",
    "    for item in names:\n",
    "        print (item)   \n",
    "        \n",
    "        \n",
    "main()"
   ]
  },
  {
   "cell_type": "markdown",
   "id": "2eeec6c4",
   "metadata": {},
   "source": [
    "### Programming Exercise 1 Total Sales\n",
    "Here we are asked to design a program that asks the user to enter the store's sales for each day of the week, store those values in a list, and use a loop to calculate the total sales for the week and display the result."
   ]
  },
  {
   "cell_type": "code",
   "execution_count": null,
   "id": "e4b924f5",
   "metadata": {},
   "outputs": [],
   "source": [
    "def main():\n",
    "    pass\n",
    "\n",
    "# Write a function to get input from the user for sales per day\n",
    "def get_input():\n",
    "     # I made a list with each day of the week\n",
    "    days_week = [\"Monday\",\"Tuesday\",\"Wednesday\",\"Thursday\",\"Friday\",\"Saturday\",\"Sunday\"]\n",
    "    \n",
    "    for item in days_week:\n",
    "        user_input = float(input(f\"What are the total sales for {item}? \"))\n",
    "        print (f\"The input entered for {item} is: \", user_input)\n",
    "        \n",
    "        \n",
    "\n",
    "get_input()"
   ]
  },
  {
   "cell_type": "markdown",
   "id": "21b31f97",
   "metadata": {},
   "source": [
    "So that was just to test that getting input would work, but I'm not going to keep that print statement, and "
   ]
  }
 ],
 "metadata": {
  "kernelspec": {
   "display_name": "Python 3 (ipykernel)",
   "language": "python",
   "name": "python3"
  },
  "language_info": {
   "codemirror_mode": {
    "name": "ipython",
    "version": 3
   },
   "file_extension": ".py",
   "mimetype": "text/x-python",
   "name": "python",
   "nbconvert_exporter": "python",
   "pygments_lexer": "ipython3",
   "version": "3.11.4"
  }
 },
 "nbformat": 4,
 "nbformat_minor": 5
}
