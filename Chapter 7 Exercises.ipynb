{
 "cells": [
  {
   "cell_type": "markdown",
   "id": "a100be2c",
   "metadata": {},
   "source": [
    "# Chapter 7 Exercises\n",
    "## Algorithm Workbench 1 and 2\n",
    "## Programming Exercises 1,14, _ and _"
   ]
  },
  {
   "cell_type": "markdown",
   "id": "f634668b",
   "metadata": {},
   "source": [
    "### Algorithm Workbench 1 and 2\n",
    "In the first question we are asked to write a list with four specific strings, in the second quesion it asks us to write a for loop that displays each element of the list."
   ]
  },
  {
   "cell_type": "code",
   "execution_count": 4,
   "id": "e574e90f",
   "metadata": {},
   "outputs": [
    {
     "name": "stdout",
     "output_type": "stream",
     "text": [
      "Einstein\n",
      "Newton\n",
      "Copernicus\n",
      "Kepler\n"
     ]
    }
   ],
   "source": [
    "def main():\n",
    "    # Create a list with the required names as strings inside the list\n",
    "    names = [\"Einstein\", \"Newton\", \"Copernicus\", \"Kepler\"]\n",
    "    \n",
    "    # Create a for loop to display each element of the list.\n",
    "    for item in names:\n",
    "        print (item)   \n",
    "        \n",
    "        \n",
    "main()"
   ]
  },
  {
   "cell_type": "markdown",
   "id": "238cb4e5",
   "metadata": {},
   "source": [
    "### Programming Exercise 1 Total Sales\n",
    "Here we are asked to design a program that asks the user to enter the store's sales for each day of the week, store those values in a list, and use a loop to calculate the total sales for the week and display the result."
   ]
  },
  {
   "cell_type": "code",
   "execution_count": null,
   "id": "a72f5934",
   "metadata": {},
   "outputs": [
    {
     "name": "stdout",
     "output_type": "stream",
     "text": [
      "What are the total sales for Monday? 1234\n",
      "The input entered for Monday is:  1234.0\n"
     ]
    }
   ],
   "source": [
    "def main():\n",
    "    pass\n",
    "\n",
    "# Write a function to get input from the user for sales per day\n",
    "def get_input():\n",
    "     # I made a list with each day of the week\n",
    "    days_week = [\"Monday\",\"Tuesday\",\"Wednesday\",\"Thursday\",\"Friday\",\"Saturday\",\"Sunday\"]\n",
    "    \n",
    "    for item in days_week:\n",
    "        user_input = float(input(f\"What are the total sales for {item}? \"))\n",
    "        print (f\"The input entered for {item} is: \", user_input)\n",
    "        \n",
    "        \n",
    "\n",
    "get_input()"
   ]
  },
  {
   "cell_type": "markdown",
   "id": "ddb60254",
   "metadata": {},
   "source": [
    "So that was just to test that getting input would work, but I'm not going to keep that print statement, I need to do a calculation with the input, and update some of my words to be more prevalent to the question. I also want to include something for input validation moving forward."
   ]
  },
  {
   "cell_type": "code",
   "execution_count": null,
   "id": "5c08331a",
   "metadata": {},
   "outputs": [],
   "source": [
    "# define the main function\n",
    "def main():\n",
    "    pass\n",
    "    # will need to call the get_input function and use that to calculate the total of daily sales\n",
    "\n",
    "# Write a function to get input from the user for sales per day\n",
    "def get_input():\n",
    "    \n",
    "     # I made a list with each day of the week, for use in the loop to ask for the specific day\n",
    "    days_week = [\"Monday\",\"Tuesday\",\"Wednesday\",\"Thursday\",\"Friday\",\"Saturday\",\"Sunday\"]\n",
    "    \n",
    "    # I need an empty list too, to store the input totals...\n",
    "    daily_sales = []\n",
    "    \n",
    "    # A for loop to go through each item in the \"days_week\" list to get input\n",
    "    for day in days_week:\n",
    "        # Adding a try/except statement for input validation, changed \"item\" to \"day\" for cohesion\n",
    "        try:\n",
    "            user_input = float(input(f\"What are the total sales for {day}? \"))\n",
    "            daily_sales.append(user_input)\n",
    "            \n",
    "        except ValueError:\n",
    "            print(\"Please input the total amount of today's sales.\")\n",
    "\n"
   ]
  },
  {
   "cell_type": "code",
   "execution_count": 7,
   "id": "62cb81db",
   "metadata": {},
   "outputs": [
    {
     "name": "stdout",
     "output_type": "stream",
     "text": [
      "What are the total sales for Monday? $1\n",
      "What are the total sales for Tuesday? $1\n",
      "What are the total sales for Wednesday? $1\n",
      "What are the total sales for Thursday? $1\n",
      "What are the total sales for Friday? $1\n",
      "What are the total sales for Saturday? $1\n",
      "What are the total sales for Sunday? $1\n",
      "The total sales for the week are: $7.00\n"
     ]
    }
   ],
   "source": [
    "# define the main function\n",
    "def main():\n",
    "    #call the get input function\n",
    "    daily_sales = get_input()\n",
    "    #calculate the weekly sales from the input gathered from the get_input function\n",
    "    weekly_sales = sum(daily_sales)\n",
    "    \n",
    "    # Display the total of sales, formatted to 2 decimals\n",
    "    print(f\"The total sales for the week are: ${weekly_sales:.2f}\")\n",
    "\n",
    "# Write a function to get input from the user for sales per day\n",
    "def get_input():\n",
    "    \n",
    "     # I made a list with each day of the week, for use in the loop to ask for the specific day\n",
    "    days_week = [\"Monday\",\"Tuesday\",\"Wednesday\",\"Thursday\",\"Friday\",\"Saturday\",\"Sunday\"]\n",
    "    \n",
    "    # I need an empty list too, to store the input totals...\n",
    "    daily_sales = []\n",
    "    \n",
    "    # A for loop to go through each item in the \"days_week\" list to get input\n",
    "    for day in days_week:\n",
    "        # Adding a try/except statement for input validation, changed \"item\" to \"day\" for cohesion\n",
    "        try:\n",
    "            user_input = float(input(f\"What are the total sales for {day}? $\"))\n",
    "            daily_sales.append(user_input)\n",
    "            \n",
    "        except ValueError:\n",
    "            print(\"Please input the total amount of today's sales.\")\n",
    "    \n",
    "    # Return the list of daily sales\n",
    "    return daily_sales\n",
    "\n",
    "#call the main function\n",
    "main()"
   ]
  },
  {
   "cell_type": "markdown",
   "id": "c689db9e",
   "metadata": {},
   "source": [
    "### Programming Ex. 14 Expense Pie Chart \n",
    "Create a text file with expenses for last month in specified categories, then write a python program that reads the data and uses matplotlib to make a pie chart showing expenses.\n",
    "This is weirdly personal so I am absolutely just going to make up a bunch of numbers haha.\n",
    "<br>\n",
    "<br>-So I created a text file named \"expenses\".\n",
    "<br>-I know I should make a list to reference the categories as labels for the chart\n",
    "<br>-I will need to import the matplotlib\n",
    "<br>-I will also need to remember about newline characters when reading a file, if that is something I need to be aware of for this so I can put the text document into another list."
   ]
  },
  {
   "cell_type": "code",
   "execution_count": null,
   "id": "4700d151",
   "metadata": {},
   "outputs": [],
   "source": [
    "# Import matplotlib\n",
    "import matplotlib.pyplot as plt\n",
    "\n",
    "def main():\n",
    "    # Open the expenses.txt I created\n",
    "    file = open(\"expenses.txt\", \"r\")\n",
    "    \n",
    "    # I want to write that files contents to an empty list.\n"
   ]
  }
 ],
 "metadata": {
  "kernelspec": {
   "display_name": "Python 3 (ipykernel)",
   "language": "python",
   "name": "python3"
  },
  "language_info": {
   "codemirror_mode": {
    "name": "ipython",
    "version": 3
   },
   "file_extension": ".py",
   "mimetype": "text/x-python",
   "name": "python",
   "nbconvert_exporter": "python",
   "pygments_lexer": "ipython3",
   "version": "3.11.4"
  }
 },
 "nbformat": 4,
 "nbformat_minor": 5
}
