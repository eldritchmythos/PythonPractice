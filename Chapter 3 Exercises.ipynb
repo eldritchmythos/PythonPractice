{
 "cells": [
  {
   "cell_type": "markdown",
   "id": "cfcae302",
   "metadata": {},
   "source": [
    "# Chapter 3 Exercises"
   ]
  },
  {
   "cell_type": "markdown",
   "id": "1d72d6de",
   "metadata": {},
   "source": [
    "## Algorithm Workbench # 4 and 5"
   ]
  },
  {
   "cell_type": "markdown",
   "id": "51dc23d4",
   "metadata": {},
   "source": [
    "## Exercise 4: Rewrite the provided code with proper indentation and alignment."
   ]
  },
  {
   "cell_type": "code",
   "execution_count": 1,
   "id": "56442043",
   "metadata": {},
   "outputs": [
    {
     "ename": "IndentationError",
     "evalue": "expected an indented block after 'if' statement on line 3 (11807501.py, line 4)",
     "output_type": "error",
     "traceback": [
      "\u001b[1;36m  Cell \u001b[1;32mIn[1], line 4\u001b[1;36m\u001b[0m\n\u001b[1;33m    print('Your grade is A.')\u001b[0m\n\u001b[1;37m    ^\u001b[0m\n\u001b[1;31mIndentationError\u001b[0m\u001b[1;31m:\u001b[0m expected an indented block after 'if' statement on line 3\n"
     ]
    }
   ],
   "source": [
    "#here I copied and pasted the code from the textbook into a Word doc and then back into my Jupyter notebook.\n",
    "\n",
    "if score >= A_score:\n",
    "print('Your grade is A.')\n",
    "else:\n",
    "if score >= B_score:\n",
    "print('Your grade is B.')\n",
    "else:\n",
    "if score >= C_score:\n",
    "print('Your grade is C.')\n",
    "else:\n",
    "if score >= D_score:\n",
    "print('Your grade is D.')\n",
    "else:\n",
    "print('Your grade is F.')\n"
   ]
  },
  {
   "cell_type": "markdown",
   "id": "0dff0aef",
   "metadata": {},
   "source": [
    "as we can see we have to fix this up a bit! I'm going to keep the original up there so I can compare my finished version."
   ]
  },
  {
   "cell_type": "code",
   "execution_count": 3,
   "id": "94ba3800",
   "metadata": {},
   "outputs": [
    {
     "ename": "NameError",
     "evalue": "name 'score' is not defined",
     "output_type": "error",
     "traceback": [
      "\u001b[1;31m---------------------------------------------------------------------------\u001b[0m",
      "\u001b[1;31mNameError\u001b[0m                                 Traceback (most recent call last)",
      "Cell \u001b[1;32mIn[3], line 1\u001b[0m\n\u001b[1;32m----> 1\u001b[0m \u001b[38;5;28;01mif\u001b[39;00m score \u001b[38;5;241m>\u001b[39m\u001b[38;5;241m=\u001b[39m A_score:\n\u001b[0;32m      2\u001b[0m     \u001b[38;5;28mprint\u001b[39m(\u001b[38;5;124m'\u001b[39m\u001b[38;5;124mYour grade is A.\u001b[39m\u001b[38;5;124m'\u001b[39m)\n\u001b[0;32m      3\u001b[0m \u001b[38;5;28;01melse\u001b[39;00m:\n",
      "\u001b[1;31mNameError\u001b[0m: name 'score' is not defined"
     ]
    }
   ],
   "source": [
    "if score >= A_score:\n",
    "    print('Your grade is A.')\n",
    "else:\n",
    "    if score >= B_score:\n",
    "        print('Your grade is B.')\n",
    "    else:\n",
    "        if score >= C_score:\n",
    "            print('Your grade is C.')\n",
    "        else:\n",
    "            if score >= D_score:\n",
    "                print('Your grade is D.')\n",
    "            else:\n",
    "                print('Your grade is F.')\n",
    "                \n",
    "#so I kept each if/else statement block together, using 4 space indentations for the print function from where\n",
    "#the if/else are aligned on the left. Then for each if/else block used an increased 4 space indentation to keep everything\n",
    "#aligned."
   ]
  },
  {
   "cell_type": "code",
   "execution_count": 5,
   "id": "36d9d049",
   "metadata": {},
   "outputs": [
    {
     "name": "stdout",
     "output_type": "stream",
     "text": [
      "Your grade is A.\n"
     ]
    }
   ],
   "source": [
    "#To test that this works well, I'm going to make up numbers for the variables and try the code again.\n",
    "\n",
    "score = 100\n",
    "A_score = 90\n",
    "B_score = 80\n",
    "C_score = 70\n",
    "D_score = 60\n",
    "\n",
    "if score >= A_score:\n",
    "    print('Your grade is A.')\n",
    "else:\n",
    "    if score >= B_score:\n",
    "        print('Your grade is B.')\n",
    "    else:\n",
    "        if score >= C_score:\n",
    "            print('Your grade is C.')\n",
    "        else:\n",
    "            if score >= D_score:\n",
    "                print('Your grade is D.')\n",
    "            else:\n",
    "                print('Your grade is F.')"
   ]
  },
  {
   "cell_type": "code",
   "execution_count": 6,
   "id": "ce220125",
   "metadata": {},
   "outputs": [
    {
     "name": "stdout",
     "output_type": "stream",
     "text": [
      "Your grade is F.\n"
     ]
    }
   ],
   "source": [
    "score = 42\n",
    "A_score = 90\n",
    "B_score = 80\n",
    "C_score = 70\n",
    "D_score = 60\n",
    "\n",
    "if score >= A_score:\n",
    "    print('Your grade is A.')\n",
    "else:\n",
    "    if score >= B_score:\n",
    "        print('Your grade is B.')\n",
    "    else:\n",
    "        if score >= C_score:\n",
    "            print('Your grade is C.')\n",
    "        else:\n",
    "            if score >= D_score:\n",
    "                print('Your grade is D.')\n",
    "            else:\n",
    "                print('Your grade is F.')"
   ]
  },
  {
   "cell_type": "markdown",
   "id": "3100ddb5",
   "metadata": {},
   "source": [
    "## Algorithm Workbench Exercise 5"
   ]
  },
  {
   "cell_type": "markdown",
   "id": "6c10aee8",
   "metadata": {},
   "source": [
    "We are asked to write nested decision structures to perform the following: If 'amount1' is greater than 10 and 'amount2' is less than 100, display the greater of amount 1 and 2.\n",
    "\n",
    "I am going to start by asking the user for input since our variables weren't designated."
   ]
  },
  {
   "cell_type": "code",
   "execution_count": 7,
   "id": "19fb30dd",
   "metadata": {},
   "outputs": [
    {
     "name": "stdout",
     "output_type": "stream",
     "text": [
      "Please enter an amount greater than 10 for amount 1: 15\n",
      "Please enter an amount less than 100 for amount 2: 68\n"
     ]
    }
   ],
   "source": [
    "amount1 = input(\"Please enter an amount greater than 10 for amount 1: \")\n",
    "amont2 = input(\"Please enter an amount less than 100 for amount 2: \")"
   ]
  },
  {
   "cell_type": "code",
   "execution_count": 8,
   "id": "f2d32b58",
   "metadata": {},
   "outputs": [
    {
     "ename": "SyntaxError",
     "evalue": "expected ':' (1534066570.py, line 7)",
     "output_type": "error",
     "traceback": [
      "\u001b[1;36m  Cell \u001b[1;32mIn[8], line 7\u001b[1;36m\u001b[0m\n\u001b[1;33m    if amount1 > 10\u001b[0m\n\u001b[1;37m                   ^\u001b[0m\n\u001b[1;31mSyntaxError\u001b[0m\u001b[1;31m:\u001b[0m expected ':'\n"
     ]
    }
   ],
   "source": [
    "#now I have to find a way to display the greater of the 2 variables using nested decision structures\n",
    "#so I am going to write my first if/else statements, firstly I want to test that the two numbers that were put in by the\n",
    "#user actually fit our parameters set by the assignment question\n",
    "#then once those pass, I want to check those values against each other for a result\n",
    "\n",
    "\n",
    "if amount1 > 10\n",
    "    if amount2 < 100\n",
    "        if amount 1>amount 2\n",
    "            print (\"Amount 1 is greater than amount 2:\", amount1)\n",
    "        else:\n",
    "            print (\"Amount 2 is greater than amount 1:\", amount2)\n",
    "    else \n",
    "        print (\"Amount 2 is not less than 100, please input an amount less than 100\")\n",
    "else:\n",
    "    print (\"Amount 1 is not greater than 10, please input an amount greater than 10.\")"
   ]
  },
  {
   "cell_type": "markdown",
   "id": "abf6cce7",
   "metadata": {},
   "source": [
    "Syntax error here, oops, but I also just noticed a typo as well in cell 7 for amount 2! So now I am going to try to fix that."
   ]
  },
  {
   "cell_type": "code",
   "execution_count": 9,
   "id": "28fb18bf",
   "metadata": {},
   "outputs": [
    {
     "ename": "SyntaxError",
     "evalue": "invalid syntax (3023204173.py, line 6)",
     "output_type": "error",
     "traceback": [
      "\u001b[1;36m  Cell \u001b[1;32mIn[9], line 6\u001b[1;36m\u001b[0m\n\u001b[1;33m    if amount 1>amount 2:\u001b[0m\n\u001b[1;37m              ^\u001b[0m\n\u001b[1;31mSyntaxError\u001b[0m\u001b[1;31m:\u001b[0m invalid syntax\n"
     ]
    }
   ],
   "source": [
    "amount1 = input(\"Please enter an amount greater than 10 for amount 1: \")\n",
    "amount2 = input(\"Please enter an amount less than 100 for amount 2: \")\n",
    "\n",
    "if amount1 > 10:\n",
    "    if amount2 < 100:\n",
    "        if amount 1>amount 2:\n",
    "            print (\"Amount 1 is greater than amount 2:\", amount1)\n",
    "        else:\n",
    "            print (\"Amount 2 is greater than amount 1:\", amount2)\n",
    "    else \n",
    "        print (\"Amount 2 is not less than 100, please input an amount less than 100\")\n",
    "else:\n",
    "    print (\"Amount 1 is not greater than 10, please input an amount greater than 10.\")"
   ]
  },
  {
   "cell_type": "markdown",
   "id": "980eacf3",
   "metadata": {},
   "source": [
    "again, a reminder for me to slow down a bit"
   ]
  },
  {
   "cell_type": "code",
   "execution_count": 10,
   "id": "58c73d92",
   "metadata": {},
   "outputs": [
    {
     "ename": "SyntaxError",
     "evalue": "expected ':' (306701833.py, line 10)",
     "output_type": "error",
     "traceback": [
      "\u001b[1;36m  Cell \u001b[1;32mIn[10], line 10\u001b[1;36m\u001b[0m\n\u001b[1;33m    else\u001b[0m\n\u001b[1;37m         ^\u001b[0m\n\u001b[1;31mSyntaxError\u001b[0m\u001b[1;31m:\u001b[0m expected ':'\n"
     ]
    }
   ],
   "source": [
    "amount1 = input(\"Please enter an amount greater than 10 for amount 1: \")\n",
    "amount2 = input(\"Please enter an amount less than 100 for amount 2: \")\n",
    "\n",
    "if amount1 > 10:\n",
    "    if amount2 < 100:\n",
    "        if amount1 > amount2:\n",
    "            print (\"Amount 1 is greater than amount 2:\", amount1)\n",
    "        else:\n",
    "            print (\"Amount 2 is greater than amount 1:\", amount2)\n",
    "    else\n",
    "        print (\"Amount 2 is not less than 100, please input an amount less than 100\")\n",
    "else:\n",
    "    print (\"Amount 1 is not greater than 10, please input an amount greater than 10.\")"
   ]
  },
  {
   "cell_type": "markdown",
   "id": "48c5dff2",
   "metadata": {},
   "source": [
    "I will get it eventually."
   ]
  },
  {
   "cell_type": "code",
   "execution_count": 11,
   "id": "4149ca57",
   "metadata": {},
   "outputs": [
    {
     "name": "stdout",
     "output_type": "stream",
     "text": [
      "Please enter an amount greater than 10 for amount 1: 3\n",
      "Please enter an amount less than 100 for amount 2: 200\n"
     ]
    },
    {
     "ename": "TypeError",
     "evalue": "'>' not supported between instances of 'str' and 'int'",
     "output_type": "error",
     "traceback": [
      "\u001b[1;31m---------------------------------------------------------------------------\u001b[0m",
      "\u001b[1;31mTypeError\u001b[0m                                 Traceback (most recent call last)",
      "Cell \u001b[1;32mIn[11], line 4\u001b[0m\n\u001b[0;32m      1\u001b[0m amount1 \u001b[38;5;241m=\u001b[39m \u001b[38;5;28minput\u001b[39m(\u001b[38;5;124m\"\u001b[39m\u001b[38;5;124mPlease enter an amount greater than 10 for amount 1: \u001b[39m\u001b[38;5;124m\"\u001b[39m)\n\u001b[0;32m      2\u001b[0m amount2 \u001b[38;5;241m=\u001b[39m \u001b[38;5;28minput\u001b[39m(\u001b[38;5;124m\"\u001b[39m\u001b[38;5;124mPlease enter an amount less than 100 for amount 2: \u001b[39m\u001b[38;5;124m\"\u001b[39m)\n\u001b[1;32m----> 4\u001b[0m \u001b[38;5;28;01mif\u001b[39;00m amount1 \u001b[38;5;241m>\u001b[39m \u001b[38;5;241m10\u001b[39m:\n\u001b[0;32m      5\u001b[0m     \u001b[38;5;28;01mif\u001b[39;00m amount2 \u001b[38;5;241m<\u001b[39m \u001b[38;5;241m100\u001b[39m:\n\u001b[0;32m      6\u001b[0m         \u001b[38;5;28;01mif\u001b[39;00m amount1 \u001b[38;5;241m>\u001b[39m amount2:\n",
      "\u001b[1;31mTypeError\u001b[0m: '>' not supported between instances of 'str' and 'int'"
     ]
    }
   ],
   "source": [
    "amount1 = input(\"Please enter an amount greater than 10 for amount 1: \")\n",
    "amount2 = input(\"Please enter an amount less than 100 for amount 2: \")\n",
    "\n",
    "if amount1 > 10:\n",
    "    if amount2 < 100:\n",
    "        if amount1 > amount2:\n",
    "            print (\"Amount 1 is greater than amount 2:\", amount1)\n",
    "        else:\n",
    "            print (\"Amount 2 is greater than amount 1:\", amount2)\n",
    "    else:\n",
    "        print (\"Amount 2 is not less than 100, please input an amount less than 100\")\n",
    "else:\n",
    "    print (\"Amount 1 is not greater than 10, please input an amount greater than 10.\")"
   ]
  },
  {
   "cell_type": "markdown",
   "id": "100ff20c",
   "metadata": {},
   "source": [
    "So I put in numbers outside of the parameters we were asked for to see if my \"else\" statements ran. Now I have to see what's up I am going to google this type error to see what I can learn.\n",
    "https://stackoverflow.com/questions/41950021/typeerror-not-supported-between-instances-of-str-and-int\n",
    "first thing that came up. It suggests here change my input to int(input('etc')) so ok, I will try that next"
   ]
  },
  {
   "cell_type": "code",
   "execution_count": 12,
   "id": "cdfaee47",
   "metadata": {},
   "outputs": [
    {
     "name": "stdout",
     "output_type": "stream",
     "text": [
      "Please enter an amount greater than 10 for amount 1: 3\n",
      "Please enter an amount less than 100 for amount 2: 200\n",
      "Amount 1 is not greater than 10, please input an amount greater than 10.\n"
     ]
    }
   ],
   "source": [
    "amount1 = int(input(\"Please enter an amount greater than 10 for amount 1: \"))\n",
    "amount2 = int(input(\"Please enter an amount less than 100 for amount 2: \"))\n",
    "\n",
    "if amount1 > 10:\n",
    "    if amount2 < 100:\n",
    "        if amount1 > amount2:\n",
    "            print (\"Amount 1 is greater than amount 2:\", amount1)\n",
    "        else:\n",
    "            print (\"Amount 2 is greater than amount 1:\", amount2)\n",
    "    else:\n",
    "        print (\"Amount 2 is not less than 100, please input an amount less than 100\")\n",
    "else:\n",
    "    print (\"Amount 1 is not greater than 10, please input an amount greater than 10.\")"
   ]
  },
  {
   "cell_type": "markdown",
   "id": "6f08b60a",
   "metadata": {},
   "source": [
    "Now just testing different input numbers"
   ]
  },
  {
   "cell_type": "code",
   "execution_count": 13,
   "id": "bc422767",
   "metadata": {},
   "outputs": [
    {
     "name": "stdout",
     "output_type": "stream",
     "text": [
      "Please enter an amount greater than 10 for amount 1: 13\n",
      "Please enter an amount less than 100 for amount 2: 200\n",
      "Amount 2 is not less than 100, please input an amount less than 100\n"
     ]
    }
   ],
   "source": [
    "amount1 = int(input(\"Please enter an amount greater than 10 for amount 1: \"))\n",
    "amount2 = int(input(\"Please enter an amount less than 100 for amount 2: \"))\n",
    "\n",
    "if amount1 > 10:\n",
    "    if amount2 < 100:\n",
    "        if amount1 > amount2:\n",
    "            print (\"Amount 1 is greater than amount 2:\", amount1)\n",
    "        else:\n",
    "            print (\"Amount 2 is greater than amount 1:\", amount2)\n",
    "    else:\n",
    "        print (\"Amount 2 is not less than 100, please input an amount less than 100\")\n",
    "else:\n",
    "    print (\"Amount 1 is not greater than 10, please input an amount greater than 10.\")"
   ]
  },
  {
   "cell_type": "code",
   "execution_count": 14,
   "id": "b79e5bc8",
   "metadata": {},
   "outputs": [
    {
     "name": "stdout",
     "output_type": "stream",
     "text": [
      "Please enter an amount greater than 10 for amount 1: 13\n",
      "Please enter an amount less than 100 for amount 2: 64\n",
      "Amount 2 is greater than amount 1: 64\n"
     ]
    }
   ],
   "source": [
    "amount1 = int(input(\"Please enter an amount greater than 10 for amount 1: \"))\n",
    "amount2 = int(input(\"Please enter an amount less than 100 for amount 2: \"))\n",
    "\n",
    "if amount1 > 10:\n",
    "    if amount2 < 100:\n",
    "        if amount1 > amount2:\n",
    "            print (\"Amount 1 is greater than amount 2:\", amount1)\n",
    "        else:\n",
    "            print (\"Amount 2 is greater than amount 1:\", amount2)\n",
    "    else:\n",
    "        print (\"Amount 2 is not less than 100, please input an amount less than 100\")\n",
    "else:\n",
    "    print (\"Amount 1 is not greater than 10, please input an amount greater than 10.\")"
   ]
  },
  {
   "cell_type": "code",
   "execution_count": 16,
   "id": "a4141507",
   "metadata": {},
   "outputs": [
    {
     "name": "stdout",
     "output_type": "stream",
     "text": [
      "Please enter an amount greater than 10 for amount 1: 52.7\n"
     ]
    },
    {
     "ename": "ValueError",
     "evalue": "invalid literal for int() with base 10: '52.7'",
     "output_type": "error",
     "traceback": [
      "\u001b[1;31m---------------------------------------------------------------------------\u001b[0m",
      "\u001b[1;31mValueError\u001b[0m                                Traceback (most recent call last)",
      "Cell \u001b[1;32mIn[16], line 1\u001b[0m\n\u001b[1;32m----> 1\u001b[0m amount1 \u001b[38;5;241m=\u001b[39m \u001b[38;5;28mint\u001b[39m(\u001b[38;5;28minput\u001b[39m(\u001b[38;5;124m\"\u001b[39m\u001b[38;5;124mPlease enter an amount greater than 10 for amount 1: \u001b[39m\u001b[38;5;124m\"\u001b[39m))\n\u001b[0;32m      2\u001b[0m amount2 \u001b[38;5;241m=\u001b[39m \u001b[38;5;28mint\u001b[39m(\u001b[38;5;28minput\u001b[39m(\u001b[38;5;124m\"\u001b[39m\u001b[38;5;124mPlease enter an amount less than 100 for amount 2: \u001b[39m\u001b[38;5;124m\"\u001b[39m))\n\u001b[0;32m      4\u001b[0m \u001b[38;5;28;01mif\u001b[39;00m amount1 \u001b[38;5;241m>\u001b[39m \u001b[38;5;241m10\u001b[39m:\n",
      "\u001b[1;31mValueError\u001b[0m: invalid literal for int() with base 10: '52.7'"
     ]
    }
   ],
   "source": [
    "amount1 = int(input(\"Please enter an amount greater than 10 for amount 1: \"))\n",
    "amount2 = int(input(\"Please enter an amount less than 100 for amount 2: \"))\n",
    "\n",
    "if amount1 > 10:\n",
    "    if amount2 < 100:\n",
    "        if amount1 > amount2:\n",
    "            print (\"Amount 1 is greater than amount 2:\", amount1)\n",
    "        else:\n",
    "            print (\"Amount 2 is greater than amount 1:\", amount2)\n",
    "    else:\n",
    "        print (\"Amount 2 is not less than 100, please input an amount less than 100\")\n",
    "else:\n",
    "    print (\"Amount 1 is not greater than 10, please input an amount greater than 10.\")"
   ]
  },
  {
   "cell_type": "markdown",
   "id": "80673205",
   "metadata": {},
   "source": [
    "as expected this doesn't work with decimal numbers, and since I don't have context for what kind of data this will be used for I am thinking it will be best to convert everything to a float instead of an int to cover all potential bases"
   ]
  },
  {
   "cell_type": "code",
   "execution_count": 17,
   "id": "b825677d",
   "metadata": {},
   "outputs": [
    {
     "name": "stdout",
     "output_type": "stream",
     "text": [
      "Please enter an amount greater than 10 for amount 1: 52.7\n",
      "Please enter an amount less than 100 for amount 2: 88.3\n",
      "Amount 2 is greater than amount 1: 88.3\n"
     ]
    }
   ],
   "source": [
    "amount1 = float(input(\"Please enter an amount greater than 10 for amount 1: \"))\n",
    "amount2 = float(input(\"Please enter an amount less than 100 for amount 2: \"))\n",
    "\n",
    "if amount1 > 10:\n",
    "    if amount2 < 100:\n",
    "        if amount1 > amount2:\n",
    "            print (\"Amount 1 is greater than amount 2:\", amount1)\n",
    "        else:\n",
    "            print (\"Amount 2 is greater than amount 1:\", amount2)\n",
    "    else:\n",
    "        print (\"Amount 2 is not less than 100, please input an amount less than 100\")\n",
    "else:\n",
    "    print (\"Amount 1 is not greater than 10, please input an amount greater than 10.\")"
   ]
  },
  {
   "cell_type": "markdown",
   "id": "95e72c0e",
   "metadata": {},
   "source": [
    "## Programming Exercises 1, 5, 15 and 18"
   ]
  },
  {
   "cell_type": "markdown",
   "id": "198614e6",
   "metadata": {},
   "source": [
    "## Exercise 1 Day of the Week\n",
    "We are asked to write a program asking a user for a number 1 through 7 where the program outputs a corresponding day of the week (Monday is 1, etc). Include an error message if the input number is outside of the range specified."
   ]
  },
  {
   "cell_type": "code",
   "execution_count": 18,
   "id": "5d7bec0d",
   "metadata": {},
   "outputs": [
    {
     "name": "stdout",
     "output_type": "stream",
     "text": [
      "Please enter a number 1 through 7 to determine which day of the week it represents: 1\n"
     ]
    }
   ],
   "source": [
    "#I will start by asking the user for input within the range 1 through 7\n",
    "\n",
    "day_of_week = int(input(\"Please enter a number 1 through 7 to determine which day of the week it represents: \"))"
   ]
  },
  {
   "cell_type": "code",
   "execution_count": 19,
   "id": "1d031987",
   "metadata": {},
   "outputs": [
    {
     "name": "stdout",
     "output_type": "stream",
     "text": [
      "It is Monday.\n"
     ]
    }
   ],
   "source": [
    "#now that the user has entered some input, I am going to use if/elif/else statements to determine which day of the week it is\n",
    "#I am using elif, since there are so many days to check the variable against, it hopefully will be more readable\n",
    "#I also am not sure off the bat here if just using the == will work, but I think it should since each day is specifically one number and not a range\n",
    "\n",
    "if day_of_week == 1:\n",
    "    print (\"It is Monday.\")\n",
    "elif day_of_week == 2:\n",
    "    print (\"It is Tueday.\")\n",
    "elif day_of_week == 3:\n",
    "    print (\"It is Wednesday.\")\n",
    "elif day_of_week == 4:\n",
    "    print (\"It is Thursday.\")\n",
    "elif day_of_week == 5:\n",
    "    print (\"It is Friday.\")\n",
    "elif day_of_week == 6:\n",
    "    print (\"It is Saturday.\")\n",
    "elif day_of_week == 7:\n",
    "    print (\"It is Sunday.\")\n",
    "#initially for my else statement I am not sure if just using else without a range will work correctly since I only asked the program to check the\n",
    "#numbers inside of that range so we will try that first.\n",
    "else:\n",
    "    print (\"Please input a number 1 through 7.\")"
   ]
  },
  {
   "cell_type": "code",
   "execution_count": 20,
   "id": "2a8f5ed7",
   "metadata": {},
   "outputs": [
    {
     "name": "stdout",
     "output_type": "stream",
     "text": [
      "Please enter a number 1 through 7 to determine which day of the week it represents: 9\n",
      "Please input a number 1 through 7.\n"
     ]
    }
   ],
   "source": [
    "#now I will test a number outside the range to check my error message\n",
    "\n",
    "day_of_week = int(input(\"Please enter a number 1 through 7 to determine which day of the week it represents: \"))\n",
    "\n",
    "if day_of_week == 1:\n",
    "    print (\"It is Monday.\")\n",
    "elif day_of_week == 2:\n",
    "    print (\"It is Tueday.\")\n",
    "elif day_of_week == 3:\n",
    "    print (\"It is Wednesday.\")\n",
    "elif day_of_week == 4:\n",
    "    print (\"It is Thursday.\")\n",
    "elif day_of_week == 5:\n",
    "    print (\"It is Friday.\")\n",
    "elif day_of_week == 6:\n",
    "    print (\"It is Saturday.\")\n",
    "elif day_of_week == 7:\n",
    "    print (\"It is Sunday.\")\n",
    "else:\n",
    "    print (\"Please input a number 1 through 7.\")"
   ]
  },
  {
   "cell_type": "code",
   "execution_count": 21,
   "id": "3b4019f9",
   "metadata": {},
   "outputs": [
    {
     "name": "stdout",
     "output_type": "stream",
     "text": [
      "Please enter a number 1 through 7 to determine which day of the week it represents: 4\n",
      "It is Thursday.\n"
     ]
    }
   ],
   "source": [
    "day_of_week = int(input(\"Please enter a number 1 through 7 to determine which day of the week it represents: \"))\n",
    "\n",
    "if day_of_week == 1:\n",
    "    print (\"It is Monday.\")\n",
    "elif day_of_week == 2:\n",
    "    print (\"It is Tueday.\")\n",
    "elif day_of_week == 3:\n",
    "    print (\"It is Wednesday.\")\n",
    "elif day_of_week == 4:\n",
    "    print (\"It is Thursday.\")\n",
    "elif day_of_week == 5:\n",
    "    print (\"It is Friday.\")\n",
    "elif day_of_week == 6:\n",
    "    print (\"It is Saturday.\")\n",
    "elif day_of_week == 7:\n",
    "    print (\"It is Sunday.\")\n",
    "else:\n",
    "    print (\"Please input a number 1 through 7.\")"
   ]
  },
  {
   "cell_type": "markdown",
   "id": "041f2b84",
   "metadata": {},
   "source": [
    "## Exercise 5 Mass and Weight\n",
    "Here we are asked to write a program that asks a user to enter an objects mass (kgs), and then calculates its weight (newtons). If it weighs more than 500 newtons, display a message saying it is too heavy, if it is under 100 newtons display a message saying it is too light."
   ]
  },
  {
   "cell_type": "code",
   "execution_count": 24,
   "id": "705df1df",
   "metadata": {},
   "outputs": [
    {
     "name": "stdout",
     "output_type": "stream",
     "text": [
      "Please enter the objects mass in kilograms: 1\n",
      "The object is too light.\n"
     ]
    }
   ],
   "source": [
    "#first we will ask the user to mass of the object in kilograms. Here I am also going to use float to account for any decimals that might be entered\n",
    "\n",
    "mass = float(input(\"Please enter the objects mass in kilograms: \"))\n",
    "\n",
    "weight = mass * 9.8\n",
    "\n",
    "#I used the provided conversion from the textbook question\n",
    "#also here I started to think about formatting the decimals but since I am \n",
    "#not printing a number and the math is happening behind the scenes, \n",
    "#I will leave that alone for now\n",
    "\n",
    "if weight > 500:\n",
    "    print (\"The object is too heavy.\")\n",
    "elif weight < 100:\n",
    "    print (\"The object is too light.\")\n",
    "else:\n",
    "    print (\"The object is within the weight range.\")"
   ]
  },
  {
   "cell_type": "code",
   "execution_count": 25,
   "id": "85ea4a01",
   "metadata": {},
   "outputs": [
    {
     "name": "stdout",
     "output_type": "stream",
     "text": [
      "Please enter the objects mass in kilograms: 55\n",
      "The object is too heavy.\n"
     ]
    }
   ],
   "source": [
    "mass = float(input(\"Please enter the objects mass in kilograms: \"))\n",
    "\n",
    "weight = mass * 9.8\n",
    "\n",
    "if weight > 500:\n",
    "    print (\"The object is too heavy.\")\n",
    "elif weight < 100:\n",
    "    print (\"The object is too light.\")\n",
    "else:\n",
    "    print (\"The object is within the weight range.\")\n",
    "    \n",
    "#just going to test some numbers now"
   ]
  },
  {
   "cell_type": "code",
   "execution_count": 27,
   "id": "392c6113",
   "metadata": {},
   "outputs": [
    {
     "name": "stdout",
     "output_type": "stream",
     "text": [
      "Please enter the objects mass in kilograms: 12\n",
      "The object is within the weight range.\n"
     ]
    }
   ],
   "source": [
    "mass = float(input(\"Please enter the objects mass in kilograms: \"))\n",
    "\n",
    "weight = mass * 9.8\n",
    "\n",
    "if weight > 500:\n",
    "    print (\"The object is too heavy.\")\n",
    "elif weight < 100:\n",
    "    print (\"The object is too light.\")\n",
    "else:\n",
    "    print (\"The object is within the weight range.\")"
   ]
  },
  {
   "cell_type": "markdown",
   "id": "1370382e",
   "metadata": {},
   "source": [
    "## Exercise 15 Time Calculator\n",
    "Here we are asked to write a program that asks the user to enter a number of seconds then convert the seconds into days, hours, minutes, and seconds based on ranges provided."
   ]
  },
  {
   "cell_type": "code",
   "execution_count": 35,
   "id": "73ff0c3e",
   "metadata": {},
   "outputs": [
    {
     "name": "stdout",
     "output_type": "stream",
     "text": [
      "Please input the number of seconds: 75\n",
      "1 15\n"
     ]
    }
   ],
   "source": [
    "#ask the user to input the number of seconds\n",
    "seconds = int(input(\"Please input the number of seconds: \"))\n",
    "\n",
    "#we wait for user input here\n",
    "#using int, since instead of decimals, we are breaking the number down with days/minutes etc.\n",
    "\n",
    "#I am going to us if else statements to check the number input against\n",
    "#the ranges provided to get the desired result\n",
    "\n",
    "if seconds >= 60:\n",
    "    minutes = seconds // 60\n",
    "    seconds = seconds % 60\n",
    "    print (minutes, seconds)\n",
    "else: \n",
    "    minutes = 0\n",
    "    print (seconds)\n",
    "    \n",
    "#I know I need to get a remainder for the seconds I am not sure if this is right so im going to test it"
   ]
  },
  {
   "cell_type": "code",
   "execution_count": 37,
   "id": "0535a6db",
   "metadata": {},
   "outputs": [
    {
     "name": "stdout",
     "output_type": "stream",
     "text": [
      "Please input the number of seconds: 86401\n",
      "1440 1\n"
     ]
    }
   ],
   "source": [
    "#so thats fine, I need to figure out better formatting eventually\n",
    "\n",
    "seconds = int(input(\"Please input the number of seconds: \"))\n",
    "\n",
    "if seconds >= 60:\n",
    "    minutes = seconds // 60\n",
    "    seconds = seconds % 60\n",
    "    print (minutes, seconds)\n",
    "    #check for hours\n",
    "    if seconds >= 3600:\n",
    "        hours = seconds // 3600\n",
    "        seconds = seconds % 3600\n",
    "        print (hours, minutes, seconds)\n",
    "        #check for days\n",
    "        if seconds >= 86400:\n",
    "            days = seconds // 86400\n",
    "            seconds = seconds % 86400\n",
    "            print (days, hours, minutes, seconds)\n",
    "        else:\n",
    "            days = 0\n",
    "    else:\n",
    "        hours = 0   \n",
    "else: \n",
    "    minutes = 0\n",
    "    print (seconds)"
   ]
  },
  {
   "cell_type": "markdown",
   "id": "55ca53e7",
   "metadata": {},
   "source": [
    "Ok, so here I realize yes I have more to do with printing and formatting but also, I think I did it backwards and need to look for days first? because even if the number is very high it will be \"greater than\" 60 so the code will skip the other \"if\" statements.\n",
    "Actually on writing this I realize that will happen even if I check for days first. The problem is nesting? Ok I am going to start over."
   ]
  },
  {
   "cell_type": "code",
   "execution_count": 38,
   "id": "d2218af8",
   "metadata": {},
   "outputs": [
    {
     "name": "stdout",
     "output_type": "stream",
     "text": [
      "Please input the number of seconds: 90061\n",
      " 1 days, 1 hours, 1 minutes, 1 seconds.\n"
     ]
    }
   ],
   "source": [
    "#ask the user for input\n",
    "\n",
    "seconds = int(input(\"Please input the number of seconds: \"))\n",
    "\n",
    "#convert seconds to days\n",
    "if seconds >= 86400:\n",
    "    days = seconds // 86400\n",
    "    seconds = seconds % 86400\n",
    "    \n",
    "else:\n",
    "    days = 0\n",
    "\n",
    "#in the last block, if there were remaining seconds, that updated the \"seconds\" variable\n",
    "#so I will check that updated number to see if we can further break that down into hours or not\n",
    "    \n",
    "if seconds >= 3600:\n",
    "    hours = seconds // 3600\n",
    "    seconds = seconds % 3600\n",
    "    \n",
    "else:\n",
    "    hours = 0\n",
    "    \n",
    "#again, checking that updated remaining seconds to see if it can be broken down into minutes\n",
    "\n",
    "if seconds >= 60:\n",
    "    minutes = seconds // 60\n",
    "    seconds = seconds % 60\n",
    "    \n",
    "else:\n",
    "    minutes = 0\n",
    "\n",
    "#once the code gets down here, the days, hours, minutes, and seconds variables should all have values, seconds being the remaining seconds after all the code\n",
    "#so I won't make another block for the \"seconds\" variable since its already been determined\n",
    "\n",
    "#show the result and format for readability\n",
    "\n",
    "print (f\" {days} days, {hours} hours, {minutes} minutes, {seconds} seconds.\")"
   ]
  },
  {
   "cell_type": "markdown",
   "id": "fe739fb0",
   "metadata": {},
   "source": [
    "## Exercise 18 Restaurant Selector\n",
    "We are given a set of restaurants with vegetarian, vegan, or gluten-free options, then we are asked to write a program that asks whether anyone in your party is vegetarian, vegan, or gluten-free, then displays only the restaurants you can take the group."
   ]
  },
  {
   "cell_type": "code",
   "execution_count": null,
   "id": "269ee5f4",
   "metadata": {},
   "outputs": [],
   "source": [
    "#Asking the user for input to determine if anyone in the party has one or all of these dietary needs\n",
    "\n",
    "vegetarian = input (\"Is anyone in your party vegetarian?\")\n",
    "vegan = input (\"Is anyone in your party vegan?\")\n",
    "gluten_free = input (\"Is anyone in your party gluten-free?\")"
   ]
  }
 ],
 "metadata": {
  "kernelspec": {
   "display_name": "Python 3 (ipykernel)",
   "language": "python",
   "name": "python3"
  },
  "language_info": {
   "codemirror_mode": {
    "name": "ipython",
    "version": 3
   },
   "file_extension": ".py",
   "mimetype": "text/x-python",
   "name": "python",
   "nbconvert_exporter": "python",
   "pygments_lexer": "ipython3",
   "version": "3.11.4"
  }
 },
 "nbformat": 4,
 "nbformat_minor": 5
}
