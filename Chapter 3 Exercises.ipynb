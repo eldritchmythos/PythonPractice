{
 "cells": [
  {
   "cell_type": "markdown",
   "id": "cfcae302",
   "metadata": {},
   "source": [
    "# Chapter 3 Exercises"
   ]
  },
  {
   "cell_type": "markdown",
   "id": "1d72d6de",
   "metadata": {},
   "source": [
    "## Algorithm Workbench # 4 and 5"
   ]
  },
  {
   "cell_type": "markdown",
   "id": "3c12acd4",
   "metadata": {},
   "source": [
    "Exercise 4: Rewrite the provided code with proper indentation and alignment."
   ]
  },
  {
   "cell_type": "code",
   "execution_count": 1,
   "id": "0cc700df",
   "metadata": {},
   "outputs": [
    {
     "ename": "IndentationError",
     "evalue": "expected an indented block after 'if' statement on line 3 (11807501.py, line 4)",
     "output_type": "error",
     "traceback": [
      "\u001b[1;36m  Cell \u001b[1;32mIn[1], line 4\u001b[1;36m\u001b[0m\n\u001b[1;33m    print('Your grade is A.')\u001b[0m\n\u001b[1;37m    ^\u001b[0m\n\u001b[1;31mIndentationError\u001b[0m\u001b[1;31m:\u001b[0m expected an indented block after 'if' statement on line 3\n"
     ]
    }
   ],
   "source": [
    "#here I copied and pasted the code from the textbook into a Word doc and then back into my Jupyter notebook.\n",
    "\n",
    "if score >= A_score:\n",
    "print('Your grade is A.')\n",
    "else:\n",
    "if score >= B_score:\n",
    "print('Your grade is B.')\n",
    "else:\n",
    "if score >= C_score:\n",
    "print('Your grade is C.')\n",
    "else:\n",
    "if score >= D_score:\n",
    "print('Your grade is D.')\n",
    "else:\n",
    "print('Your grade is F.')\n"
   ]
  },
  {
   "cell_type": "markdown",
   "id": "f6368319",
   "metadata": {},
   "source": [
    "as we can see we have to fix this up a bit!"
   ]
  },
  {
   "cell_type": "code",
   "execution_count": null,
   "id": "71beaa54",
   "metadata": {},
   "outputs": [],
   "source": []
  }
 ],
 "metadata": {
  "kernelspec": {
   "display_name": "Python 3 (ipykernel)",
   "language": "python",
   "name": "python3"
  },
  "language_info": {
   "codemirror_mode": {
    "name": "ipython",
    "version": 3
   },
   "file_extension": ".py",
   "mimetype": "text/x-python",
   "name": "python",
   "nbconvert_exporter": "python",
   "pygments_lexer": "ipython3",
   "version": "3.11.4"
  }
 },
 "nbformat": 4,
 "nbformat_minor": 5
}
