{
 "cells": [
  {
   "cell_type": "markdown",
   "id": "7af8f197",
   "metadata": {},
   "source": [
    "# Chapter 8 Exercises\n",
    "## Algorithm Workbench 3 and 10\n",
    "## Programming Exercises 1, _, _, and _"
   ]
  },
  {
   "cell_type": "markdown",
   "id": "09746aef",
   "metadata": {},
   "source": [
    "### Algorithm Workbench #3\n",
    "Here we are asked to write a loop that counts the number of digits that appear in a string referenced by \"mystring\"."
   ]
  },
  {
   "cell_type": "code",
   "execution_count": 25,
   "id": "c9238f45",
   "metadata": {},
   "outputs": [
    {
     "name": "stdout",
     "output_type": "stream",
     "text": [
      "The number of digits in the string is:  18\n"
     ]
    }
   ],
   "source": [
    "def main():\n",
    "    \n",
    "    # I made up a string\n",
    "    mystring = \"123456789abcdefghi123456789\"\n",
    "    \n",
    "    # Initialize an accumulator variable, starting at zero\n",
    "    digit_count = 0\n",
    "\n",
    "    # Create a loop to go through each character in the string\n",
    "    for char in mystring:\n",
    "        # Check if the character is a digit using isdigit string testing method\n",
    "        if char.isdigit():\n",
    "            # If this returns true, I want to add 1 to the accumulator variable\n",
    "            digit_count += 1\n",
    "            \n",
    "    # Print the results\n",
    "    print (\"The number of digits in the string is: \", digit_count)\n",
    "\n",
    "\n",
    "if __name__ == \"__main__\":\n",
    "    main()"
   ]
  },
  {
   "cell_type": "markdown",
   "id": "2c1ad31e",
   "metadata": {},
   "source": [
    "### Algorithm Workbench #10\n",
    "Here we are asked to write a statement that splits a given string, to create a given list."
   ]
  },
  {
   "cell_type": "code",
   "execution_count": 16,
   "id": "14981f2e",
   "metadata": {},
   "outputs": [
    {
     "name": "stdout",
     "output_type": "stream",
     "text": [
      "['cookies', 'milk', 'fudge', 'cake', 'ice cream']\n"
     ]
    }
   ],
   "source": [
    "# Define a function\n",
    "def main():\n",
    "    \n",
    "    # Putting in the string that was in the textbook\n",
    "    mystring = \"cookies>milk>fudge>cake>ice cream\"\n",
    "    \n",
    "    # I want to use the split method using the \">\" as the seperator and create a new list\n",
    "    new_list = mystring.split(\">\")\n",
    "    \n",
    "    # Display the new_list\n",
    "    print (new_list)\n",
    "    \n",
    "# Call the main function\n",
    "if __name__ == \"__main__\":\n",
    "    main()\n",
    "    "
   ]
  },
  {
   "cell_type": "markdown",
   "id": "ea9e3cee",
   "metadata": {},
   "source": [
    "### Programming Exercise #1\n",
    "Here we are asked to write a program that gets a string containing a person's first middle and last names and displays their first middle and last initials.\n",
    "\n",
    "So things I (think I) know.\n",
    "<br> -Full names are usually seperated by spaces\n",
    "<br> -I might be able to assume the initials when typed in will be capital letters already, but who knows, which means I might need to do some input validation? And I'm not sure that information is going to be that helpful anyway.\n",
    "<br> -"
   ]
  },
  {
   "cell_type": "code",
   "execution_count": 27,
   "id": "78afade1",
   "metadata": {},
   "outputs": [
    {
     "name": "stdout",
     "output_type": "stream",
     "text": [
      "Enter your full name: John William Smith\n",
      "['John', 'William', 'Smith']\n"
     ]
    }
   ],
   "source": [
    "def main():\n",
    "    # Get input from the user\n",
    "    full_name = input(\"Enter your full name: \")\n",
    "    \n",
    "    name = full_name.split(\" \")\n",
    "    print (name)\n",
    "    \n",
    "if __name__ == \"__main__\":\n",
    "    main()"
   ]
  },
  {
   "cell_type": "markdown",
   "id": "a6972a9f",
   "metadata": {},
   "source": [
    "Cool, I just wanted to see if that would take the name and put it in a list. Now I want to use slicing, and I am thinking I will use a for loop in case someone has 2 middle names or something."
   ]
  },
  {
   "cell_type": "code",
   "execution_count": 2,
   "id": "9edebf1e",
   "metadata": {},
   "outputs": [
    {
     "name": "stdout",
     "output_type": "stream",
     "text": [
      "Enter your full name: John William Smith\n",
      "['J', 'W', 'S']\n"
     ]
    }
   ],
   "source": [
    "def main():\n",
    "    # Get input from the user\n",
    "    full_name = input(\"Enter your full name: \")\n",
    "    \n",
    "    # Create a new list that splits the user input using the default which is a space\n",
    "    name = full_name.split()\n",
    "    \n",
    "    # Initialize a list so I can store the initials somewhere\n",
    "    initials = []\n",
    "    \n",
    "    # Create a for loop to go through each item in the list and slice it to show only the first index\n",
    "    # which is 0. \n",
    "    for item in name:\n",
    "        # attempting to slice each item down to just the first letter\n",
    "        initials.append(item[0])\n",
    "        \n",
    "    # Display the result\n",
    "    print (initials)\n",
    "    \n",
    "if __name__ == \"__main__\":\n",
    "    main()"
   ]
  },
  {
   "cell_type": "markdown",
   "id": "c10593ae",
   "metadata": {},
   "source": [
    "This is close, but not quite it. However, I need it to have a period and a space between each letter, and for it not to be in a list anymore..."
   ]
  },
  {
   "cell_type": "code",
   "execution_count": 3,
   "id": "f5f44b9a",
   "metadata": {},
   "outputs": [
    {
     "name": "stdout",
     "output_type": "stream",
     "text": [
      "Enter your full name: John Whatever Smith\n",
      "J. W. S. \n"
     ]
    }
   ],
   "source": [
    "def main():\n",
    "    # Get input from the user\n",
    "    full_name = input(\"Enter your full name: \")\n",
    "    \n",
    "    # Create a new list that splits the user input using the default which is a space\n",
    "    name = full_name.split()\n",
    "    \n",
    "    # Initialize a list so I can store the initials somewhere\n",
    "    initials = []\n",
    "    \n",
    "    # Create a for loop to go through each item in the list and slice it to show only the first index\n",
    "    # which is 0. \n",
    "    for item in name:\n",
    "        # attempting to slice each item down to just the first letter\n",
    "        initials.append(item[0])\n",
    "        \n",
    "    # Initialize a variable so I can make a loop that adds the items from the initials list to an empty\n",
    "    # variable, using concatenation. I am really stuck here so I hope this works.\n",
    "    final_initials = \"\"\n",
    "    for i in initials:\n",
    "        final_initials += i + \". \"\n",
    "        \n",
    "    # Display the result\n",
    "    print (final_initials)\n",
    "    \n",
    "if __name__ == \"__main__\":\n",
    "    main()"
   ]
  },
  {
   "cell_type": "code",
   "execution_count": null,
   "id": "d256e820",
   "metadata": {},
   "outputs": [],
   "source": []
  }
 ],
 "metadata": {
  "kernelspec": {
   "display_name": "Python 3 (ipykernel)",
   "language": "python",
   "name": "python3"
  },
  "language_info": {
   "codemirror_mode": {
    "name": "ipython",
    "version": 3
   },
   "file_extension": ".py",
   "mimetype": "text/x-python",
   "name": "python",
   "nbconvert_exporter": "python",
   "pygments_lexer": "ipython3",
   "version": "3.11.4"
  }
 },
 "nbformat": 4,
 "nbformat_minor": 5
}
