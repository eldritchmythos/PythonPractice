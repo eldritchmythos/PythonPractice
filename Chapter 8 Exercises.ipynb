{
 "cells": [
  {
   "cell_type": "markdown",
   "id": "7af8f197",
   "metadata": {},
   "source": [
    "# Chapter 8 Exercises\n",
    "## Algorithm Workbench 3 and 10\n",
    "## Programming Exercises 1, _, _, and _"
   ]
  },
  {
   "cell_type": "markdown",
   "id": "09746aef",
   "metadata": {},
   "source": [
    "### Algorithm Workbench #3\n",
    "Here we are asked to write a loop that counts the number of digits that appear in a string referenced by \"mystring\"."
   ]
  },
  {
   "cell_type": "code",
   "execution_count": 25,
   "id": "c9238f45",
   "metadata": {},
   "outputs": [
    {
     "name": "stdout",
     "output_type": "stream",
     "text": [
      "The number of digits in the string is:  18\n"
     ]
    }
   ],
   "source": [
    "def main():\n",
    "    \n",
    "    # I made up a string\n",
    "    mystring = \"123456789abcdefghi123456789\"\n",
    "    \n",
    "    # Initialize an accumulator variable, starting at zero\n",
    "    digit_count = 0\n",
    "\n",
    "    # Create a loop to go through each character in the string\n",
    "    for char in mystring:\n",
    "        # Check if the character is a digit using isdigit string testing method\n",
    "        if char.isdigit():\n",
    "            # If this returns true, I want to add 1 to the accumulator variable\n",
    "            digit_count += 1\n",
    "            \n",
    "    # Print the results\n",
    "    print (\"The number of digits in the string is: \", digit_count)\n",
    "\n",
    "\n",
    "if __name__ == \"__main__\":\n",
    "    main()"
   ]
  },
  {
   "cell_type": "markdown",
   "id": "2c1ad31e",
   "metadata": {},
   "source": [
    "### Algorithm Workbench #10\n",
    "Here we are asked to write a statement that splits a given string, to create a given list."
   ]
  },
  {
   "cell_type": "code",
   "execution_count": 16,
   "id": "14981f2e",
   "metadata": {},
   "outputs": [
    {
     "name": "stdout",
     "output_type": "stream",
     "text": [
      "['cookies', 'milk', 'fudge', 'cake', 'ice cream']\n"
     ]
    }
   ],
   "source": [
    "# Define a function\n",
    "def main():\n",
    "    \n",
    "    # Putting in the string that was in the textbook\n",
    "    mystring = \"cookies>milk>fudge>cake>ice cream\"\n",
    "    \n",
    "    # I want to use the split method using the \">\" as the seperator and create a new list\n",
    "    new_list = mystring.split(\">\")\n",
    "    \n",
    "    # Display the new_list\n",
    "    print (new_list)\n",
    "    \n",
    "# Call the main function\n",
    "if __name__ == \"__main__\":\n",
    "    main()\n",
    "    "
   ]
  },
  {
   "cell_type": "markdown",
   "id": "ea9e3cee",
   "metadata": {},
   "source": [
    "### Programming Exercise #1\n",
    "Here we are asked to write a program that gets a string containing a person's first middle and last names and displays their first middle and last initials.\n",
    "\n",
    "So things I (think I) know.\n",
    "<br> -Full names are usually seperated by spaces\n",
    "<br> -I might be able to assume the initials when typed in will be capital letters already, but who knows, which means I might need to do some input validation? And I'm not sure that information is going to be that helpful anyway.\n",
    "<br> -"
   ]
  },
  {
   "cell_type": "code",
   "execution_count": 27,
   "id": "78afade1",
   "metadata": {},
   "outputs": [
    {
     "name": "stdout",
     "output_type": "stream",
     "text": [
      "Enter your full name: John William Smith\n",
      "['John', 'William', 'Smith']\n"
     ]
    }
   ],
   "source": [
    "def main():\n",
    "    # Get input from the user\n",
    "    full_name = input(\"Enter your full name: \")\n",
    "    \n",
    "    name = full_name.split(\" \")\n",
    "    print (name)\n",
    "    \n",
    "if __name__ == \"__main__\":\n",
    "    main()"
   ]
  },
  {
   "cell_type": "markdown",
   "id": "a6972a9f",
   "metadata": {},
   "source": [
    "Cool, I just wanted to see if that would take the name and put it in a list."
   ]
  },
  {
   "cell_type": "code",
   "execution_count": 28,
   "id": "9edebf1e",
   "metadata": {},
   "outputs": [
    {
     "name": "stdout",
     "output_type": "stream",
     "text": [
      "Enter your full name: Michael John Edward Murphy\n",
      "['Michael', 'John', 'Edward', 'Murphy']\n"
     ]
    }
   ],
   "source": [
    "def main():\n",
    "    # Get input from the user\n",
    "    full_name = input(\"Enter your full name: \")\n",
    "    \n",
    "    # Create a new list that splits the user input using the \" \" character\n",
    "    name = full_name.split(\" \")\n",
    "    \n",
    "    \n",
    "    # Display the result\n",
    "    print (name)\n",
    "    \n",
    "if __name__ == \"__main__\":\n",
    "    main()"
   ]
  },
  {
   "cell_type": "code",
   "execution_count": null,
   "id": "aa6f653e",
   "metadata": {},
   "outputs": [],
   "source": []
  }
 ],
 "metadata": {
  "kernelspec": {
   "display_name": "Python 3 (ipykernel)",
   "language": "python",
   "name": "python3"
  },
  "language_info": {
   "codemirror_mode": {
    "name": "ipython",
    "version": 3
   },
   "file_extension": ".py",
   "mimetype": "text/x-python",
   "name": "python",
   "nbconvert_exporter": "python",
   "pygments_lexer": "ipython3",
   "version": "3.11.4"
  }
 },
 "nbformat": 4,
 "nbformat_minor": 5
}
