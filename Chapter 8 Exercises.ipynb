{
 "cells": [
  {
   "cell_type": "markdown",
   "id": "7af8f197",
   "metadata": {},
   "source": [
    "# Chapter 8 Exercises\n",
    "## Algorithm Workbench 3 and 10\n",
    "## Programming Exercises 1, 2, 9, and 7"
   ]
  },
  {
   "cell_type": "markdown",
   "id": "09746aef",
   "metadata": {},
   "source": [
    "### Algorithm Workbench #3\n",
    "Here we are asked to write a loop that counts the number of digits that appear in a string referenced by \"mystring\"."
   ]
  },
  {
   "cell_type": "code",
   "execution_count": 25,
   "id": "c9238f45",
   "metadata": {},
   "outputs": [
    {
     "name": "stdout",
     "output_type": "stream",
     "text": [
      "The number of digits in the string is:  18\n"
     ]
    }
   ],
   "source": [
    "def main():\n",
    "    \n",
    "    # I made up a string\n",
    "    mystring = \"123456789abcdefghi123456789\"\n",
    "    \n",
    "    # Initialize an accumulator variable, starting at zero\n",
    "    digit_count = 0\n",
    "\n",
    "    # Create a loop to go through each character in the string\n",
    "    for char in mystring:\n",
    "        # Check if the character is a digit using isdigit string testing method\n",
    "        if char.isdigit():\n",
    "            # If this returns true, I want to add 1 to the accumulator variable\n",
    "            digit_count += 1\n",
    "            \n",
    "    # Print the results\n",
    "    print (\"The number of digits in the string is: \", digit_count)\n",
    "\n",
    "\n",
    "if __name__ == \"__main__\":\n",
    "    main()"
   ]
  },
  {
   "cell_type": "markdown",
   "id": "2c1ad31e",
   "metadata": {},
   "source": [
    "### Algorithm Workbench #10\n",
    "Here we are asked to write a statement that splits a given string, to create a given list."
   ]
  },
  {
   "cell_type": "code",
   "execution_count": 16,
   "id": "14981f2e",
   "metadata": {},
   "outputs": [
    {
     "name": "stdout",
     "output_type": "stream",
     "text": [
      "['cookies', 'milk', 'fudge', 'cake', 'ice cream']\n"
     ]
    }
   ],
   "source": [
    "# Define a function\n",
    "def main():\n",
    "    \n",
    "    # Putting in the string that was in the textbook\n",
    "    mystring = \"cookies>milk>fudge>cake>ice cream\"\n",
    "    \n",
    "    # I want to use the split method using the \">\" as the seperator and create a new list\n",
    "    new_list = mystring.split(\">\")\n",
    "    \n",
    "    # Display the new_list\n",
    "    print (new_list)\n",
    "    \n",
    "# Call the main function\n",
    "if __name__ == \"__main__\":\n",
    "    main()\n",
    "    "
   ]
  },
  {
   "cell_type": "markdown",
   "id": "ea9e3cee",
   "metadata": {},
   "source": [
    "### Programming Exercise #1\n",
    "Here we are asked to write a program that gets a string containing a person's first middle and last names and displays their first middle and last initials.\n",
    "\n",
    "So things I (think I) know.\n",
    "<br> -Full names are usually seperated by spaces\n",
    "<br> -I might be able to assume the initials when typed in will be capital letters already, but who knows, which means I might need to do some input validation? And I'm not sure that information is going to be that helpful anyway.\n",
    "<br> -"
   ]
  },
  {
   "cell_type": "code",
   "execution_count": 27,
   "id": "78afade1",
   "metadata": {},
   "outputs": [
    {
     "name": "stdout",
     "output_type": "stream",
     "text": [
      "Enter your full name: John William Smith\n",
      "['John', 'William', 'Smith']\n"
     ]
    }
   ],
   "source": [
    "def main():\n",
    "    # Get input from the user\n",
    "    full_name = input(\"Enter your full name: \")\n",
    "    \n",
    "    name = full_name.split(\" \")\n",
    "    print (name)\n",
    "    \n",
    "if __name__ == \"__main__\":\n",
    "    main()"
   ]
  },
  {
   "cell_type": "markdown",
   "id": "a6972a9f",
   "metadata": {},
   "source": [
    "Cool, I just wanted to see if that would take the name and put it in a list. Now I want to use slicing, and I am thinking I will use a for loop in case someone has 2 middle names or something."
   ]
  },
  {
   "cell_type": "code",
   "execution_count": 2,
   "id": "9edebf1e",
   "metadata": {},
   "outputs": [
    {
     "name": "stdout",
     "output_type": "stream",
     "text": [
      "Enter your full name: John William Smith\n",
      "['J', 'W', 'S']\n"
     ]
    }
   ],
   "source": [
    "def main():\n",
    "    # Get input from the user\n",
    "    full_name = input(\"Enter your full name: \")\n",
    "    \n",
    "    # Create a new list that splits the user input using the default which is a space\n",
    "    name = full_name.split()\n",
    "    \n",
    "    # Initialize a list so I can store the initials somewhere\n",
    "    initials = []\n",
    "    \n",
    "    # Create a for loop to go through each item in the list and slice it to show only the first index\n",
    "    # which is 0. \n",
    "    for item in name:\n",
    "        # attempting to slice each item down to just the first letter\n",
    "        initials.append(item[0])\n",
    "        \n",
    "    # Display the result\n",
    "    print (initials)\n",
    "    \n",
    "if __name__ == \"__main__\":\n",
    "    main()"
   ]
  },
  {
   "cell_type": "markdown",
   "id": "915824e5",
   "metadata": {},
   "source": [
    "This is close, but not quite it. However, I need it to have a period and a space between each letter, and for it not to be in a list anymore..."
   ]
  },
  {
   "cell_type": "code",
   "execution_count": 6,
   "id": "3b0316dd",
   "metadata": {},
   "outputs": [
    {
     "name": "stdout",
     "output_type": "stream",
     "text": [
      "Enter your full name: Tyler Scott Ross\n",
      "T. S. R. \n"
     ]
    }
   ],
   "source": [
    "def main():\n",
    "    # Get input from the user\n",
    "    full_name = input(\"Enter your full name: \")\n",
    "    \n",
    "    # Create a new list that splits the user input using the default which is a space\n",
    "    name = full_name.split()\n",
    "    \n",
    "    # Initialize a list so I can store the initials somewhere\n",
    "    initials = []\n",
    "    \n",
    "    # Create a for loop to go through each item in the list and slice it to show only the first index\n",
    "    # which is 0. \n",
    "    for item in name:\n",
    "        # attempting to slice each item down to just the first letter\n",
    "        initials.append(item[0])\n",
    "        \n",
    "    # Initialize a variable so I can make a loop that adds the items from the initials list to an empty\n",
    "    # variable, using concatenation. I am really stuck here so I hope this works.\n",
    "    final_initials = \"\"\n",
    "    for i in initials:\n",
    "        final_initials += i + \". \"\n",
    "        \n",
    "    # Display the result\n",
    "    print (final_initials)\n",
    "    \n",
    "if __name__ == \"__main__\":\n",
    "    main()"
   ]
  },
  {
   "cell_type": "markdown",
   "id": "d36c814b",
   "metadata": {},
   "source": [
    "### Programming Exercise #2\n",
    "Here we are asked to write a program that asks the user to enter a series of single digit numbers with nothing seperating them and the program should display the sum of all of the numbers added together."
   ]
  },
  {
   "cell_type": "code",
   "execution_count": 7,
   "id": "c9fa315b",
   "metadata": {},
   "outputs": [
    {
     "name": "stdout",
     "output_type": "stream",
     "text": [
      "Please enter a series of numbers without spaces: 123456789\n",
      "['1', '2', '3', '4', '5', '6', '7', '8', '9']\n"
     ]
    }
   ],
   "source": [
    "def main():\n",
    "    # Get user input\n",
    "    number_series = input(\"Please enter a series of numbers without spaces: \")\n",
    "    \n",
    "    # for now I am creating an empty list so once I figure out how to seperate the user input, I can \n",
    "    # store it somewhere.\n",
    "    number_list = []\n",
    "    \n",
    "    for num in number_series:\n",
    "        number_list.append(num)\n",
    "    \n",
    "    print(number_list)\n",
    "    \n",
    "if __name__ == \"__main__\":\n",
    "    main()"
   ]
  },
  {
   "cell_type": "markdown",
   "id": "b146fb20",
   "metadata": {},
   "source": [
    "Yay, so I just wanted to make sure that would store those values how I want, now I know I want to make a for loop that goes through each item in the list and adds them to each other, and I'll store it in an accumulator variable, and print that result."
   ]
  },
  {
   "cell_type": "code",
   "execution_count": 23,
   "id": "2618c165",
   "metadata": {},
   "outputs": [
    {
     "name": "stdout",
     "output_type": "stream",
     "text": [
      "Please enter a series of numbers without spaces: 123\n",
      "The sum of the series of numbers you input is:  6\n"
     ]
    }
   ],
   "source": [
    "def main():\n",
    "    # Get user input\n",
    "    number_series = input(\"Please enter a series of numbers without spaces: \")\n",
    "    \n",
    "    # create an empty list to store the numbers from the input\n",
    "    number_list = []\n",
    "    \n",
    "    #create a for loop that takes each character from the input and appends it in the number_list \n",
    "    #list, and convert to int\n",
    "    for num in number_series:\n",
    "        number_list.append(int(num))\n",
    "        \n",
    "    #create an accumulator variable to store the sum of the items in the list\n",
    "    num_sum = 0\n",
    "    \n",
    "    #create another for loop that will add each item in the list together\n",
    "    for item in number_list:\n",
    "        num_sum += item\n",
    "    \n",
    "    print(\"The sum of the series of numbers you input is: \", num_sum)\n",
    "    \n",
    "if __name__ == \"__main__\":\n",
    "    main()"
   ]
  },
  {
   "cell_type": "markdown",
   "id": "6ceaabb7",
   "metadata": {},
   "source": [
    "I felt like I was on the right track, but was missing where to put the int conversion, initially I thought the input, but that wasn't working, I checked with chat gpt to see where it went, and it said in that for loop where I seperated the input. So I asked why and it says for better error handling, it also suggested that I use \".isdigit\" to check input during that loop which is a good idea but not my idea so I'll keep that in mind moving forward."
   ]
  },
  {
   "cell_type": "markdown",
   "id": "8913bde7",
   "metadata": {},
   "source": [
    "### Programming Ex. #9 Vowels and Consonants\n",
    "Here we are asked to write a program that asks a user to enter a string, and uses two different functions to show how many vowels and also how many consonants are in the string.\n",
    "\n",
    "Things I think I know:\n",
    "<br>  - vowels are \"a,e,i,o,u\" I dont know very much about sometimes y, so I am going to make that a consonant for this program. \n",
    "<br> - I think I can make a variable with known vowels to compare the user input to \n",
    "<br> - I will need accumulator variables for vowels and consonants"
   ]
  },
  {
   "cell_type": "code",
   "execution_count": 28,
   "id": "9e3500c6",
   "metadata": {},
   "outputs": [
    {
     "name": "stdout",
     "output_type": "stream",
     "text": [
      "Please type in a sentence: mary had a little lamb\n",
      "The amount of vowels in your sentence is:  1\n",
      "The amount of consonants in your sentence is:  12\n"
     ]
    }
   ],
   "source": [
    "# Create a function that passes user_input as an argument to get the vowels from the string\n",
    "def get_vowels(user_input):\n",
    "    \n",
    "    # Created a reference string for vowels\n",
    "    vowel_ref = \"aeiou\"\n",
    "    \n",
    "    # Initialize an accumulator variable for amount of vowels in the sentence\n",
    "    vowel_count = 0\n",
    "    \n",
    "    # Use a for loop to iterate through the input and add 1 to vowel_count if it matches the\n",
    "    # reference variable.\n",
    "    for letter in user_input:\n",
    "        if letter in vowel_ref:\n",
    "            vowel_count =+ 1\n",
    "\n",
    "    return vowel_count\n",
    "        \n",
    "def get_consonants(user_input):\n",
    "    \n",
    "    # Create a reference variable for consonants\n",
    "    consonant_ref = \"bcdfghjklmnpqrstvwxyz\"\n",
    "    \n",
    "    # Initialize an accumulator variable for consonants\n",
    "    consonant_count = 0\n",
    "    \n",
    "    for letter in user_input:\n",
    "        if letter in consonant_ref:\n",
    "            consonant_count += 1\n",
    "            \n",
    "    return consonant_count\n",
    "\n",
    "def main():\n",
    "    # Get user input\n",
    "    user_input = input(\"Please type in a sentence: \")\n",
    "    \n",
    "    # Call the two functions\n",
    "    vowels = get_vowels(user_input)\n",
    "    consonants = get_consonants(user_input)\n",
    "    \n",
    "    # Display the results\n",
    "    print (\"The amount of vowels in your sentence is: \", vowels)\n",
    "    print (\"The amount of consonants in your sentence is: \", consonants)\n",
    "    \n",
    "if __name__ == \"__main__\":\n",
    "    main()\n",
    "    "
   ]
  },
  {
   "cell_type": "markdown",
   "id": "fc28808f",
   "metadata": {},
   "source": [
    "my vowel count was off and I couldn't figure out why but I mis-typed the += as =+ on accident so hopefully that will fix all of that"
   ]
  },
  {
   "cell_type": "code",
   "execution_count": 30,
   "id": "3b013ab0",
   "metadata": {},
   "outputs": [
    {
     "name": "stdout",
     "output_type": "stream",
     "text": [
      "Please type in a sentence: MARY HAD A LITTLE LAMB\n",
      "The amount of vowels in your sentence is:  0\n",
      "The amount of consonants in your sentence is:  0\n"
     ]
    }
   ],
   "source": [
    "# Create a function that passes user_input as an argument to get the vowels from the string\n",
    "def get_vowels(user_input):\n",
    "    \n",
    "    # Created a reference string for vowels\n",
    "    vowel_ref = \"aeiou\"\n",
    "    \n",
    "    # Initialize an accumulator variable for amount of vowels in the sentence\n",
    "    vowel_count = 0\n",
    "    \n",
    "    # Use a for loop to iterate through the input and add 1 to vowel_count if it matches the\n",
    "    # reference variable.\n",
    "    for letter in user_input:\n",
    "        if letter in vowel_ref:\n",
    "            vowel_count += 1\n",
    "\n",
    "    return vowel_count\n",
    "        \n",
    "def get_consonants(user_input):\n",
    "    \n",
    "    # Create a reference variable for consonants\n",
    "    consonant_ref = \"bcdfghjklmnpqrstvwxyz\"\n",
    "    \n",
    "    # Initialize an accumulator variable for consonants\n",
    "    consonant_count = 0\n",
    "    \n",
    "    for letter in user_input:\n",
    "        if letter in consonant_ref:\n",
    "            consonant_count += 1\n",
    "            \n",
    "    return consonant_count\n",
    "\n",
    "def main():\n",
    "    # Get user input\n",
    "    user_input = input(\"Please type in a sentence: \")\n",
    "    \n",
    "    # Call the two functions\n",
    "    vowels = get_vowels(user_input)\n",
    "    consonants = get_consonants(user_input)\n",
    "    \n",
    "    # Display the results\n",
    "    print (\"The amount of vowels in your sentence is: \", vowels)\n",
    "    print (\"The amount of consonants in your sentence is: \", consonants)\n",
    "    \n",
    "if __name__ == \"__main__\":\n",
    "    main()\n",
    "    "
   ]
  },
  {
   "cell_type": "markdown",
   "id": "bd5b5782",
   "metadata": {},
   "source": [
    "I want to also include capital letters, also at first I was concerned about removing spaces from the user input, but if I am only referencing the letters in my ref variables then I shouldn't need to worry about spaces or punctuation affecting anything."
   ]
  },
  {
   "cell_type": "code",
   "execution_count": 32,
   "id": "6f120712",
   "metadata": {},
   "outputs": [
    {
     "name": "stdout",
     "output_type": "stream",
     "text": [
      "Please type in a sentence: aeiouAEIOUbcdfghjklmnpqrstvwxyzBCDFGHJKLMNPQRSTVWXYZ\n",
      "The amount of vowels in your sentence is:  10\n",
      "The amount of consonants in your sentence is:  42\n"
     ]
    }
   ],
   "source": [
    "# Create a function that passes user_input as an argument to get the vowels from the string\n",
    "def get_vowels(user_input):\n",
    "    \n",
    "    # Created a reference string for vowels\n",
    "    vowel_ref = \"aeiouAEIOU\"\n",
    "    \n",
    "    # Initialize an accumulator variable for amount of vowels in the sentence\n",
    "    vowel_count = 0\n",
    "    \n",
    "    # Use a for loop to iterate through the input and add 1 to vowel_count if it matches the\n",
    "    # reference variable.\n",
    "    for letter in user_input:\n",
    "        if letter in vowel_ref:\n",
    "            vowel_count += 1\n",
    "\n",
    "    return vowel_count\n",
    "        \n",
    "def get_consonants(user_input):\n",
    "    \n",
    "    # Create a reference variable for consonants\n",
    "    consonant_ref = \"bcdfghjklmnpqrstvwxyzBCDFGHJKLMNPQRSTVWXYZ\"\n",
    "    \n",
    "    # Initialize an accumulator variable for consonants\n",
    "    consonant_count = 0\n",
    "    \n",
    "    for letter in user_input:\n",
    "        if letter in consonant_ref:\n",
    "            consonant_count += 1\n",
    "            \n",
    "    return consonant_count\n",
    "\n",
    "def main():\n",
    "    # Get user input\n",
    "    user_input = input(\"Please type in a sentence: \")\n",
    "    \n",
    "    # Call the two functions\n",
    "    vowels = get_vowels(user_input)\n",
    "    consonants = get_consonants(user_input)\n",
    "    \n",
    "    # Display the results\n",
    "    print (\"The amount of vowels in your sentence is: \", vowels)\n",
    "    print (\"The amount of consonants in your sentence is: \", consonants)\n",
    "    \n",
    "if __name__ == \"__main__\":\n",
    "    main()\n",
    "    "
   ]
  },
  {
   "cell_type": "markdown",
   "id": "dc4a5163",
   "metadata": {},
   "source": []
  }
 ],
 "metadata": {
  "kernelspec": {
   "display_name": "Python 3 (ipykernel)",
   "language": "python",
   "name": "python3"
  },
  "language_info": {
   "codemirror_mode": {
    "name": "ipython",
    "version": 3
   },
   "file_extension": ".py",
   "mimetype": "text/x-python",
   "name": "python",
   "nbconvert_exporter": "python",
   "pygments_lexer": "ipython3",
   "version": "3.11.4"
  }
 },
 "nbformat": 4,
 "nbformat_minor": 5
}
