{
 "cells": [
  {
   "cell_type": "markdown",
   "id": "7d969e77",
   "metadata": {},
   "source": [
    "# Chapter 1 Exercises\n",
    "Problems 1,3, and 5"
   ]
  },
  {
   "cell_type": "markdown",
   "id": "1deadcc6",
   "metadata": {},
   "source": [
    "## Exercise 1\n",
    "Trying out the python interpreter using the print function"
   ]
  },
  {
   "cell_type": "code",
   "execution_count": 4,
   "id": "02655df2",
   "metadata": {},
   "outputs": [
    {
     "name": "stdout",
     "output_type": "stream",
     "text": [
      "This is a test of the Python interpreter.\n"
     ]
    }
   ],
   "source": [
    "# demonstrating the use of the print function\n",
    "print(\"This is a test of the Python interpreter.\")"
   ]
  },
  {
   "cell_type": "code",
   "execution_count": 6,
   "id": "7f013456",
   "metadata": {},
   "outputs": [
    {
     "name": "stdout",
     "output_type": "stream",
     "text": [
      "Yo, my name is Eldritch! I am: 31\n"
     ]
    }
   ],
   "source": [
    "print('Yo, my name is Eldritch! I am:', 31)"
   ]
  },
  {
   "cell_type": "markdown",
   "id": "6b66228a",
   "metadata": {},
   "source": [
    "## Exercise 3"
   ]
  },
  {
   "cell_type": "markdown",
   "id": "4974a063",
   "metadata": {},
   "source": [
    "I referenced Figure 1-9 the values of binary digits from the textbook to\n",
    "convert the following to binary.\n",
    "\n",
    "In explanation of the textbook reference- converting a number to binary involves breaking down the number into powers of 2 and representing each power with a 1 or 0, depending on whether it fits into the number or not. In my work I showed the number being converted followed by the binary representation. My work done is shown in parenthesis containing the powers of 2, with 2^0 being the rightmost number, increasing the power by one moving left, filled with a number if it fit or a zero as a placeholder if it didn't to maintain positioning/organization of the digits.\n",
    "\n",
    "11=1011 (8+0+2+1)\n",
    "\n",
    "65=1000001 (64+0+0+0+0+0+1)\n",
    "\n",
    "100=1100100 (64+32+0+0+4+0+0)\n",
    "\n",
    "255=11111111 (128+64+32+16+8+4+2+1)"
   ]
  },
  {
   "cell_type": "markdown",
   "id": "4fdcc878",
   "metadata": {},
   "source": [
    "## Exercise 5\n",
    "I used the ASCII Chart in Appendix C of the textbook to determine the codes for each letter of my first name."
   ]
  },
  {
   "cell_type": "markdown",
   "id": "591a8057",
   "metadata": {},
   "source": [
    "E-69\n",
    "l-108\n",
    "d-100\n",
    "r-114\n",
    "i-105\n",
    "t-116\n",
    "c-99\n",
    "h-104"
   ]
  },
  {
   "cell_type": "code",
   "execution_count": null,
   "id": "6a3f00df",
   "metadata": {},
   "outputs": [],
   "source": []
  }
 ],
 "metadata": {
  "kernelspec": {
   "display_name": "Python 3 (ipykernel)",
   "language": "python",
   "name": "python3"
  },
  "language_info": {
   "codemirror_mode": {
    "name": "ipython",
    "version": 3
   },
   "file_extension": ".py",
   "mimetype": "text/x-python",
   "name": "python",
   "nbconvert_exporter": "python",
   "pygments_lexer": "ipython3",
   "version": "3.11.4"
  }
 },
 "nbformat": 4,
 "nbformat_minor": 5
}
