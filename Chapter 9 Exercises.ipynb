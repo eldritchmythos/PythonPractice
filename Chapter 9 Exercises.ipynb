{
 "cells": [
  {
   "cell_type": "markdown",
   "id": "62536549",
   "metadata": {},
   "source": [
    "### Chapter 9 Exercises \n",
    "Complete one question from programming Ex. in Chapter 9.\n",
    "<br> - Include a screen recording of some of your work coding using Snagit with audio\n",
    "<br> - Create and leverage at least one custom module for each solution\n",
    "<br> - Create at least one diagram/flowchart/hierarchy chart\n",
    "<br> - Include a main function that starts execution"
   ]
  },
  {
   "cell_type": "markdown",
   "id": "74b789ea",
   "metadata": {},
   "source": [
    "## Programming Ex. #2, Capital Quiz\n",
    "Things I think I know:\n",
    "<br> - I need to make a dictionary of the states and capitals\n",
    "<br> - I want to use a for loop to go through each line of my file called state_cap.txt that contains a list of the states seperated by a comma from their capitals, then I want to use the comma as a delimiter to split each line of that file to store in the dictionary\n",
    "<br> - I want to use the key (state name) from the dictionary to ask the user to input the capital city\n",
    "<br> - I need to take that input and compare it to the value of the key (capital city) (also do some input validation here as well for case sensitivity etc. I think)\n",
    "<br> - Create accumulator variables to keep track of correct and incorrect answers\n",
    "<br> - Use a for loop to go through each element in the dictionary for the quiz"
   ]
  },
  {
   "cell_type": "code",
   "execution_count": null,
   "id": "d2d78406",
   "metadata": {},
   "outputs": [],
   "source": [
    "# Define a function to create a dictionary from a text file containing the 50 states \n",
    "# and their capitals\n",
    "def get_dict():\n",
    "    # Create an empty dictionary\n",
    "    state_capital_dict = {}\n",
    "    \n",
    "    # open and read the text file\n",
    "    \n",
    "    \n",
    "    "
   ]
  }
 ],
 "metadata": {
  "kernelspec": {
   "display_name": "Python 3 (ipykernel)",
   "language": "python",
   "name": "python3"
  },
  "language_info": {
   "codemirror_mode": {
    "name": "ipython",
    "version": 3
   },
   "file_extension": ".py",
   "mimetype": "text/x-python",
   "name": "python",
   "nbconvert_exporter": "python",
   "pygments_lexer": "ipython3",
   "version": "3.11.4"
  }
 },
 "nbformat": 4,
 "nbformat_minor": 5
}
