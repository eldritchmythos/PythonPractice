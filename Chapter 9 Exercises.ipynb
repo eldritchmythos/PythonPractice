{
 "cells": [
  {
   "cell_type": "markdown",
   "id": "323333e6",
   "metadata": {},
   "source": [
    "### Chapter 9 Exercises \n",
    "Complete one question from programming Ex. in Chapter 9.\n",
    "<br> - Include a screen recording of some of your work coding using Snagit\n",
    "<br> - Create and leverage at least one custom module for each solution\n",
    "<br> - Create at least one diagram/flowchart/hierarchy chart\n",
    "<br> - Include a main function that starts execution"
   ]
  },
  {
   "cell_type": "code",
   "execution_count": null,
   "id": "9e67e597",
   "metadata": {},
   "outputs": [],
   "source": []
  }
 ],
 "metadata": {
  "kernelspec": {
   "display_name": "Python 3 (ipykernel)",
   "language": "python",
   "name": "python3"
  },
  "language_info": {
   "codemirror_mode": {
    "name": "ipython",
    "version": 3
   },
   "file_extension": ".py",
   "mimetype": "text/x-python",
   "name": "python",
   "nbconvert_exporter": "python",
   "pygments_lexer": "ipython3",
   "version": "3.11.4"
  }
 },
 "nbformat": 4,
 "nbformat_minor": 5
}
