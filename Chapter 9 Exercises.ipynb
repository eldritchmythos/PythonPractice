{
 "cells": [
  {
   "cell_type": "markdown",
   "id": "d1f2dc6d",
   "metadata": {},
   "source": [
    "### Chapter 9 Exercises \n",
    "Complete one question from programming Ex. in Chapter 9.\n",
    "<br> - Include a screen recording of some of your work coding using Snagit with audio\n",
    "<br> - Create and leverage at least one custom module for each solution\n",
    "<br> - Create at least one diagram/flowchart/hierarchy chart\n",
    "<br> - Include a main function that starts execution"
   ]
  },
  {
   "cell_type": "markdown",
   "id": "ab0727a6",
   "metadata": {},
   "source": [
    "## Programming Ex. #2, Capital Quiz\n",
    "Things I think I know:\n",
    "<br> - I need to make a dictionary of the states and capitals\n",
    "<br> - I want to use a for loop to go through each line of my file called state_cap.txt that contains a list of the states seperated by a comma from their capitals, then I want to use the comma as a delimiter to split each line of that file to store in the dictionary\n",
    "<br> - I want to use the key (state name) from the dictionary to ask the user to input the capital city\n",
    "<br> - I need to take that input and compare it to the value of the key (capital city) (also do some input validation here as well for case sensitivity etc. I think)\n",
    "<br> - Create accumulator variables to keep track of correct and incorrect answers\n",
    "<br> - Use a for loop to go through each element in the dictionary for the quiz"
   ]
  },
  {
   "cell_type": "code",
   "execution_count": 4,
   "id": "d991c2e1",
   "metadata": {},
   "outputs": [
    {
     "name": "stdout",
     "output_type": "stream",
     "text": [
      "{'Alabama': ' Montgomery\\n', 'Alaska': ' Juneau\\n', 'Arizona': ' Phoenix\\n', 'Arkansas': ' Little Rock\\n', 'California': ' Sacramento\\n', 'Colorado': ' Denver\\n', 'Connecticut': ' Hartford\\n', 'Delaware': ' Dover\\n', 'Florida': ' Tallahassee\\n', 'Georgia': ' Atlanta\\n', 'Hawaii': ' Honolulu\\n', 'Idaho': ' Boise\\n', 'Illinois': ' Springfield\\n', 'Indiana': ' Indianapolis\\n', 'Iowa': ' DesMoines\\n', 'Kansas': ' Topeka\\n', 'Kentucky': ' Frankfort\\n', 'Louisiana': ' Baton Rouge\\n', 'Maine': ' Augusta\\n', 'Maryland': ' Annapolis\\n', 'Massachusetts': ' Boston\\n', 'Michigan': ' Lansing\\n', 'Minnesota': ' St.Paul\\n', 'Mississippi': ' Jackson\\n', 'Missouri': ' Jefferson City\\n', 'Montana': ' Helena\\n', 'Nebraska': ' Lincoln\\n', 'Nevada': ' Carson City\\n', 'New Hampshire': ' Concord\\n', 'New Jersey': ' Trenton\\n', 'New Mexico': ' Santa Fe\\n', 'New York': ' Albany\\n', 'North Carolina': ' Raleigh\\n', 'North Dakota': ' Bismarck\\n', 'Ohio': ' Columbus\\n', 'Oklahoma': ' Oklahoma City\\n', 'Oregon': ' Salem\\n', 'Pennsylvania': ' Harrisburg\\n', 'Rhode Island': ' Providence\\n', 'South Carolina': ' Columbia\\n', 'South Dakota': ' Pierre\\n', 'Tennessee': ' Nashville\\n', 'Texas': ' Austin\\n', 'Utah': ' Salt Lake City\\n', 'Vermont': ' Montpelier\\n', 'Virginia': ' Richmond\\n', 'Washington': ' Olympia\\n', 'West Virginia': ' Charleston\\n', 'Wisconsin': ' Madison\\n', 'Wyoming': ' Cheyenne'}\n"
     ]
    }
   ],
   "source": [
    "# Define a function to create a dictionary from a text file containing the 50 states \n",
    "# and their capitals\n",
    "def get_state_cap_dict():\n",
    "    # Create an empty dictionary\n",
    "    state_capital_dict = dict()\n",
    "    \n",
    "    # Open and read the text file\n",
    "    with open('state_cap.txt', 'r') as file:\n",
    "        for line in file:\n",
    "            # Split each line into state and capital using multiple assignment\n",
    "            state, capital = line.split(',')\n",
    "            # Add the pair to the empty dictionary we created\n",
    "            state_capital_dict[state] = capital\n",
    "            \n",
    "    # Displaying the dictionary so I can test if this worked at all\n",
    "    print(state_capital_dict)\n",
    "    \n",
    "get_state_cap_dict()\n",
    "    "
   ]
  },
  {
   "cell_type": "markdown",
   "id": "ed8499a8",
   "metadata": {},
   "source": [
    "I am seeing \\n in the dictionary here so I will use .strip() to get rid of the unwanted characters"
   ]
  },
  {
   "cell_type": "code",
   "execution_count": 5,
   "id": "3bed6f7f",
   "metadata": {},
   "outputs": [
    {
     "name": "stdout",
     "output_type": "stream",
     "text": [
      "{'Alabama': ' Montgomery', 'Alaska': ' Juneau', 'Arizona': ' Phoenix', 'Arkansas': ' Little Rock', 'California': ' Sacramento', 'Colorado': ' Denver', 'Connecticut': ' Hartford', 'Delaware': ' Dover', 'Florida': ' Tallahassee', 'Georgia': ' Atlanta', 'Hawaii': ' Honolulu', 'Idaho': ' Boise', 'Illinois': ' Springfield', 'Indiana': ' Indianapolis', 'Iowa': ' DesMoines', 'Kansas': ' Topeka', 'Kentucky': ' Frankfort', 'Louisiana': ' Baton Rouge', 'Maine': ' Augusta', 'Maryland': ' Annapolis', 'Massachusetts': ' Boston', 'Michigan': ' Lansing', 'Minnesota': ' St.Paul', 'Mississippi': ' Jackson', 'Missouri': ' Jefferson City', 'Montana': ' Helena', 'Nebraska': ' Lincoln', 'Nevada': ' Carson City', 'New Hampshire': ' Concord', 'New Jersey': ' Trenton', 'New Mexico': ' Santa Fe', 'New York': ' Albany', 'North Carolina': ' Raleigh', 'North Dakota': ' Bismarck', 'Ohio': ' Columbus', 'Oklahoma': ' Oklahoma City', 'Oregon': ' Salem', 'Pennsylvania': ' Harrisburg', 'Rhode Island': ' Providence', 'South Carolina': ' Columbia', 'South Dakota': ' Pierre', 'Tennessee': ' Nashville', 'Texas': ' Austin', 'Utah': ' Salt Lake City', 'Vermont': ' Montpelier', 'Virginia': ' Richmond', 'Washington': ' Olympia', 'West Virginia': ' Charleston', 'Wisconsin': ' Madison', 'Wyoming': ' Cheyenne'}\n"
     ]
    }
   ],
   "source": [
    "# Define a function to create a dictionary from a text file containing the 50 states \n",
    "# and their capitals\n",
    "def get_state_cap_dict():\n",
    "    # Create an empty dictionary\n",
    "    state_capital_dict = dict()\n",
    "    \n",
    "    # Open and read the text file\n",
    "    with open('state_cap.txt', 'r') as file:\n",
    "        for line in file:\n",
    "            # Split each line into state and capital using multiple assignment\n",
    "            state, capital = line.strip().split(',')\n",
    "            # Add the pair to the empty dictionary we created\n",
    "            state_capital_dict[state] = capital\n",
    "            \n",
    "    # Displaying the dictionary so I can test if this worked at all\n",
    "    print(state_capital_dict)\n",
    "\n",
    "get_state_cap_dict()\n",
    "\n",
    "# Not sure which part of all this should be a module but I am going to try to work this out here\n",
    "# and then make it a module?\n",
    "def quiz():\n",
    "    "
   ]
  },
  {
   "cell_type": "code",
   "execution_count": null,
   "id": "96476ae4",
   "metadata": {},
   "outputs": [],
   "source": []
  }
 ],
 "metadata": {
  "kernelspec": {
   "display_name": "Python 3 (ipykernel)",
   "language": "python",
   "name": "python3"
  },
  "language_info": {
   "codemirror_mode": {
    "name": "ipython",
    "version": 3
   },
   "file_extension": ".py",
   "mimetype": "text/x-python",
   "name": "python",
   "nbconvert_exporter": "python",
   "pygments_lexer": "ipython3",
   "version": "3.11.4"
  }
 },
 "nbformat": 4,
 "nbformat_minor": 5
}
