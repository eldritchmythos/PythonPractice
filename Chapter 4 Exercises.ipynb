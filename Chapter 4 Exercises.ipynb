{
 "cells": [
  {
   "cell_type": "markdown",
   "id": "7396e0aa",
   "metadata": {},
   "source": [
    "# Chapter 4 Exercises\n",
    "## Algorithm Workbench 3 and 8"
   ]
  },
  {
   "cell_type": "markdown",
   "id": "9a083bae",
   "metadata": {},
   "source": [
    "### Algorithm Workbench 3\n",
    "We are asked to write a \"for\" loop that displays numbers from 0 to 1000 in increments of 10."
   ]
  },
  {
   "cell_type": "code",
   "execution_count": 5,
   "id": "96691c5d",
   "metadata": {},
   "outputs": [
    {
     "name": "stdout",
     "output_type": "stream",
     "text": [
      "0\n",
      "10\n",
      "20\n",
      "30\n",
      "40\n",
      "50\n",
      "60\n",
      "70\n",
      "80\n",
      "90\n",
      "100\n",
      "110\n",
      "120\n",
      "130\n",
      "140\n",
      "150\n",
      "160\n",
      "170\n",
      "180\n",
      "190\n",
      "200\n",
      "210\n",
      "220\n",
      "230\n",
      "240\n",
      "250\n",
      "260\n",
      "270\n",
      "280\n",
      "290\n",
      "300\n",
      "310\n",
      "320\n",
      "330\n",
      "340\n",
      "350\n",
      "360\n",
      "370\n",
      "380\n",
      "390\n",
      "400\n",
      "410\n",
      "420\n",
      "430\n",
      "440\n",
      "450\n",
      "460\n",
      "470\n",
      "480\n",
      "490\n",
      "500\n",
      "510\n",
      "520\n",
      "530\n",
      "540\n",
      "550\n",
      "560\n",
      "570\n",
      "580\n",
      "590\n",
      "600\n",
      "610\n",
      "620\n",
      "630\n",
      "640\n",
      "650\n",
      "660\n",
      "670\n",
      "680\n",
      "690\n",
      "700\n",
      "710\n",
      "720\n",
      "730\n",
      "740\n",
      "750\n",
      "760\n",
      "770\n",
      "780\n",
      "790\n",
      "800\n",
      "810\n",
      "820\n",
      "830\n",
      "840\n",
      "850\n",
      "860\n",
      "870\n",
      "880\n",
      "890\n",
      "900\n",
      "910\n",
      "920\n",
      "930\n",
      "940\n",
      "950\n",
      "960\n",
      "970\n",
      "980\n",
      "990\n"
     ]
    }
   ],
   "source": [
    "#Initiate a for loop, create the variable num, and use the range given in\n",
    "#the question with a step size of 10\n",
    "\n",
    "for num in range (0,1000,10):\n",
    "    print (num)\n",
    "#print inside the loop so the num variable updates in steps of 10 it will print\n",
    "#for as long as it's within the range"
   ]
  },
  {
   "cell_type": "code",
   "execution_count": 1,
   "id": "3b02d64f",
   "metadata": {},
   "outputs": [
    {
     "name": "stdout",
     "output_type": "stream",
     "text": [
      "0\n",
      "10\n",
      "20\n",
      "30\n",
      "40\n",
      "50\n",
      "60\n",
      "70\n",
      "80\n",
      "90\n",
      "100\n",
      "110\n",
      "120\n",
      "130\n",
      "140\n",
      "150\n",
      "160\n",
      "170\n",
      "180\n",
      "190\n",
      "200\n",
      "210\n",
      "220\n",
      "230\n",
      "240\n",
      "250\n",
      "260\n",
      "270\n",
      "280\n",
      "290\n",
      "300\n",
      "310\n",
      "320\n",
      "330\n",
      "340\n",
      "350\n",
      "360\n",
      "370\n",
      "380\n",
      "390\n",
      "400\n",
      "410\n",
      "420\n",
      "430\n",
      "440\n",
      "450\n",
      "460\n",
      "470\n",
      "480\n",
      "490\n",
      "500\n",
      "510\n",
      "520\n",
      "530\n",
      "540\n",
      "550\n",
      "560\n",
      "570\n",
      "580\n",
      "590\n",
      "600\n",
      "610\n",
      "620\n",
      "630\n",
      "640\n",
      "650\n",
      "660\n",
      "670\n",
      "680\n",
      "690\n",
      "700\n",
      "710\n",
      "720\n",
      "730\n",
      "740\n",
      "750\n",
      "760\n",
      "770\n",
      "780\n",
      "790\n",
      "800\n",
      "810\n",
      "820\n",
      "830\n",
      "840\n",
      "850\n",
      "860\n",
      "870\n",
      "880\n",
      "890\n",
      "900\n",
      "910\n",
      "920\n",
      "930\n",
      "940\n",
      "950\n",
      "960\n",
      "970\n",
      "980\n",
      "990\n",
      "1000\n"
     ]
    }
   ],
   "source": [
    "#that was wrong because the question asks specifically for the number 1000 to\n",
    "#be displayed so I have to adjust my range\n",
    "\n",
    "for num in range (0,1001,10):\n",
    "    print (num)            "
   ]
  },
  {
   "cell_type": "markdown",
   "id": "885ba01c",
   "metadata": {},
   "source": [
    "### Algorithm Workbench 8\n",
    "We are asked to prompt the user for a positive nonzero number and validate the input"
   ]
  },
  {
   "cell_type": "code",
   "execution_count": 10,
   "id": "7f962286",
   "metadata": {},
   "outputs": [
    {
     "name": "stdout",
     "output_type": "stream",
     "text": [
      "Please enter a positive nonzero number: 0\n",
      "Please enter a positive nonzero number: -1\n",
      "Please enter a positive nonzero number: -500\n",
      "Please enter a positive nonzero number: 25\n"
     ]
    }
   ],
   "source": [
    "#ask the user for input and assign it to the variable \"num\"\n",
    "num = float (input (\"Please enter a positive nonzero number: \"))\n",
    "\n",
    "#check to see if the input is less than or equal to zero\n",
    "while num <= 0:\n",
    "    num = float (input (\"Please enter a positive nonzero number: \"))"
   ]
  },
  {
   "cell_type": "markdown",
   "id": "129a2564",
   "metadata": {},
   "source": [
    "Ok, tested some numbers, and everything seems to be validating fine. I haven't tried any letters but I'm not sure how to limit that input? \n",
    "Also I want to try to include a message for when you get a valid answer."
   ]
  },
  {
   "cell_type": "code",
   "execution_count": 11,
   "id": "4e5b5fd3",
   "metadata": {},
   "outputs": [
    {
     "name": "stdout",
     "output_type": "stream",
     "text": [
      "Please enter a positive nonzero number: 12\n",
      "You have input 12.0, a valid number.\n"
     ]
    }
   ],
   "source": [
    "#ask the user for input and assign it to the variable \"num\"\n",
    "num = float (input (\"Please enter a positive nonzero number: \"))\n",
    "\n",
    "#check to see if the input is less than or equal to zero\n",
    "while num <= 0:\n",
    "    num = float (input (\"Please enter a positive nonzero number: \"))\n",
    "    \n",
    "#display the valid input with a message to the user.\n",
    "else:\n",
    "    print (f\"You have input {num}, a valid number.\")"
   ]
  },
  {
   "cell_type": "code",
   "execution_count": 12,
   "id": "80ff3b2a",
   "metadata": {},
   "outputs": [
    {
     "name": "stdout",
     "output_type": "stream",
     "text": [
      "Please enter a positive nonzero number: lalala\n"
     ]
    },
    {
     "ename": "ValueError",
     "evalue": "could not convert string to float: 'lalala'",
     "output_type": "error",
     "traceback": [
      "\u001b[1;31m---------------------------------------------------------------------------\u001b[0m",
      "\u001b[1;31mValueError\u001b[0m                                Traceback (most recent call last)",
      "Cell \u001b[1;32mIn[12], line 2\u001b[0m\n\u001b[0;32m      1\u001b[0m \u001b[38;5;66;03m#ask the user for input and assign it to the variable \"num\"\u001b[39;00m\n\u001b[1;32m----> 2\u001b[0m num \u001b[38;5;241m=\u001b[39m \u001b[38;5;28mfloat\u001b[39m (\u001b[38;5;28minput\u001b[39m (\u001b[38;5;124m\"\u001b[39m\u001b[38;5;124mPlease enter a positive nonzero number: \u001b[39m\u001b[38;5;124m\"\u001b[39m))\n\u001b[0;32m      4\u001b[0m \u001b[38;5;66;03m#check to see if the input is less than or equal to zero\u001b[39;00m\n\u001b[0;32m      5\u001b[0m \u001b[38;5;28;01mwhile\u001b[39;00m num \u001b[38;5;241m<\u001b[39m\u001b[38;5;241m=\u001b[39m \u001b[38;5;241m0\u001b[39m:\n",
      "\u001b[1;31mValueError\u001b[0m: could not convert string to float: 'lalala'"
     ]
    }
   ],
   "source": [
    "#ask the user for input and assign it to the variable \"num\"\n",
    "num = float (input (\"Please enter a positive nonzero number: \"))\n",
    "\n",
    "#check to see if the input is less than or equal to zero\n",
    "while num <= 0:\n",
    "    num = float (input (\"Please enter a positive nonzero number: \"))\n",
    "\n",
    "#display the valid input with a message to the user.    \n",
    "else:\n",
    "    print (f\"You have input {num}, a valid number.\")"
   ]
  },
  {
   "cell_type": "markdown",
   "id": "7a2f8b52",
   "metadata": {},
   "source": [
    "Not sure what to do here. So I posted in the class discussion forum to see if anyone can help me."
   ]
  },
  {
   "cell_type": "markdown",
   "id": "f97141cf",
   "metadata": {},
   "source": [
    "### Programming Ex. 1\n",
    "We are asked to write a program that keeps a running total of bugs collected over 5 days. The loop should ask for total number of bugs collected per day, and display a total number of bugs collected over the week."
   ]
  },
  {
   "cell_type": "code",
   "execution_count": 13,
   "id": "cf590e54",
   "metadata": {},
   "outputs": [
    {
     "name": "stdout",
     "output_type": "stream",
     "text": [
      "Please enter the total bugs collected for day 1: 2\n",
      "Please enter the total bugs collected for day 2: 2\n",
      "Please enter the total bugs collected for day 3: 2\n",
      "Please enter the total bugs collected for day 4: 2\n",
      "Please enter the total bugs collected for day 5: 2\n",
      "You have collected a total of 10 bugs over 5 days.\n"
     ]
    }
   ],
   "source": [
    "#Initialize a variable for the total number of bugs\n",
    "bug_total = 0\n",
    "\n",
    "#create a loop and range, using 6 as end limit because it includes 5, but not 6\n",
    "for day in range(1,6):\n",
    "    #ask user for the total of bugs collected that day\n",
    "    #I used int instead of float because I don't think we will be counting fractions of bugs. at least i hope not\n",
    "    daily_bugs = int(input(f\"Please enter the total bugs collected for day {day}: \"))\n",
    "\n",
    "    #add total of daily bugs collected to update the bug_total variable\n",
    "    bug_total = bug_total + daily_bugs\n",
    "\n",
    "#display total of bugs collected to the user\n",
    "print(f\"You have collected a total of {bug_total} bugs over 5 days.\")"
   ]
  },
  {
   "cell_type": "code",
   "execution_count": null,
   "id": "ff1bd7f3",
   "metadata": {},
   "outputs": [],
   "source": [
    "#Initialize a variable for the total number of bugs\n",
    "bug_total = 0\n",
    "\n",
    "#create a loop and range, using 6 as end limit because it includes 5, but not 6\n",
    "for day in range(1,6):\n",
    "    #ask user for the total of bugs collected that day\n",
    "    #I used int instead of float because I don't think we will be counting fractions of bugs. at least i hope not\n",
    "    daily_bugs = int(input(f\"Please enter the total bugs collected for day {day}: \"))\n",
    "\n",
    "    #add total of daily bugs collected to update the bug_total variable\n",
    "    #changed to the augmented assignment operator\n",
    "    bug_total += daily_bugs \n",
    "\n",
    "#display total of bugs collected to the user\n",
    "print(f\"You have collected a total of {bug_total} bugs over 5 days.\")"
   ]
  },
  {
   "cell_type": "markdown",
   "id": "68d8ea66",
   "metadata": {},
   "source": [
    "### Programming Ex. 4\n",
    "We are asked to write a program that askes the user for the speed of a vehicle and number of hours travelled, then calculate the distance travelled per hour."
   ]
  },
  {
   "cell_type": "code",
   "execution_count": 1,
   "id": "1d95750e",
   "metadata": {},
   "outputs": [
    {
     "name": "stdout",
     "output_type": "stream",
     "text": [
      "What is the speed of the vehicle in mph? 25\n",
      "How many hours has it travelled? 4\n",
      "1 25\n",
      "2 50\n",
      "3 75\n",
      "4 100\n"
     ]
    }
   ],
   "source": [
    "#ask user to input the speed of the vehicle\n",
    "speed = int(input(\"What is the speed of the vehicle in mph? \"))\n",
    "\n",
    "#ask the user to input the amount of hours the vehicle has travelled\n",
    "hours = int(input(\"How many hours has it travelled? \"))\n",
    "\n",
    "#using a loop to calculate and display the distance for each hour\n",
    "#I did \"hours +1\" so the loop includes the actual number in the range- not one less\n",
    "for hour in range(1, hours + 1):\n",
    "    distance = speed * hour\n",
    "    print (f\"{hour} {distance}\")"
   ]
  },
  {
   "cell_type": "code",
   "execution_count": 8,
   "id": "f49e006a",
   "metadata": {},
   "outputs": [
    {
     "name": "stdout",
     "output_type": "stream",
     "text": [
      "What is the speed of the vehicle in mph? 25\n",
      "How many hours has it travelled? 4\n",
      "Hours      Distance Travelled\n",
      "-------------------------------\n",
      "1            25 miles\n",
      "2            50 miles\n",
      "3            75 miles\n",
      "4            100 miles\n"
     ]
    }
   ],
   "source": [
    "#ask the user to input the speed of the vehicle\n",
    "speed = int(input(\"What is the speed of the vehicle in mph? \"))\n",
    "\n",
    "#ask the user to input the amount of hours the vehicle has travelled\n",
    "hours = int(input(\"How many hours has it travelled? \"))\n",
    "\n",
    "#initializing a variable to make an indent for formatting\n",
    "indent = \"    \"\n",
    "\n",
    "#the example in the textbook showed kind of a table so I am making an underline\n",
    "#I'm sure there are better ways to do this...\n",
    "underline = \"-------------------------------\"\n",
    "\n",
    "print(\"Hours\", indent, \"Distance Travelled\")\n",
    "print(underline)\n",
    "\n",
    "#use a loop to calculate and display the distance for each hour\n",
    "#I did \"hours +1\" so the loop includes the actual number in the range- not one less\n",
    "for hour in range(1, hours + 1):\n",
    "    distance = speed * hour\n",
    "    print (f\"{hour}{indent}{indent}{indent}{distance} miles\")"
   ]
  },
  {
   "cell_type": "markdown",
   "id": "93f6b277",
   "metadata": {},
   "source": [
    "### Programming Ex. 12\n",
    "We are asked to write a program that lets a user enter a nonnegative number and uses a loop to calculate the factorial of that number, and to display the factorial."
   ]
  },
  {
   "cell_type": "code",
   "execution_count": 4,
   "id": "90c46e5f",
   "metadata": {},
   "outputs": [
    {
     "name": "stdout",
     "output_type": "stream",
     "text": [
      "Please enter a nonnegative, nonzero number: -1\n",
      "Please enter a nonnegative, nonzero number: 0\n",
      "Please enter a nonnegative, nonzero number: 3\n"
     ]
    }
   ],
   "source": [
    "#ask the user for input and assign the input to the variable \"number\"\n",
    "number = int(input(\"Please enter a nonnegative, nonzero number: \"))\n",
    "\n",
    "#validate the input\n",
    "while number <= 0:\n",
    "    number = int(input(\"Please enter a nonnegative, nonzero number: \"))"
   ]
  },
  {
   "cell_type": "code",
   "execution_count": 6,
   "id": "551f6acf",
   "metadata": {},
   "outputs": [
    {
     "name": "stdout",
     "output_type": "stream",
     "text": [
      "The factorial of 3 is 6\n"
     ]
    }
   ],
   "source": [
    "#initialize a variable to store the factorial starting with 1\n",
    "factorial = 1\n",
    "\n",
    "#calculate the factorial using a for loop. I did num +1 to make the range inclusive\n",
    "#of the input from the user.\n",
    "for n in range(1, number + 1):\n",
    "    factorial *= n \n",
    "    #multiply the factorial variable by the current value of n\n",
    "    \n",
    "#display the factorial result to the user\n",
    "print(f\"The factorial of {number} is {factorial}\")"
   ]
  },
  {
   "cell_type": "code",
   "execution_count": null,
   "id": "cb3c3af1",
   "metadata": {},
   "outputs": [],
   "source": []
  }
 ],
 "metadata": {
  "kernelspec": {
   "display_name": "Python 3 (ipykernel)",
   "language": "python",
   "name": "python3"
  },
  "language_info": {
   "codemirror_mode": {
    "name": "ipython",
    "version": 3
   },
   "file_extension": ".py",
   "mimetype": "text/x-python",
   "name": "python",
   "nbconvert_exporter": "python",
   "pygments_lexer": "ipython3",
   "version": "3.11.4"
  }
 },
 "nbformat": 4,
 "nbformat_minor": 5
}
