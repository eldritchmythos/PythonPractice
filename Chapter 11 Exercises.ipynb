{
 "cells": [
  {
   "cell_type": "markdown",
   "id": "5b751750",
   "metadata": {},
   "source": [
    "# Chapter 11 Programming Exercises\n",
    "Choose 2 questions from Chapter 11\n",
    "<br> For each question include:\n",
    "- main function\n",
    "- custom module\n",
    "- Snagit Recording\n",
    "- at least one diagram\n",
    "- super() -- I want to try this for the second problem"
   ]
  },
  {
   "cell_type": "markdown",
   "id": "35fadcdd",
   "metadata": {},
   "source": [
    "### Programming Exercise #1 Employee and Production Worker Classes\n",
    "\n",
    "Write an Employee class that keeps data attributes for the following pieces of information:\n",
    "   - Employee name\n",
    "   - Employee number\n",
    "<br>\n",
    "\n",
    "Next, write a class named ProductionWorker that is a subclass of the Employee class. The ProductionWorker class should keep data attributes for the following information:\n",
    "   - Shift number (an integer, such as 1, 2, or 3)\n",
    "   - Hourly pay rate\n",
    "<br>\n",
    "\n",
    "The workday is divided into two shifts: day and night. The shift attribute will hold an\n",
    "integer value representing the shift that the employee works. The day shift is shift 1 and the\n",
    "night shift is shift 2. Write the appropriate accessor and mutator methods for each class.\n",
    "<br>\n",
    "Once you have written the classes, write a program that creates an object of the\n",
    "ProductionWorker class and prompts the user to enter data for each of the object’s data\n",
    "attributes. Store the data in the object, then use the object’s accessor methods to retrieve it\n",
    "and display it on the screen."
   ]
  },
  {
   "cell_type": "code",
   "execution_count": 2,
   "id": "4126093b",
   "metadata": {},
   "outputs": [
    {
     "name": "stdout",
     "output_type": "stream",
     "text": [
      "What is the employee's name? Eldritch\n",
      "What is the employee's number? 13\n",
      "Which shift does Eldritch work? Enter 1 for day shift or 2 for night shift: 2\n",
      "Enter the dollar amount Eldritch earns per hour: 1001.01\n",
      "Employee Name:  Eldritch\n",
      "Employee Number:  13\n",
      "Employee Shift:  2\n",
      "Employee Hourly Pay:  1001.01\n"
     ]
    }
   ],
   "source": [
    "# import the employee module that contains the Employee class and ProductionWorker subclass\n",
    "import employee\n",
    "\n",
    "# define the main function\n",
    "def main():\n",
    "    \n",
    "    # prompt the user to enter data for each of the object’s data attributes\n",
    "    emp_name = input(\"What is the employee's name? \")\n",
    "    emp_num = input(\"What is the employee's number? \")\n",
    "    shift = int(input(f\"Which shift does {emp_name} work? Enter 1 for day shift or 2 for night shift: \"))\n",
    "    hourly_pay = float(input(f\"Enter the dollar amount {emp_name} earns per hour: \"))\n",
    "    \n",
    "    #create an object from the ProductionWorker subclass\n",
    "    employee_1 = employee.ProductionWorker(emp_name, emp_num, shift, hourly_pay)\n",
    "    \n",
    "    # use accessor methods to retrieve and display\n",
    "    print(\"Employee Name: \", employee_1.get_emp_name())\n",
    "    print(\"Employee Number: \", employee_1.get_emp_num())\n",
    "    print(\"Employee Shift: \", employee_1.get_shift())\n",
    "    print(\"Employee Hourly Pay: \", employee_1.get_hourly_pay())\n",
    "    \n",
    "# call main function\n",
    "if __name__ == \"__main__\":\n",
    "    main()\n",
    "    "
   ]
  },
  {
   "cell_type": "code",
   "execution_count": null,
   "id": "edc714dd",
   "metadata": {},
   "outputs": [],
   "source": []
  }
 ],
 "metadata": {
  "kernelspec": {
   "display_name": "Python 3 (ipykernel)",
   "language": "python",
   "name": "python3"
  },
  "language_info": {
   "codemirror_mode": {
    "name": "ipython",
    "version": 3
   },
   "file_extension": ".py",
   "mimetype": "text/x-python",
   "name": "python",
   "nbconvert_exporter": "python",
   "pygments_lexer": "ipython3",
   "version": "3.11.4"
  }
 },
 "nbformat": 4,
 "nbformat_minor": 5
}
