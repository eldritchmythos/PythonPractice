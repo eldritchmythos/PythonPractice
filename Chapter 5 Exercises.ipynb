{
 "cells": [
  {
   "cell_type": "markdown",
   "id": "e824d2a7",
   "metadata": {},
   "source": [
    "# Chapter 5 Exercises\n",
    "## Algorithm Workbench Ex. 1, 9, and _\n",
    "I chose these two questions because I was reading through the questions and thought this was a repeat/typo initially, so I'm going to work through them both because I want to find out how they are different from each other. I think I'll also do an extra question from here as well, for more practice."
   ]
  },
  {
   "cell_type": "markdown",
   "id": "a61adee7",
   "metadata": {},
   "source": [
    "### Algorithm Workbench Ex. 1\n",
    "Write a function named times_ten, the function should accept an argument and display the product of its argument multiplied times 10."
   ]
  },
  {
   "cell_type": "code",
   "execution_count": null,
   "id": "91cdbfd5",
   "metadata": {},
   "outputs": [],
   "source": [
    "#define the function named times_ten\n",
    "def times_ten()"
   ]
  }
 ],
 "metadata": {
  "kernelspec": {
   "display_name": "Python 3 (ipykernel)",
   "language": "python",
   "name": "python3"
  },
  "language_info": {
   "codemirror_mode": {
    "name": "ipython",
    "version": 3
   },
   "file_extension": ".py",
   "mimetype": "text/x-python",
   "name": "python",
   "nbconvert_exporter": "python",
   "pygments_lexer": "ipython3",
   "version": "3.11.4"
  }
 },
 "nbformat": 4,
 "nbformat_minor": 5
}
