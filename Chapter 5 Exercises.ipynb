{
 "cells": [
  {
   "cell_type": "markdown",
   "id": "076dd076",
   "metadata": {},
   "source": [
    "# Chapter 5 Exercises\n",
    "## Algorithm Workbench Ex. 1, 9, and 7\n",
    "I chose these two questions because I was reading through the questions and thought this was a repeat/typo initially, so I'm going to work through them both because I want to find out how they are different from each other. I think I'll also do an extra question from here as well, for more practice."
   ]
  },
  {
   "cell_type": "markdown",
   "id": "5eadb352",
   "metadata": {},
   "source": [
    "### Algorithm Workbench Ex. 1\n",
    "Write a function named times_ten, the function should accept an argument and display the product of its argument multiplied times 10."
   ]
  },
  {
   "cell_type": "code",
   "execution_count": 1,
   "id": "37e595d6",
   "metadata": {},
   "outputs": [
    {
     "name": "stdout",
     "output_type": "stream",
     "text": [
      "80\n"
     ]
    }
   ],
   "source": [
    "#define the function named times_ten\n",
    "def times_ten(number):\n",
    "    #multiply the number by 10, I stored it in the variable answer\n",
    "    answer = number * 10\n",
    "    #display the result\n",
    "    print(answer)\n",
    "\n",
    "#call the function times_ten, put in a number and see if it works.\n",
    "times_ten(8)"
   ]
  },
  {
   "cell_type": "code",
   "execution_count": 2,
   "id": "194295c8",
   "metadata": {},
   "outputs": [
    {
     "name": "stdout",
     "output_type": "stream",
     "text": [
      "4000\n"
     ]
    }
   ],
   "source": [
    "times_ten(400)"
   ]
  },
  {
   "cell_type": "markdown",
   "id": "05300d95",
   "metadata": {},
   "source": [
    "So from here actually, I think I am seeing why the two questions are different, so if I just did the first question it would end here, just displaying a result but if I do question 9, its taking this function a step further by returning a result. So the first question is asking for a void function and the second question is asking for a value returning function. Ok, cool.\n",
    "\n",
    "### Algorithm Workbench Ex. 9\n",
    "Write a function named times_ten, that accepts a number as an argument. When the function is called, it should __return__ the value of its argument multiplied by 10."
   ]
  },
  {
   "cell_type": "code",
   "execution_count": 4,
   "id": "2cdc12b2",
   "metadata": {},
   "outputs": [
    {
     "name": "stdout",
     "output_type": "stream",
     "text": [
      "Please enter a number to be multiplied by ten: 10\n",
      "100\n"
     ]
    }
   ],
   "source": [
    "#define the function named times_ten\n",
    "def times_ten(number):\n",
    "    #multiply the number by 10, I stored it in the variable result\n",
    "    result = number * 10\n",
    "    #display the result\n",
    "    return result\n",
    "\n",
    "# I feel like asking the user for a number.\n",
    "user_input = int(input(\"Please enter a number to be multiplied by ten: \"))\n",
    "\n",
    "#call the function times_ten with input from the user, and store the result\n",
    "result = times_ten(user_input)\n",
    "\n",
    "#display the result\n",
    "print (result)"
   ]
  },
  {
   "cell_type": "code",
   "execution_count": 8,
   "id": "dc1a9804",
   "metadata": {},
   "outputs": [
    {
     "name": "stdout",
     "output_type": "stream",
     "text": [
      "Please enter a number to be multiplied by ten: 100\n",
      "Your number multiplied by ten is: 1000\n"
     ]
    }
   ],
   "source": [
    "#define the function named times_ten\n",
    "def times_ten(number):\n",
    "    #multiply the number by 10, I stored it in the variable result\n",
    "    result = number * 10\n",
    "    #display the result\n",
    "    return result\n",
    "\n",
    "# I feel like asking the user for a number.\n",
    "user_input = int(input(\"Please enter a number to be multiplied by ten: \"))\n",
    "\n",
    "#call the function times_ten with input from the user, and store the result\n",
    "result = times_ten(user_input)\n",
    "\n",
    "#display the result, I added a message for the user\n",
    "print (\"Your number multiplied by ten is:\",result)"
   ]
  },
  {
   "cell_type": "markdown",
   "id": "04597b51",
   "metadata": {},
   "source": [
    "### Algorithm Workbench Ex. 7\n",
    "Write code for a function based on the provided statement, assume the number variable references a float value: \n",
    "result = half(number)"
   ]
  },
  {
   "cell_type": "code",
   "execution_count": 11,
   "id": "7db83dce",
   "metadata": {},
   "outputs": [
    {
     "name": "stdout",
     "output_type": "stream",
     "text": [
      "Half of 5.0 is 2.5\n"
     ]
    }
   ],
   "source": [
    "#define the half function\n",
    "def half (number):\n",
    "    #divide the variable number by 2 and return that value\n",
    "    return number / 2\n",
    "\n",
    "#give the 'number' variable a float value\n",
    "number = float(5)\n",
    "\n",
    "# call the half function and return a value that is half that of the argument\n",
    "# to the variable 'result'\n",
    "# this was provided in the question\n",
    "result = half(number)\n",
    "\n",
    "#display result\n",
    "print(\"Half of\", number, \"is\", result)"
   ]
  },
  {
   "cell_type": "markdown",
   "id": "f079f1fc",
   "metadata": {},
   "source": [
    "### Programming Ex. 1, Kilometer Converter\n",
    "here we are asked to write a program that asks a user to enter a distance in kilometers, then converts that to miles. Conversion formula is provided.\n",
    "Miles = kilometers * 0.6214"
   ]
  },
  {
   "cell_type": "code",
   "execution_count": 14,
   "id": "ac619b58",
   "metadata": {},
   "outputs": [
    {
     "name": "stdout",
     "output_type": "stream",
     "text": [
      "Please enter the number of kilometers: 45.7\n"
     ]
    },
    {
     "ename": "NameError",
     "evalue": "name 'kilometer' is not defined",
     "output_type": "error",
     "traceback": [
      "\u001b[1;31m---------------------------------------------------------------------------\u001b[0m",
      "\u001b[1;31mNameError\u001b[0m                                 Traceback (most recent call last)",
      "Cell \u001b[1;32mIn[14], line 11\u001b[0m\n\u001b[0;32m      8\u001b[0m kilometers \u001b[38;5;241m=\u001b[39m \u001b[38;5;28mfloat\u001b[39m (\u001b[38;5;28minput\u001b[39m(\u001b[38;5;124m\"\u001b[39m\u001b[38;5;124mPlease enter the number of kilometers: \u001b[39m\u001b[38;5;124m\"\u001b[39m))\n\u001b[0;32m     10\u001b[0m \u001b[38;5;66;03m#call the convert function with the users input and store the result in miles\u001b[39;00m\n\u001b[1;32m---> 11\u001b[0m miles \u001b[38;5;241m=\u001b[39m convert(kilometers)\n\u001b[0;32m     13\u001b[0m \u001b[38;5;66;03m#display the result\u001b[39;00m\n\u001b[0;32m     14\u001b[0m \u001b[38;5;66;03m#I formatted the float for miles to the 2nd decimal so we don't have too crazy\u001b[39;00m\n\u001b[0;32m     15\u001b[0m \u001b[38;5;66;03m#of numbers\u001b[39;00m\n\u001b[0;32m     16\u001b[0m \u001b[38;5;28mprint\u001b[39m (\u001b[38;5;124mf\u001b[39m\u001b[38;5;124m\"\u001b[39m\u001b[38;5;132;01m{\u001b[39;00mkilometers\u001b[38;5;132;01m}\u001b[39;00m\u001b[38;5;124m kilometers is equal to \u001b[39m\u001b[38;5;132;01m{\u001b[39;00mmiles\u001b[38;5;132;01m:\u001b[39;00m\u001b[38;5;124m.2f\u001b[39m\u001b[38;5;132;01m}\u001b[39;00m\u001b[38;5;124m miles.\u001b[39m\u001b[38;5;124m\"\u001b[39m)\n",
      "Cell \u001b[1;32mIn[14], line 4\u001b[0m, in \u001b[0;36mconvert\u001b[1;34m(kilometers)\u001b[0m\n\u001b[0;32m      2\u001b[0m \u001b[38;5;28;01mdef\u001b[39;00m \u001b[38;5;21mconvert\u001b[39m (kilometers):\n\u001b[0;32m      3\u001b[0m     \u001b[38;5;66;03m#convert kilometers to miles using the given formula\u001b[39;00m\n\u001b[1;32m----> 4\u001b[0m     miles \u001b[38;5;241m=\u001b[39m kilometer \u001b[38;5;241m*\u001b[39m \u001b[38;5;241m0.6214\u001b[39m\n\u001b[0;32m      5\u001b[0m     \u001b[38;5;28;01mreturn\u001b[39;00m miles\n",
      "\u001b[1;31mNameError\u001b[0m: name 'kilometer' is not defined"
     ]
    }
   ],
   "source": [
    "#define the function, I called it \"convert\"\n",
    "def convert (kilometers):\n",
    "    #convert kilometers to miles using the given formula\n",
    "    miles = kilometer * 0.6214\n",
    "    return miles\n",
    "\n",
    "#create the variable kilometers and ask the user for input\n",
    "kilometers = float (input(\"Please enter the number of kilometers: \"))\n",
    "\n",
    "#call the convert function with the users input and store the result in miles\n",
    "miles = convert(kilometers)\n",
    "\n",
    "#display the result\n",
    "#I formatted the float for miles to the 2nd decimal so we don't have too crazy\n",
    "#of numbers\n",
    "print (f\"{kilometers} kilometers is equal to {miles:.2f} miles.\")"
   ]
  },
  {
   "cell_type": "markdown",
   "id": "6f0c0135",
   "metadata": {},
   "source": [
    "Human error, my typo"
   ]
  },
  {
   "cell_type": "code",
   "execution_count": 15,
   "id": "31bf284d",
   "metadata": {},
   "outputs": [
    {
     "name": "stdout",
     "output_type": "stream",
     "text": [
      "Please enter the number of kilometers: 45\n",
      "45.0 kilometers is equal to 27.96 miles.\n"
     ]
    }
   ],
   "source": [
    "#define the function, I called it \"convert\"\n",
    "def convert (kilometers):\n",
    "    #convert kilometers to miles using the given formula\n",
    "    miles = kilometers * 0.6214\n",
    "    return miles\n",
    "\n",
    "#create the variable kilometers and ask the user for input\n",
    "kilometers = float (input(\"Please enter the number of kilometers: \"))\n",
    "\n",
    "#call the convert function with the users input and store the result in miles\n",
    "miles = convert(kilometers)\n",
    "\n",
    "#display the result\n",
    "#I formatted the float for miles to the 2nd decimal so we don't have too crazy\n",
    "#of numbers\n",
    "print (f\"{kilometers} kilometers is equal to {miles:.2f} miles.\")"
   ]
  },
  {
   "cell_type": "markdown",
   "id": "5732120a",
   "metadata": {},
   "source": [
    "### Programming Ex. 17 Prime Numbers\n",
    "Here we are asked to write a boolean function named is_prime which takes an integer as an argument and returns true if the argument is a prime number or false otherwise. Use that function in a program that asks the user for a number then displays if the input is prime or not."
   ]
  },
  {
   "cell_type": "code",
   "execution_count": 21,
   "id": "a9b53627",
   "metadata": {},
   "outputs": [
    {
     "name": "stdout",
     "output_type": "stream",
     "text": [
      "Please enter a number: 4\n",
      "4 is not a prime number.\n"
     ]
    }
   ],
   "source": [
    "#define the function is_prime\n",
    "def is_prime(num):\n",
    "    for i in range(2, num):\n",
    "        #divisibility check of the num variable\n",
    "        if num % i == 0:\n",
    "            return False #indicates the num variable is not prime\n",
    "    return True #indicates the num variable is prime\n",
    "\n",
    "#get user input for a number, I convert to int here since we need whole numbers\n",
    "#store the input as the num variable\n",
    "num = int(input(\"Please enter a number: \"))\n",
    "\n",
    "#check if the number is prime by calling the is_prime function\n",
    "#I used an if else statement \n",
    "if is_prime(num) == True:\n",
    "    # display a message telling the user if their number is prime or not\n",
    "    print(f\"{num} is a prime number.\")\n",
    "else:\n",
    "    print(f\"{num} is not a prime number.\")"
   ]
  },
  {
   "cell_type": "code",
   "execution_count": 22,
   "id": "362aa8f8",
   "metadata": {},
   "outputs": [
    {
     "name": "stdout",
     "output_type": "stream",
     "text": [
      "Please enter a number: 547\n",
      "547 is a prime number.\n"
     ]
    }
   ],
   "source": [
    "#define the function is_prime\n",
    "def is_prime(num):\n",
    "    for i in range(2, num):\n",
    "        #divisibility check of the num variable\n",
    "        if num % i == 0:\n",
    "            return False #indicates the num variable is not prime\n",
    "    return True #indicates the num variable is prime\n",
    "\n",
    "#get user input for a number, I convert to int here since we need whole numbers\n",
    "#store the input as the num variable\n",
    "num = int(input(\"Please enter a number: \"))\n",
    "\n",
    "#check if the number is prime by calling the is_prime function\n",
    "#I used an if else statement \n",
    "if is_prime(num) == True:\n",
    "    # display a message telling the user if their number is prime or not\n",
    "    print(f\"{num} is a prime number.\")\n",
    "else:\n",
    "    print(f\"{num} is not a prime number.\")"
   ]
  },
  {
   "cell_type": "markdown",
   "id": "278ee941",
   "metadata": {},
   "source": [
    "### Programming Exercise 18, Prime Number List\n",
    "Here we are asked to take the work from the Prime Number exercise and write another program that displays all of the prime numbers from 1 to 100. This program should have a loop that calls the is_prime function."
   ]
  },
  {
   "cell_type": "code",
   "execution_count": 32,
   "id": "62713e61",
   "metadata": {},
   "outputs": [
    {
     "name": "stdout",
     "output_type": "stream",
     "text": [
      "1\n",
      "2\n",
      "3\n",
      "5\n",
      "7\n",
      "11\n",
      "13\n",
      "17\n",
      "19\n",
      "23\n",
      "29\n",
      "31\n",
      "37\n",
      "41\n",
      "43\n",
      "47\n",
      "53\n",
      "59\n",
      "61\n",
      "67\n",
      "71\n",
      "73\n",
      "79\n",
      "83\n",
      "89\n",
      "97\n"
     ]
    }
   ],
   "source": [
    "#copied over my function from the last exercise\n",
    "#define the function is_prime\n",
    "def is_prime(num):\n",
    "    for i in range(2, num):\n",
    "        #divisibility check of the num variable\n",
    "        if num % i == 0:\n",
    "            return False #indicates the num variable is not prime\n",
    "    return True #indicates the num variable is prime\n",
    "\n",
    "#start a loop to check for when 'num' is prime within the 1 to 100 range\n",
    "#I used 101 so that 100 was included in the check\n",
    "for num in range(1,101):\n",
    "    #calling the is_prime function\n",
    "    if is_prime(num):\n",
    "        print(num)"
   ]
  },
  {
   "cell_type": "markdown",
   "id": "70959158",
   "metadata": {},
   "source": [
    "I don't know how to make them print horizontally I don't think. Ideally I would have them print on one line seperated by commas... So I'll just add a little message to the output to explain what is being printed. Which of course I forgot to document, but initially I put the message inside the loop which was silly, but eventually figured out where to put it."
   ]
  },
  {
   "cell_type": "code",
   "execution_count": 35,
   "id": "67916686",
   "metadata": {},
   "outputs": [
    {
     "name": "stdout",
     "output_type": "stream",
     "text": [
      "Here is a list of prime numbers 1-100: \n",
      "1\n",
      "2\n",
      "3\n",
      "5\n",
      "7\n",
      "11\n",
      "13\n",
      "17\n",
      "19\n",
      "23\n",
      "29\n",
      "31\n",
      "37\n",
      "41\n",
      "43\n",
      "47\n",
      "53\n",
      "59\n",
      "61\n",
      "67\n",
      "71\n",
      "73\n",
      "79\n",
      "83\n",
      "89\n",
      "97\n"
     ]
    }
   ],
   "source": [
    "#copied over my function from the last exercise\n",
    "#define the function is_prime\n",
    "def is_prime(num):\n",
    "    for i in range(2, num):\n",
    "        #divisibility check of the num variable\n",
    "        if num % i == 0:\n",
    "            return False #indicates the num variable is not prime\n",
    "    return True #indicates the num variable is prime\n",
    "\n",
    "#added a message here just to explain what the printed list will be showing\n",
    "print(\"Here is a list of prime numbers 1-100: \")\n",
    "\n",
    "#start a loop to check for when 'num' is prime within the 1 to 100 range\n",
    "#I used 101 so that 100 was included in the check\n",
    "for num in range(1,101):\n",
    "    #calling the is_prime function\n",
    "    if is_prime(num):\n",
    "        print(num)"
   ]
  },
  {
   "cell_type": "markdown",
   "id": "5ae2e90f",
   "metadata": {},
   "source": [
    "### Programming Ex. 21\n",
    "We are asked to write a program that lets a user play a game of rock, paper, scissors, against the computer using a random number in the range of 1-3, ask the user for input, display computers choice, then determine the winner."
   ]
  },
  {
   "cell_type": "markdown",
   "id": "ea9634e6",
   "metadata": {},
   "source": [
    "I am a little nervous going into this one, because it seems very hard. I know\n",
    "I want to format the input like we did in the 3rd coding set restaurant selector homework, so that there aren't extra spaces, capital letters, etc. and make sure that its valid."
   ]
  },
  {
   "cell_type": "code",
   "execution_count": null,
   "id": "e1f4c061",
   "metadata": {},
   "outputs": [],
   "source": [
    "import random\n",
    "\n",
    "def computer_choice ():\n",
    "    return random.randint(1,3)"
   ]
  },
  {
   "cell_type": "code",
   "execution_count": 1,
   "id": "86412f12",
   "metadata": {},
   "outputs": [
    {
     "name": "stdout",
     "output_type": "stream",
     "text": [
      "Make your choice: rock\n"
     ]
    }
   ],
   "source": [
    "#I referenced 3rd coding set for the formatting\n",
    "#ask the user for input\n",
    "user_input = input(\"Make your choice of rock, paper, or scissors: \").lower().strip()\n",
    "\n",
    "#validate the input from the user\n",
    "\n",
    "    "
   ]
  },
  {
   "cell_type": "markdown",
   "id": "2c7cdf5e",
   "metadata": {},
   "source": [
    "So initially I was excited for this exercise, and then spent two days being extremely overwhelmed with even starting it. I'm going to start over and give it another try."
   ]
  },
  {
   "cell_type": "markdown",
   "id": "82ac52cf",
   "metadata": {},
   "source": [
    "I know I want to use the import random to make the computer choice, and give it a range of 1 to 3, and have those return rock paper or scissors. Then I know I want to get and validate user input, so they can type in rock paper or scissors and it's consistant. Then I need to compare what the computer randomly got to the user's input for that game, and jazz it up a little with some messages about wins/losses/ties, 1,2,3,shoot or whatever to make it a little fun. The question also asks that ties HAVE to be replayed, so there's that."
   ]
  },
  {
   "cell_type": "code",
   "execution_count": 5,
   "id": "cf7525c3",
   "metadata": {},
   "outputs": [
    {
     "name": "stdout",
     "output_type": "stream",
     "text": [
      "Let's play rock, paper, scissors!\n",
      "Make your choice of rock, paper, or scissors: rock\n",
      "Computer chose:  rock\n",
      "It's a tie!\n",
      "Restarting because there was a tie.\n",
      "Make your choice of rock, paper, or scissors: paper\n",
      "Computer chose:  scissors\n",
      "Computer wins!\n"
     ]
    }
   ],
   "source": [
    "#import the random module so I can generate random numbers for the computers choice\n",
    "import random\n",
    "\n",
    "#define a function for the computers choice\n",
    "#I'll use get_computer_choice for the function and computer_choice for the variable later\n",
    "def get_computer_choice():\n",
    "    #generate a random integer, I had to google if the range for this is inclusive or not, it is.\n",
    "    computer_choice_num = random.randint(1,3)\n",
    "    #assigning the integer to a string for \"rock\"\n",
    "    if computer_choice_num == 1:\n",
    "        return \"rock\"\n",
    "    #same for \"paper\"\n",
    "    elif computer_choice_num == 2:\n",
    "        return \"paper\"\n",
    "    #same for \"scissors\", I'm using else because of the range, there's only one other option\n",
    "    #that could be randomly generated\n",
    "    else:\n",
    "        return \"scissors\"\n",
    "    \n",
    "    \n",
    "#now to define a function for the user input\n",
    "#I'll make a function called get_user_choice\n",
    "def get_user_choice():\n",
    "    #copied this from other attempt, I think it'll work fine here.\n",
    "    user_input = input(\"Make your choice of rock, paper, or scissors: \").lower().strip()\n",
    "    \n",
    "    #validate the input, I'll use if/else statements, the or instead of the and logic operator, and the == operator\n",
    "    if user_input == \"rock\" or user_input == \"paper\" or user_input == \"scissors\":\n",
    "        #so if any of these return true, this will return that input to the function\n",
    "        return user_input\n",
    "    #otherwise it tell you to choose one of the options.\n",
    "    else:\n",
    "        print (\"Please choose rock, paper, or scissors.\")\n",
    "        \n",
    "        \n",
    "#now I have to write another function that compares the results of these two functions\n",
    "def determine_winner (user_choice, computer_choice):\n",
    "    #first I'll check if the choices are a tie\n",
    "    if user_choice == computer_choice:\n",
    "        return \"It's a tie!\"\n",
    "    #need to remember to restart program if it's a tie\n",
    "    #determine if the user beat the computer using and logic operator\n",
    "    elif user_choice == \"rock\" and computer_choice == \"scissors\":\n",
    "        return \"You win! Rock smashes scissors.\"\n",
    "    elif user_choice == \"scissors\" and computer_choice == \"paper\":\n",
    "        return \"You win! Scissors cut paper.\"\n",
    "    elif user_choice == \"paper\" and computer_choice == \"rock\":\n",
    "        return \"You win! Paper wraps rock.\"\n",
    "    #if none of those were true, then the computer won, so I'll put that result here\n",
    "    else:\n",
    "        return \"Computer wins!\"\n",
    "    \n",
    "#now for our main function, which I'll start with a little message saying we're going to play\n",
    "#then I will have to compare the user input and random computer result, and make a loop for if the game is a tie game to restart.\n",
    "\n",
    "#define main function, and make some variables that hold the results of our other functions\n",
    "def main():\n",
    "    print(\"Let's play rock, paper, scissors!\")\n",
    "    \n",
    "    #going to make a loop for if the result from determine_winner() is a tie\n",
    "    while True:\n",
    "        computer_choice = get_computer_choice()\n",
    "        user_choice = get_user_choice()\n",
    "        \n",
    "        #we want to show the user what the computer chose   \n",
    "        print(\"Computer chose: \", computer_choice)\n",
    "        #assign the determine_winner function result to the variable 'winner'\n",
    "        winner = determine_winner(user_choice, computer_choice)\n",
    "        print(winner)\n",
    "        \n",
    "        #if result has a winner, then we can exit the loop\n",
    "        #the textbook required the game be played again if there's a tie\n",
    "        if winner != \"It's a tie!\":\n",
    "            #I want the loop to end if there IS a winner.\n",
    "            break\n",
    "        #otherwise we restart\n",
    "        else:\n",
    "            print(\"Restarting because there was a tie.\")\n",
    "            \n",
    "main()"
   ]
  },
  {
   "cell_type": "code",
   "execution_count": 7,
   "id": "a8ccf57f",
   "metadata": {},
   "outputs": [
    {
     "name": "stdout",
     "output_type": "stream",
     "text": [
      "Let's play rock, paper, scissors!\n",
      "Make your choice of rock, paper, or scissors: flaper\n",
      "Please choose rock, paper, or scissors.\n",
      "Computer chose:  rock\n",
      "Computer wins!\n"
     ]
    }
   ],
   "source": [
    "#import the random module so I can generate random numbers for the computers choice\n",
    "import random\n",
    "\n",
    "#define a function for the computers choice\n",
    "#I'll use get_computer_choice for the function and computer_choice for the variable later\n",
    "def get_computer_choice():\n",
    "    #generate a random integer, I had to google if the range for this is inclusive or not, it is.\n",
    "    computer_choice_num = random.randint(1,3)\n",
    "    #assigning the integer to a string for \"rock\"\n",
    "    if computer_choice_num == 1:\n",
    "        return \"rock\"\n",
    "    #same for \"paper\"\n",
    "    elif computer_choice_num == 2:\n",
    "        return \"paper\"\n",
    "    #same for \"scissors\", I'm using else because of the range, there's only one other option\n",
    "    #that could be randomly generated\n",
    "    else:\n",
    "        return \"scissors\"\n",
    "    \n",
    "    \n",
    "#now to define a function for the user input\n",
    "#I'll make a function called get_user_choice\n",
    "def get_user_choice():\n",
    "    #copied this from other attempt, I think it'll work fine here.\n",
    "    user_input = input(\"Make your choice of rock, paper, or scissors: \").lower().strip()\n",
    "    \n",
    "    #validate the input, I'll use if/else statements, the or instead of the and logic operator, and the == operator\n",
    "    if user_input == \"rock\" or user_input == \"paper\" or user_input == \"scissors\":\n",
    "        #so if any of these return true, this will return that input to the function\n",
    "        return user_input\n",
    "    #otherwise it tell you to choose one of the options.\n",
    "    else:\n",
    "        print (\"Please choose rock, paper, or scissors.\")\n",
    "        \n",
    "        \n",
    "#now I have to write another function that compares the results of these two functions\n",
    "def determine_winner (user_choice, computer_choice):\n",
    "    #first I'll check if the choices are a tie\n",
    "    if user_choice == computer_choice:\n",
    "        return \"It's a tie!\"\n",
    "    #need to remember to restart program if it's a tie\n",
    "    #determine if the user beat the computer using and logic operator\n",
    "    elif user_choice == \"rock\" and computer_choice == \"scissors\":\n",
    "        return \"You win! Rock smashes scissors.\"\n",
    "    elif user_choice == \"scissors\" and computer_choice == \"paper\":\n",
    "        return \"You win! Scissors cut paper.\"\n",
    "    elif user_choice == \"paper\" and computer_choice == \"rock\":\n",
    "        return \"You win! Paper wraps rock.\"\n",
    "    #if none of those were true, then the computer won, so I'll put that result here\n",
    "    else:\n",
    "        return \"Computer wins!\"\n",
    "    \n",
    "#now for our main function, which I'll start with a little message saying we're going to play\n",
    "#then I will have to compare the user input and random computer result, and make a loop for if the game is a tie game to restart.\n",
    "\n",
    "#define main function, and make some variables that hold the results of our other functions\n",
    "def main():\n",
    "    print(\"Let's play rock, paper, scissors!\")\n",
    "    \n",
    "    #going to make a loop for if the result from determine_winner() is a tie\n",
    "    while True:\n",
    "        computer_choice = get_computer_choice()\n",
    "        user_choice = get_user_choice()\n",
    "        \n",
    "        #we want to show the user what the computer chose   \n",
    "        print(\"Computer chose: \", computer_choice)\n",
    "        #assign the determine_winner function result to the variable 'winner'\n",
    "        winner = determine_winner(user_choice, computer_choice)\n",
    "        print(winner)\n",
    "        \n",
    "        #if result has a winner, then we can exit the loop and the game is over\n",
    "        #the textbook required the game be played again if there's a tie\n",
    "        if winner != \"It's a tie!\":\n",
    "            #I want the loop to end if there IS a winner.\n",
    "            break\n",
    "        #otherwise we restart\n",
    "        else:\n",
    "            print(\"Restarting because there was a tie.\")\n",
    "            \n",
    "main()"
   ]
  },
  {
   "cell_type": "markdown",
   "id": "6f0f7702",
   "metadata": {},
   "source": [
    "My user input validation for misspellings isn't working."
   ]
  },
  {
   "cell_type": "code",
   "execution_count": 8,
   "id": "d957a3b8",
   "metadata": {},
   "outputs": [
    {
     "name": "stdout",
     "output_type": "stream",
     "text": [
      "Let's play rock, paper, scissors!\n",
      "Make your choice of rock, paper, or scissors: flock\n",
      "Please choose rock, paper, or scissors.\n",
      "Make your choice of rock, paper, or scissors: flaper\n",
      "Please choose rock, paper, or scissors.\n",
      "Make your choice of rock, paper, or scissors: flissors\n",
      "Please choose rock, paper, or scissors.\n",
      "Make your choice of rock, paper, or scissors: rock\n",
      "Computer chose:  rock\n",
      "It's a tie!\n",
      "Restarting because there was a tie.\n",
      "Make your choice of rock, paper, or scissors: PAPER\n",
      "Computer chose:  paper\n",
      "It's a tie!\n",
      "Restarting because there was a tie.\n",
      "Make your choice of rock, paper, or scissors: SCIssors\n",
      "Computer chose:  paper\n",
      "You win! Scissors cut paper.\n"
     ]
    }
   ],
   "source": [
    "#import the random module so I can generate random numbers for the computers choice\n",
    "import random\n",
    "\n",
    "#define a function for the computers choice\n",
    "#I'll use get_computer_choice for the function and computer_choice for the variable later\n",
    "def get_computer_choice():\n",
    "    #generate a random integer, I had to google if the range for this is inclusive or not, it is.\n",
    "    computer_choice_num = random.randint(1,3)\n",
    "    #assigning the integer to a string for \"rock\"\n",
    "    if computer_choice_num == 1:\n",
    "        return \"rock\"\n",
    "    #same for \"paper\"\n",
    "    elif computer_choice_num == 2:\n",
    "        return \"paper\"\n",
    "    #same for \"scissors\", I'm using else because of the range, there's only one other option\n",
    "    #that could be randomly generated\n",
    "    else:\n",
    "        return \"scissors\"\n",
    "    \n",
    "    \n",
    "#now to define a function for the user input\n",
    "#I'll make a function called get_user_choice\n",
    "def get_user_choice():\n",
    "    while True:\n",
    "        #copied this from other attempt, I think it'll work fine here.\n",
    "        user_input = input(\"Make your choice of rock, paper, or scissors: \").lower().strip()\n",
    "    \n",
    "        #validate the input, I'll use if/else statements, the or instead of the and logic operator, and the == operator\n",
    "        if user_input == \"rock\" or user_input == \"paper\" or user_input == \"scissors\":\n",
    "            #so if any of these return true, this will return that input to the function\n",
    "            return user_input\n",
    "        #otherwise it tell you to choose one of the options.\n",
    "        else:\n",
    "            print (\"Please choose rock, paper, or scissors.\")\n",
    "        \n",
    "        \n",
    "#now I have to write another function that compares the results of these two functions\n",
    "def determine_winner (user_choice, computer_choice):\n",
    "    #first I'll check if the choices are a tie\n",
    "    if user_choice == computer_choice:\n",
    "        return \"It's a tie!\"\n",
    "    #need to remember to restart program if it's a tie\n",
    "    #determine if the user beat the computer using and logic operator\n",
    "    elif user_choice == \"rock\" and computer_choice == \"scissors\":\n",
    "        return \"You win! Rock smashes scissors.\"\n",
    "    elif user_choice == \"scissors\" and computer_choice == \"paper\":\n",
    "        return \"You win! Scissors cut paper.\"\n",
    "    elif user_choice == \"paper\" and computer_choice == \"rock\":\n",
    "        return \"You win! Paper wraps rock.\"\n",
    "    #if none of those were true, then the computer won, so I'll put that result here\n",
    "    else:\n",
    "        return \"Computer wins!\"\n",
    "    \n",
    "#now for our main function, which I'll start with a little message saying we're going to play\n",
    "#then I will have to compare the user input and random computer result, and make a loop for if the game is a tie game to restart.\n",
    "\n",
    "#define main function, and make some variables that hold the results of our other functions\n",
    "def main():\n",
    "    print(\"Let's play rock, paper, scissors!\")\n",
    "    \n",
    "    #going to make a loop for if the result from determine_winner() is a tie\n",
    "    while True:\n",
    "        computer_choice = get_computer_choice()\n",
    "        user_choice = get_user_choice()\n",
    "        \n",
    "        #we want to show the user what the computer chose   \n",
    "        print(\"Computer chose: \", computer_choice)\n",
    "        \n",
    "        #assign the determine_winner function result to the variable 'winner'\n",
    "        winner = determine_winner(user_choice, computer_choice)\n",
    "        print(winner)\n",
    "        \n",
    "        #if result has a winner, then we can exit the loop and the game is over\n",
    "        #the textbook required the game be played again if there's a tie\n",
    "        if winner != \"It's a tie!\":\n",
    "            #I want the loop to end if there IS a winner.\n",
    "            break\n",
    "        #otherwise we restart\n",
    "        else:\n",
    "            print(\"Restarting because there was a tie.\")\n",
    "            \n",
    "main()"
   ]
  },
  {
   "cell_type": "markdown",
   "id": "4a0a68ac",
   "metadata": {},
   "source": [
    "Yep, I put my code into chat GPT to check the user input issue, and it said everything was fine, which we know isn't true, then I specifically put in the user input validation segment and asked again and it suggested the while loop for that. So I had forgot to put in a loop to check until the input was True.\n",
    "I think this last example here is a decent example of spelling errors, the formatting for capital (or not) letters, an example of a tie and restart, and example of a You Win message."
   ]
  },
  {
   "cell_type": "code",
   "execution_count": null,
   "id": "8ed1ba14",
   "metadata": {},
   "outputs": [],
   "source": []
  }
 ],
 "metadata": {
  "kernelspec": {
   "display_name": "Python 3 (ipykernel)",
   "language": "python",
   "name": "python3"
  },
  "language_info": {
   "codemirror_mode": {
    "name": "ipython",
    "version": 3
   },
   "file_extension": ".py",
   "mimetype": "text/x-python",
   "name": "python",
   "nbconvert_exporter": "python",
   "pygments_lexer": "ipython3",
   "version": "3.11.4"
  }
 },
 "nbformat": 4,
 "nbformat_minor": 5
}
