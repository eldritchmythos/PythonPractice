{
 "cells": [
  {
   "cell_type": "markdown",
   "id": "eabfef89",
   "metadata": {},
   "source": [
    "# Chapter 5 Exercises\n",
    "## Algorithm Workbench Ex. 1, 9, and _\n",
    "I chose these two questions because I was reading through the questions and thought this was a repeat/typo initially, so I'm going to work through them both because I want to find out how they are different from each other. I think I'll also do an extra question from here as well, for more practice."
   ]
  },
  {
   "cell_type": "markdown",
   "id": "1b6802db",
   "metadata": {},
   "source": [
    "### Algorithm Workbench Ex. 1\n",
    "Write a function named times_ten, the function should accept an argument and display the product of its argument multiplied times 10."
   ]
  },
  {
   "cell_type": "code",
   "execution_count": 1,
   "id": "d8bb3ec0",
   "metadata": {},
   "outputs": [
    {
     "name": "stdout",
     "output_type": "stream",
     "text": [
      "80\n"
     ]
    }
   ],
   "source": [
    "#define the function named times_ten\n",
    "def times_ten(number):\n",
    "    #multiply the number by 10, I stored it in the variable answer\n",
    "    answer = number * 10\n",
    "    #display the result\n",
    "    print(answer)\n",
    "\n",
    "#call the function times_ten, put in a number and see if it works.\n",
    "times_ten(8)"
   ]
  },
  {
   "cell_type": "code",
   "execution_count": 2,
   "id": "f672f057",
   "metadata": {},
   "outputs": [
    {
     "name": "stdout",
     "output_type": "stream",
     "text": [
      "4000\n"
     ]
    }
   ],
   "source": [
    "times_ten(400)"
   ]
  },
  {
   "cell_type": "markdown",
   "id": "73170020",
   "metadata": {},
   "source": [
    "So from here actually, I think I am seeing why the two questions are different, so if I just did the first question it would end here, just displaying a result but if I do question 9, its taking this function a step further by returning a result. So the first question is asking for a void function and the second question is asking for a value returning function. Ok, cool.\n",
    "\n",
    "### Algorithm Workbench Ex. 9\n",
    "Write a function named times_ten, that accepts a number as an argument. When the function is called, it should __return__ the value of its argument multiplied by 10."
   ]
  },
  {
   "cell_type": "code",
   "execution_count": 4,
   "id": "cc4ff901",
   "metadata": {},
   "outputs": [
    {
     "name": "stdout",
     "output_type": "stream",
     "text": [
      "Please enter a number to be multiplied by ten: 10\n",
      "100\n"
     ]
    }
   ],
   "source": [
    "#define the function named times_ten\n",
    "def times_ten(number):\n",
    "    #multiply the number by 10, I stored it in the variable result\n",
    "    result = number * 10\n",
    "    #display the result\n",
    "    return result\n",
    "\n",
    "# I feel like asking the user for a number.\n",
    "user_input = int(input(\"Please enter a number to be multiplied by ten: \"))\n",
    "\n",
    "#call the function times_ten with input from the user, and store the result\n",
    "result = times_ten(user_input)\n",
    "\n",
    "#display the result\n",
    "print (result)"
   ]
  },
  {
   "cell_type": "code",
   "execution_count": 8,
   "id": "aa5cf7cd",
   "metadata": {},
   "outputs": [
    {
     "name": "stdout",
     "output_type": "stream",
     "text": [
      "Please enter a number to be multiplied by ten: 100\n",
      "Your number multiplied by ten is: 1000\n"
     ]
    }
   ],
   "source": [
    "#define the function named times_ten\n",
    "def times_ten(number):\n",
    "    #multiply the number by 10, I stored it in the variable result\n",
    "    result = number * 10\n",
    "    #display the result\n",
    "    return result\n",
    "\n",
    "# I feel like asking the user for a number.\n",
    "user_input = int(input(\"Please enter a number to be multiplied by ten: \"))\n",
    "\n",
    "#call the function times_ten with input from the user, and store the result\n",
    "result = times_ten(user_input)\n",
    "\n",
    "#display the result, I added a message for the user\n",
    "print (\"Your number multiplied by ten is:\",result)"
   ]
  },
  {
   "cell_type": "markdown",
   "id": "0bb11f18",
   "metadata": {},
   "source": [
    "### Algorithm Workbench Ex. 7\n",
    "Write code for a function based on the provided statement, assume the number variable references a float value: \n",
    "result = half(number)"
   ]
  },
  {
   "cell_type": "code",
   "execution_count": 11,
   "id": "282b7d50",
   "metadata": {},
   "outputs": [
    {
     "name": "stdout",
     "output_type": "stream",
     "text": [
      "Half of 5.0 is 2.5\n"
     ]
    }
   ],
   "source": [
    "#define the half function\n",
    "def half (number):\n",
    "    #divide the variable number by 2 and return that value\n",
    "    return number / 2\n",
    "\n",
    "#give the 'number' variable a float value\n",
    "number = float(5)\n",
    "\n",
    "# call the half function and return a value that is half that of the argument\n",
    "# to the variable 'result'\n",
    "# this was provided in the question\n",
    "result = half(number)\n",
    "\n",
    "#display result\n",
    "print(\"Half of\", number, \"is\", result)"
   ]
  },
  {
   "cell_type": "markdown",
   "id": "d0ad9b08",
   "metadata": {},
   "source": [
    "### Programming Ex. 1, Kilometer Converter\n",
    "here we are asked to write a program that asks a user to enter a distance in kilometers, then converts that to miles. Conversion formula is provided.\n",
    "Miles = kilometers * 0.6214"
   ]
  },
  {
   "cell_type": "code",
   "execution_count": null,
   "id": "34de48fc",
   "metadata": {},
   "outputs": [],
   "source": [
    "#create the variable kilometers and ask the user for input\n",
    "kilometers = float (input(\"Please enter the number of kilometers: \"))\n",
    "\n",
    "def "
   ]
  }
 ],
 "metadata": {
  "kernelspec": {
   "display_name": "Python 3 (ipykernel)",
   "language": "python",
   "name": "python3"
  },
  "language_info": {
   "codemirror_mode": {
    "name": "ipython",
    "version": 3
   },
   "file_extension": ".py",
   "mimetype": "text/x-python",
   "name": "python",
   "nbconvert_exporter": "python",
   "pygments_lexer": "ipython3",
   "version": "3.11.4"
  }
 },
 "nbformat": 4,
 "nbformat_minor": 5
}
