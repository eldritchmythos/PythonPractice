{
 "cells": [
  {
   "cell_type": "markdown",
   "id": "a2b85490",
   "metadata": {},
   "source": [
    "# Chapter 2 Exercises"
   ]
  },
  {
   "cell_type": "markdown",
   "id": "eb1f48eb",
   "metadata": {},
   "source": [
    "## Algorithm Workbench- Number 11"
   ]
  },
  {
   "cell_type": "markdown",
   "id": "0528a233",
   "metadata": {},
   "source": [
    "here we are asked to assume that the variable \"number\" has been given a value\n",
    "then we are asked to write a Python statement that displays that value\n",
    "formatted to a specific decimal point and containing commas\n",
    "\n",
    "the value provided in the question looks like\n",
    "\n",
    "number = 1234567.456 \n",
    "\n",
    "The desired result should look like this:\n",
    "\"1,2344,567.5\"\n",
    "Notice there are commas and the decimal point has been rounded to one decimal"
   ]
  },
  {
   "cell_type": "code",
   "execution_count": 3,
   "id": "f60f47d2",
   "metadata": {},
   "outputs": [],
   "source": [
    "number = 1234567.456"
   ]
  },
  {
   "cell_type": "code",
   "execution_count": 4,
   "id": "6a3fdca5",
   "metadata": {},
   "outputs": [
    {
     "name": "stdout",
     "output_type": "stream",
     "text": [
      "1,234,567.5\n"
     ]
    }
   ],
   "source": [
    "print(f'{number:,.1f}')"
   ]
  },
  {
   "cell_type": "markdown",
   "id": "8ada8f9e",
   "metadata": {},
   "source": [
    "I used an f string to directly format and print the value of the the number variable. I used the print function to output the value of \"number\" to the console. I put in our variable \"number\", then the \":\" starts the format specifier, the \",\" is the thousands seperator, and the \".1\" specifies that we are rounding to 1 digit after the decimal point, \"f\" formats the number as a floating point number."
   ]
  },
  {
   "cell_type": "markdown",
   "id": "6ea7d5eb",
   "metadata": {},
   "source": [
    "## Programming Exercises- Number 9 and 13"
   ]
  },
  {
   "cell_type": "markdown",
   "id": "31d72828",
   "metadata": {},
   "source": [
    "I'm going to start with problem 13\n",
    "\n",
    "## 13 Planting Grapevines\n",
    "\n",
    "Here we are asked to write a program to calculate the number of grapevines that can fit in a row based on a provided formula."
   ]
  },
  {
   "cell_type": "code",
   "execution_count": null,
   "id": "ae7e97b0",
   "metadata": {},
   "outputs": [],
   "source": [
    "#we need to ask a user for some information\n",
    "#I'm going to start by asking the user for the length of the row in feet\n",
    "print(\"Please enter the length of the row, in feet:\")\n",
    "#waiting for user input for the value of length and convert to a float\n",
    "length = float(input())"
   ]
  },
  {
   "cell_type": "code",
   "execution_count": null,
   "id": "4005f715",
   "metadata": {},
   "outputs": [],
   "source": [
    "#I need to figure out how to format the user's input so it's uniform in case the user has fractions of a foot to input\n",
    "#I am going to convert the numbers to float using the float function\n",
    "\n",
    "#now I will try to ask the user for the rest of the information making sure to format their input to a float\n",
    "\n",
    "print(\"Please enter the amount of space used by one endpost assembly, in feet:\")\n",
    "end_post_space = float(input())\n",
    "#I specified \"one\" here in my prompt since I'm doubling that amount in the calculation later\n",
    "\n",
    "print(\"Please also enter the amount of space between the vines, in feet:\")\n",
    "vine_space = float(input())\n",
    "\n",
    "#now I will calculate the number of grapevines per row based on the user input"
   ]
  },
  {
   "cell_type": "code",
   "execution_count": null,
   "id": "c31c3b39",
   "metadata": {},
   "outputs": [],
   "source": [
    "vines_per_row = (length - 2 * end_post_space) / vine_space"
   ]
  },
  {
   "cell_type": "code",
   "execution_count": null,
   "id": "bdeaaefb",
   "metadata": {},
   "outputs": [],
   "source": [
    "#now to display a result\n",
    "print(f\"The number of grapevines that can fit in a row is: {vines_per_row:,.2f} \")"
   ]
  },
  {
   "cell_type": "code",
   "execution_count": null,
   "id": "0b93a88a",
   "metadata": {},
   "outputs": [],
   "source": [
    "#I realized there could be long decimals or long numbers perhaps, so I just went back to tidy up a bit and have our output be formatted to 2 decimal places and to have commas"
   ]
  },
  {
   "cell_type": "markdown",
   "id": "403fed5b",
   "metadata": {},
   "source": [
    "## Problem 9- Celsius to Farenheit Temperature Converter"
   ]
  },
  {
   "cell_type": "code",
   "execution_count": null,
   "id": "fbd772c1",
   "metadata": {},
   "outputs": [],
   "source": [
    "# I will start by asking the user to input the temperature in Celsius\n",
    "print (\"Please enter the temperature in degrees Celsius:\")\n",
    "degrees_celsius = float(input())\n",
    "#here I used the float function to convert the user input to a floating-point number\n",
    "#then we wait for some input\n",
    "\n",
    "#then onward to calculation! I am using the formula provided to convert Celsius to degrees Farenheit\n",
    "degrees_farenheit= 9 / 5 * degrees_celsius + 32\n",
    "\n",
    "#now to display the converted temperature\n",
    "print(f\"The temperature in degrees Farenheit is: {degrees_farenheit:,.2f}\")"
   ]
  },
  {
   "cell_type": "code",
   "execution_count": null,
   "id": "88bbf922",
   "metadata": {},
   "outputs": [],
   "source": []
  }
 ],
 "metadata": {
  "kernelspec": {
   "display_name": "Python 3 (ipykernel)",
   "language": "python",
   "name": "python3"
  },
  "language_info": {
   "codemirror_mode": {
    "name": "ipython",
    "version": 3
   },
   "file_extension": ".py",
   "mimetype": "text/x-python",
   "name": "python",
   "nbconvert_exporter": "python",
   "pygments_lexer": "ipython3",
   "version": "3.11.4"
  }
 },
 "nbformat": 4,
 "nbformat_minor": 5
}
