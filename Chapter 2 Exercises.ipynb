{
 "cells": [
  {
   "cell_type": "markdown",
   "id": "a2b85490",
   "metadata": {},
   "source": [
    "# Chapter 2 Exercises"
   ]
  },
  {
   "cell_type": "markdown",
   "id": "eb1f48eb",
   "metadata": {},
   "source": [
    "## Algorithm Workbench- Number 11"
   ]
  },
  {
   "cell_type": "markdown",
   "id": "0528a233",
   "metadata": {},
   "source": [
    "here we are asked to assume that the variable \"number\" has been given a value\n",
    "then we are asked to write a Python statement that displays that value\n",
    "formatted to a specific decimal point and containing commas\n",
    "\n",
    "the value provided in the question looks like\n",
    "\n",
    "number = 1234567.456 \n",
    "\n",
    "The desired result should look like this:\n",
    "\"1,2344,567.5\"\n",
    "Notice there are commas and the decimal point has been rounded to one decimal"
   ]
  },
  {
   "cell_type": "code",
   "execution_count": 3,
   "id": "f60f47d2",
   "metadata": {},
   "outputs": [],
   "source": [
    "number = 1234567.456"
   ]
  },
  {
   "cell_type": "code",
   "execution_count": 4,
   "id": "6a3fdca5",
   "metadata": {},
   "outputs": [
    {
     "name": "stdout",
     "output_type": "stream",
     "text": [
      "1,234,567.5\n"
     ]
    }
   ],
   "source": [
    "print(f'{number:,.1f}')"
   ]
  },
  {
   "cell_type": "markdown",
   "id": "8ada8f9e",
   "metadata": {},
   "source": [
    "I used an f string to directly format and print the value of the the number variable. I used the print function to output the value of \"number\" to the console. I put in our variable \"number\", then the \":\" starts the format specifier, the \",\" is the thousands seperator, and the \".1\" specifies that we are rounding to 1 digit after the decimal point, \"f\" formats the number as a floating point number."
   ]
  },
  {
   "cell_type": "markdown",
   "id": "6ea7d5eb",
   "metadata": {},
   "source": [
    "## Programming Exercises- Number ? and 13"
   ]
  },
  {
   "cell_type": "markdown",
   "id": "60638e6a",
   "metadata": {},
   "source": [
    "I'm going to start with problem 13, since I feel a bit in over my head in this section.\n",
    "\n",
    "## 13 Planting Grapevines\n",
    "\n"
   ]
  }
 ],
 "metadata": {
  "kernelspec": {
   "display_name": "Python 3 (ipykernel)",
   "language": "python",
   "name": "python3"
  },
  "language_info": {
   "codemirror_mode": {
    "name": "ipython",
    "version": 3
   },
   "file_extension": ".py",
   "mimetype": "text/x-python",
   "name": "python",
   "nbconvert_exporter": "python",
   "pygments_lexer": "ipython3",
   "version": "3.11.4"
  }
 },
 "nbformat": 4,
 "nbformat_minor": 5
}
